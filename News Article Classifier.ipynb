{
  "nbformat": 4,
  "nbformat_minor": 0,
  "metadata": {
    "colab": {
      "provenance": []
    },
    "kernelspec": {
      "name": "python3",
      "display_name": "Python 3"
    },
    "language_info": {
      "name": "python"
    }
  },
  "cells": [
    {
      "cell_type": "code",
      "execution_count": null,
      "metadata": {
        "id": "-zkv9bEmbYEe",
        "colab": {
          "base_uri": "https://localhost:8080/"
        },
        "outputId": "f354f69f-571e-436f-83ac-a438c6185c04"
      },
      "outputs": [
        {
          "output_type": "stream",
          "name": "stderr",
          "text": [
            "[nltk_data] Downloading package punkt to /root/nltk_data...\n",
            "[nltk_data]   Unzipping tokenizers/punkt.zip.\n",
            "[nltk_data] Downloading package stopwords to /root/nltk_data...\n",
            "[nltk_data]   Unzipping corpora/stopwords.zip.\n",
            "[nltk_data] Downloading package wordnet to /root/nltk_data...\n",
            "[nltk_data] Downloading package omw-1.4 to /root/nltk_data...\n"
          ]
        }
      ],
      "source": [
        "import pandas as pd \n",
        "import matplotlib.pyplot as plt\n",
        "import numpy as np \n",
        "import seaborn as sns\n",
        "import os\n",
        "import pandas as pd \n",
        "import numpy as np \n",
        "import os\n",
        "import string\n",
        "from nltk.tokenize import word_tokenize\n",
        "import nltk\n",
        "import tensorflow as tf\n",
        "from nltk.stem.porter import PorterStemmer\n",
        "from nltk.stem import WordNetLemmatizer\n",
        "from tensorflow import keras\n",
        "from tensorflow.keras.preprocessing.text import one_hot\n",
        "from tensorflow.keras.preprocessing.text import Tokenizer\n",
        "from tensorflow.keras.preprocessing.sequence import pad_sequences\n",
        "from tensorflow.keras.models import Sequential\n",
        "from tensorflow.keras.layers import Dense, LSTM, SpatialDropout1D, Flatten\n",
        "from tensorflow.keras.layers import Embedding\n",
        "from sklearn.model_selection import train_test_split\n",
        "\n",
        "nltk.download('punkt')\n",
        "nltk.download('stopwords')\n",
        "nltk.download('wordnet')\n",
        "nltk.download('omw-1.4')\n",
        "plt.style.use('ggplot')"
      ]
    },
    {
      "cell_type": "code",
      "source": [
        "from google.colab import drive\n",
        "drive.mount('/content/drive')"
      ],
      "metadata": {
        "colab": {
          "base_uri": "https://localhost:8080/"
        },
        "id": "S7MOei7pmu14",
        "outputId": "e07c804e-b736-4ab3-aec7-a6f71cd96103"
      },
      "execution_count": null,
      "outputs": [
        {
          "output_type": "stream",
          "name": "stdout",
          "text": [
            "Drive already mounted at /content/drive; to attempt to forcibly remount, call drive.mount(\"/content/drive\", force_remount=True).\n"
          ]
        }
      ]
    },
    {
      "cell_type": "code",
      "source": [
        "cd '/content/drive/MyDrive/CSED/NLP project/'"
      ],
      "metadata": {
        "colab": {
          "base_uri": "https://localhost:8080/"
        },
        "id": "HN01aVmtmsyX",
        "outputId": "da3f22f6-3f1e-43ad-e482-4cbee3a700d8"
      },
      "execution_count": null,
      "outputs": [
        {
          "output_type": "stream",
          "name": "stdout",
          "text": [
            "/content/drive/.shortcut-targets-by-id/1jqOctliSPEGoz5SYLIjppTYM5NggcN2U/NLP project\n"
          ]
        }
      ]
    },
    {
      "cell_type": "code",
      "source": [
        "BBC_Train = pd.read_csv('BBC News Train.csv')\n",
        "BBC_Train.head(10)"
      ],
      "metadata": {
        "colab": {
          "base_uri": "https://localhost:8080/",
          "height": 1000
        },
        "id": "qbIe-Uhvm4ND",
        "outputId": "399d5a74-7865-48de-e224-0d943bcb7f4d"
      },
      "execution_count": null,
      "outputs": [
        {
          "output_type": "execute_result",
          "data": {
            "text/plain": [
              "   ArticleId  \\\n",
              "0       1833   \n",
              "1        154   \n",
              "2       1101   \n",
              "3       1976   \n",
              "4        917   \n",
              "5       1582   \n",
              "6        651   \n",
              "7       1797   \n",
              "8       2034   \n",
              "9       1866   \n",
              "\n",
              "                                                                                                                                                                                                                                                                                                                                                                                                                                                                                                                                                                                                                                                                                                                                                                                                                                                                                                                                                                                                                                                                                                                                                                                                                                                                                                                                                                                                                                                                                                                                                                                                                                                                                                                                                                                                                                                                                                                                                                                                                                                                                                                                                                                                                                                                                                                                                                                                                                                                                                                                                                                                                                                                                                                                                                                                                                                                                                                                                                                                                                                                                                                                                                                                                                                                                                                                                                                                                                                                                                                                                                                                                                                                                                                                                                 Text  \\\n",
              "0                                                                                                                                                                                                                                                                                                                                                                                                                                                                                                                                                                                                                                                                                                                                                                                                                                                                                                                                                                                                                                                                                                                                                                                                                                                                                                                                                                                                                                                                                                                                                                                                                                                                                                                                                                                                                          worldcom ex-boss launches defence lawyers defending former worldcom chief bernie ebbers against a battery of fraud charges have called a company whistleblower as their first witness.  cynthia cooper  worldcom s ex-head of internal accounting  alerted directors to irregular accounting practices at the us telecoms giant in 2002. her warnings led to the collapse of the firm following the discovery of an $11bn (£5.7bn) accounting fraud. mr ebbers has pleaded not guilty to charges of fraud and conspiracy.  prosecution lawyers have argued that mr ebbers orchestrated a series of accounting tricks at worldcom  ordering employees to hide expenses and inflate revenues to meet wall street earnings estimates. but ms cooper  who now runs her own consulting business  told a jury in new york on wednesday that external auditors arthur andersen had approved worldcom s accounting in early 2001 and 2002. she said andersen had given a  green light  to the procedures and practices used by worldcom. mr ebber s lawyers have said he was unaware of the fraud  arguing that auditors did not alert him to any problems.  ms cooper also said that during shareholder meetings mr ebbers often passed over technical questions to the company s finance chief  giving only  brief  answers himself. the prosecution s star witness  former worldcom financial chief scott sullivan  has said that mr ebbers ordered accounting adjustments at the firm  telling him to  hit our books . however  ms cooper said mr sullivan had not mentioned  anything uncomfortable  about worldcom s accounting during a 2001 audit committee meeting. mr ebbers could face a jail sentence of 85 years if convicted of all the charges he is facing. worldcom emerged from bankruptcy protection in 2004  and is now known as mci. last week  mci agreed to a buyout by verizon communications in a deal valued at $6.75bn.   \n",
              "1                                                                                                                                                                                                                                                                                                                                                                                                                                                                                                                                                                                                                                                                                                                                                                                                                                                                                                                                                                                                                                                                                                                                                                                                                                                                                                                                                                                                                                                                                                                                                                                                                                                                    german business confidence slides german business confidence fell in february knocking hopes of a speedy recovery in europe s largest economy.  munich-based research institute ifo said that its confidence index fell to 95.5 in february from 97.5 in january  its first decline in three months. the study found that the outlook in both the manufacturing and retail sectors had worsened. observers had been hoping that a more confident business sector would signal that economic activity was picking up.   we re surprised that the ifo index has taken such a knock   said dz bank economist bernd weidensteiner.  the main reason is probably that the domestic economy is still weak  particularly in the retail trade.  economy and labour minister wolfgang clement called the dip in february s ifo confidence figure  a very mild decline . he said that despite the retreat  the index remained at a relatively high level and that he expected  a modest economic upswing  to continue.  germany s economy grew 1.6% last year after shrinking in 2003. however  the economy contracted by 0.2% during the last three months of 2004  mainly due to the reluctance of consumers to spend. latest indications are that growth is still proving elusive and ifo president hans-werner sinn said any improvement in german domestic demand was sluggish. exports had kept things going during the first half of 2004  but demand for exports was then hit as the value of the euro hit record levels making german products less competitive overseas. on top of that  the unemployment rate has been stuck at close to 10% and manufacturing firms  including daimlerchrysler  siemens and volkswagen  have been negotiating with unions over cost cutting measures. analysts said that the ifo figures and germany s continuing problems may delay an interest rate rise by the european central bank. eurozone interest rates are at 2%  but comments from senior officials have recently focused on the threat of inflation  prompting fears that interest rates may rise.   \n",
              "2                                                                                                                                                                                                                                                                                                                                                                                                                                                                                                                                    bbc poll indicates economic gloom citizens in a majority of nations surveyed in a bbc world service poll believe the world economy is worsening.  most respondents also said their national economy was getting worse. but when asked about their own family s financial outlook  a majority in 14 countries said they were positive about the future. almost 23 000 people in 22 countries were questioned for the poll  which was mostly conducted before the asian tsunami disaster. the poll found that a majority or plurality of people in 13 countries believed the economy was going downhill  compared with respondents in nine countries who believed it was improving. those surveyed in three countries were split. in percentage terms  an average of 44% of respondents in each country said the world economy was getting worse  compared to 34% who said it was improving. similarly  48% were pessimistic about their national economy  while 41% were optimistic. and 47% saw their family s economic conditions improving  as against 36% who said they were getting worse.  the poll of 22 953 people was conducted by the international polling firm globescan  together with the program on international policy attitudes (pipa) at the university of maryland.  while the world economy has picked up from difficult times just a few years ago  people seem to not have fully absorbed this development  though they are personally experiencing its effects   said pipa director steven kull.  people around the world are saying:  i m ok  but the world isn t .  there may be a perception that war  terrorism and religious and political divisions are making the world a worse place  even though that has not so far been reflected in global economic performance  says the bbc s elizabeth blunt.  the countries where people were most optimistic  both for the world and for their own families  were two fast-growing developing economies  china and india  followed by indonesia. china has seen two decades of blistering economic growth  which has led to wealth creation on a huge scale  says the bbc s louisa lim in beijing. but the results also may reflect the untrammelled confidence of people who are subject to endless government propaganda about their country s rosy economic future  our correspondent says. south korea was the most pessimistic  while respondents in italy and mexico were also quite gloomy. the bbc s david willey in rome says one reason for that result is the changeover from the lira to the euro in 2001  which is widely viewed as the biggest reason why their wages and salaries are worth less than they used to be. the philippines was among the most upbeat countries on prospects for respondents  families  but one of the most pessimistic about the world economy. pipa conducted the poll from 15 november 2004 to 3 january 2005 across 22 countries in face-to-face or telephone interviews. the interviews took place between 15 november 2004 and 5 january 2005. the margin of error is between 2.5 and 4 points  depending on the country. in eight of the countries  the sample was limited to major metropolitan areas.   \n",
              "3  lifestyle  governs mobile choice  faster  better or funkier hardware alone is not going to help phone firms sell more handsets  research suggests.  instead  phone firms keen to get more out of their customers should not just be pushing the technology for its own sake. consumers are far more interested in how handsets fit in with their lifestyle than they are in screen size  onboard memory or the chip inside  shows an in-depth study by handset maker ericsson.  historically in the industry there has been too much focus on using technology   said dr michael bjorn  senior advisor on mobile media at ericsson s consumer and enterprise lab.  we have to stop saying that these technologies will change their lives   he said.  we should try to speak to consumers in their own language and help them see how it fits in with what they are doing   he told the bbc news website.  for the study  ericsson interviewed 14 000 mobile phone owners on the ways they use their phone.  people s habits remain the same   said dr bjorn.  they just move the activity into the mobile phone as it s a much more convenient way to do it.   one good example of this was diary-writing among younger people  he said. while diaries have always been popular  a mobile phone -- especially one equipped with a camera -- helps them keep it in a different form. youngsters  use of text messages also reflects their desire to chat and keep in contact with friends and again just lets them do it in a slightly changed way. dr bjorn said that although consumers do what they always did but use a phone to do it  the sheer variety of what the new handset technologies make possible does gradually drive new habits and lifestyles. ericsson s research has shown that consumers divide into different  tribes  that use phones in different ways. dr bjorn said groups dubbed  pioneers  and  materialists  were most interested in trying new things and were behind the start of many trends in phone use.  for instance   he said   older people are using sms much more than they did five years ago.  this was because younger users  often the children of ageing mobile owners  encouraged older people to try it so they could keep in touch.  another factor governing the speed of change in mobile phone use was the simple speed with which new devices are bought by pioneers and materialists. only when about 25% of people have handsets with new innovations on them  such as cameras  can consumers stop worrying that if they send a picture message the person at the other end will be able to see it.  once this significant number of users is passed  use of new innovations tends to take off. dr bjorn said that early reports of camera phone usage in japan seemed to imply that the innovation was going to be a flop. however  he said  now 45% of the japanese people ericsson questioned use their camera phone at least once a month. in 2003 the figure was 29%. similarly  across europe the numbers of people taking snaps with cameras is starting to rise. in 2003 only 4% of the people in the uk took a phonecam snap at least once a month. now the figure is 14%. similar rises have been seen in many other european nations. dr bjorn said that people also used their camera phones in very different ways to film and even digital cameras.  usage patterns for digital cameras are almost exactly replacing usage patterns for analogue cameras   he said. digital cameras tend to be used on significant events such as weddings  holidays and birthdays. by contrast  he said  camera phones were being used much more to capture a moment and were being woven into everyday life.   \n",
              "4                                                                                                                                                                                                                                                                                                                                                                                                                                                                                                                                                                                                                                                                                                                                                                                                                                                                                                                                                                                                                                                                                                                                                                                                                                                                                                                                                                                                                                                                                      enron bosses in $168m payout eighteen former enron directors have agreed a $168m (£89m) settlement deal in a shareholder lawsuit over the collapse of the energy firm.  leading plaintiff  the university of california  announced the news  adding that 10 of the former directors will pay $13m from their own pockets. the settlement will be put to the courts for approval next week. enron went bankrupt in 2001 after it emerged it had hidden hundreds of millions of dollars in debt.  before its collapse  the firm was the seventh biggest public us company by revenue. its demise sent shockwaves through financial markets and dented investor confidence in corporate america.   the settlement is very significant in holding these outside directors at least partially personally responsible   william lerach  the lawyer leading the class action suit against enron  said.  hopefully  this will help send a message to corporate boardrooms of the importance of directors performing their legal duties   he added. under the terms of the $168m settlement - $155m of which will be covered by insurance - none of the 18 former directors will admit any wrongdoing. the deal is the fourth major settlement negotiated by lawyers who filed a class action on behalf of enron s shareholders almost three years ago. so far  including the latest deal  just under $500m (£378.8m) has been retrieved for investors.  however  the latest deal does not include former enron chief executives ken lay and jeff skilling. both men are facing criminal charges for their alleged misconduct in the run up to the firm s collapse. neither does it cover andrew fastow  who has pleaded guilty to taking part in an illegal conspiracy while he was chief financial officer at the group. enron s shareholders are still seeking damages from a long list of other big name defendants including the financial institutions jp morgan chase  citigroup  merrill lynch and credit suisse first boston. the university of california said the trial in the case is scheduled to begin in october 2006. it joined the lawsuit in december 2001alleging  massive insider trading  and fraud  claiming it had lost $145m on its investments in the company.   \n",
              "5                                                                                                                                                                                                                                                                                                                                                                                                                                                                                                                                                                                                                                                                                                                                                                                                                                                                                                                                                                                                                                                                                                                                                                                                                                                                                                                                                                                                                                                                                                                                                                                                                                                                                                                                                                                                                                                                                                                                                                                                                                                                                                                howard  truanted to play snooker  conservative leader michael howard has admitted he used to play truant to spend time with his school friends at a snooker hall.  mr howard said his time at jack s snooker hall in llanelli in the 1950s had not done him  any lasting damage . but he told the times educational supplement that truancy was  very bad  and said  firm action  was needed. mr howard also called for a return to o-levels and more classroom discipline.  mr howard eventually left llanelli grammar school - and the snooker hall - to go to cambridge university. he said:  i don t think it s done me any lasting damage. nor has it made me a snooker world champion.  there might have been some occasions when we left early of an afternoon.   i m just being honest. i think truancy is a very bad thing and that firm action should be taken to deal with it.  another player who has failed to win snooker s world championship - jimmy  the whirlwind   white - has previously admitted missing lessons  instead spending his days in smoky halls.  tony meo [another player] and me used to spend all of our spare time there   mr white said   we loved the game and the atmosphere.  school went out of the window. i went for a while and then started taking time off.  mr howard s fellow welshman ray reardon - known by his fellow professionals as  dracula  - won the snooker world championship six times  having left school at 14 to work as a miner. and terry griffiths  like mr howard from llanelli  won the tournament in 1979. it is not known whether the two of them ever clashed cues at jack s.   \n",
              "6                                                                                                                                                                                                                                                                                                                                                                                                                                                                                                                                                                                                                                                                                                                                                                                                                                                                                                                                                                                                                                                                                                                                                                                                                                                                                                                                                                                                                                                                                                                                                                                                                                                                                                wales silent on grand slam talk rhys williams says wales are still not thinking of winning the grand slam despite a third six nations win.   that s the last thing on our minds at the moment   said williams  a second- half replacement in saturday s 24-18 win over france in paris.  we all realise how difficult a task it is to go up to scotland and beat them.  we ve come unstuck there a couple of times recently so our focus is on that game and we ll worry about ireland hopefully after we ve beaten scotland.  with captain gareth thomas ruled out of the rest of the campaign with a broken thumb  williams is vying for his first start in the championship so far.  kevin morgan is probably favourite to replace thomas at full-back  leaving williams and hal luscombe to battle for the right wing berth. a hamstring injury denied luscombe the opportunity to make a third successive start  but the dragons winger is expected to be fit for the trip to murrayfield on 13 march. hooker robin mcbryde is doubtful after picking up a knee injury in paris  but centre sonny parker and flanker colin charvis are set to recover from injury to be in contention for selection. said wales assistant coach scott johnson:  they ve worked through the weekend and the reports are a bit more positive.  so we re getting a couple back and that adds to the depth of the squad.  scotland secured their first win of the campaign on saturday by grinding out an 18-10 win over italy.  matt williams  side has shown little in attack  but johnson insisted the scots will be difficult opposition to break down.  italy are really brave opposition and sometimes it s very hard to win   he said.  so an ugly win can be just as effective as a 30 or 40 point victory.  scotland are a hard side and very underrated so we re not taking anything for granted.  we re not basking in the glory of winning our first three games. we ve got to be diligent in our preparation.  that s my job and we ve got to make sure we re focused.   \n",
              "7                                                                                                                                                                                                                                                                                                                                                                                                                                                                                                                                                                                                                                                                                                                                                                                                                                                                                                                                                                                                                                                                                                                                                                                                                                                                                                                                                                                                                                                                                                                                                                                                                                                                                                                                                                                                                                                                                                                                                                                                                                                                                                                                                                                                                                                                                                                                                                      french honour for director parker british film director sir alan parker has been made an officer in the order of arts and letters  one of france s highest cultural honours.  sir alan received his decoration in paris on wednesday from french culture minister renaud donnedieu de vabres.  you have explored the possibilities of film with an immense talent   mr de vabres said as he presented the award. parker praised french films  saying:  hollywood  which created modern cinema  uses it only as a commodity.  he told the minister:  i am honoured to be thus distinguished by france  the flag carrier of cinema throughout the world.  sir alan s films include oscar-winning fame plus midnight express and the commitments.  a founding member of the director s guild of great britain  he is a former chairman of the uk film council and on the board of the british film institute.  through your work and your campaigns  you have shown us how the artist occupies an essential place in our contemporary society   mr de vabres said.  through your dreams which you show us  through the links that you weave  you question the world through the mirror of your work.  he also cited the director s 2003 film the life of david gale  in which kevin spacey played a man on death row  as proof of his  veritable artistic commitment against the death sentence .   \n",
              "8                                                                                                                                                                                                                                                                                                                                                                                                                                                                                                                                                                                                                                                                                                                                                                                                                                                                                                                                                                                                                                                   car giant hit by mercedes slump a slump in profitability at luxury car maker mercedes has prompted a big drop in profits at parent daimlerchrysler.  the german-us carmaker saw fourth quarter operating profits fall to 785m euros ($1bn) from 2.4bn euros in 2003. mercedes-benz s woes - its profits slid to just 20m euros - obscured a strong performance from the chrysler group whose returns met market expectations. mercedes faces fierce competition in the luxury car sector from bmw and but hopes to revive its fortunes by 2006.  mercedes  profits over the period compared unfavourably with 2003 s 784m euro figure and were well below analyst expectations of 374m euros. for the year as a whole  its operating profits fell 46% to 1.6bn euros. sales of mercedes  brands fell 2% as demand cooled  while revenues were affected by the weakness of the us dollar.  the carmaker blamed the fall in profits on high launch costs for new models and losses from its mercedes smart mini-car range. mercedes is hoping to increase productivity by 3bn euros  having negotiated 500m euros in annual savings with german workers last year. the firm said it was determined to retain mercedes  position as the world s most successful luxury brand. however  daimlerchrysler s shares fell 1.5% on the news.  while all these divisions are doing well the big worries continue to surround mercedes-benz   michael rabb  an analyst with bank sal oppenheim  told reuters.  in contrast  chrysler enjoyed a 5% annual increase in unit sales while revenues - calculated in us dollars - rose 10%. the us division - whose marques include dodge and jeep - transformed a full year operating loss of 506m euros in 2003 into a 1.4bn euros profit last year.  overall  daimlerchrysler saw worldwide vehicle sales rise 8% to 4.7 million in 2004 while total revenues added 4% to 142bn euros. chrysler s strong performance helped the world s fifth largest carmaker boost net income by 400m euros to 2.5bn euros.   the year 2004 shows that our strategy works well - even in such a challenging competitive environment   said jurgen schrempp  daimlerchrysler s chairman. daimlerchrysler took a 475m euro hit in costs stemming from a defects scandal at its joint venture  japanese subsidiary fuso. daimlerchrysler last week agreed a compensation package with partner mitsubishi motors which will see it buy out its stake in fuso. looking forward  daimerchrysler s profits are expected to be slightly higher in 2005. however  it is expecting  significant improvements  in profitability in 2006 as a result of a major investment in the mercedes product range.   \n",
              "9                                                                                                                                                                                                                                                                                                                                                                                                                                                                                                                                                                                                                                                                                                                                                                                                                                                                                                                                                                                                                                                                                                                                                                                                                                                                                                                                                                                                                                                                                                                                                                                                                                                                                                                                                                                                                                                                                                                                                                                                                                                                                                                                                                                                                                                                                                                                            fockers fuel festive film chart comedy meet the fockers topped the festive box office in north america  setting a new record for christmas day.  the sequel took $44.7m (£23.2m) between 24 and 26 december  according to studio estimates. it took $19.1m (£9.9m) on christmas day alone  the highest takings on that day in box office history. meet the fockers is the sequel to ben stiller comedy meet the parents  also starring robert de niro  blythe danner  dustin hoffman and barbra streisand. despite the success of meet the fockers  takings were down 26.5% on 2003 s figures - which was blamed on christmas falling over a weekend this year.   when christmas falls on a weekend  it s bad for business   said paul dergarabedian  president of exhibitor relations  which compiles box office statistics. the weekend s top 12 films took an estimated $121.9m (£63.3m)  compared with $165.8m (£86.1m) last year  when the third lord of the rings film dominated the box office. meet the fockers knocked last week s top film  lemony snicket s a series of unfortunate events  down to third place  with $12.5m (£6.5m). comedy fat albert - co-written by bill cosby - entered the chart in second place after opening on christmas day  taking $12.7m (£6.6m). the aviator  starring leonardo dicaprio as howard hughes  took $9.4m after expanding from 40 to 1 796 cinemas on christmas day.   \n",
              "\n",
              "        Category  \n",
              "0       business  \n",
              "1       business  \n",
              "2       business  \n",
              "3           tech  \n",
              "4       business  \n",
              "5       politics  \n",
              "6          sport  \n",
              "7  entertainment  \n",
              "8       business  \n",
              "9  entertainment  "
            ],
            "text/html": [
              "\n",
              "  <div id=\"df-8fdb7b4b-b5e1-4b40-8254-dcbe256fcb9c\">\n",
              "    <div class=\"colab-df-container\">\n",
              "      <div>\n",
              "<style scoped>\n",
              "    .dataframe tbody tr th:only-of-type {\n",
              "        vertical-align: middle;\n",
              "    }\n",
              "\n",
              "    .dataframe tbody tr th {\n",
              "        vertical-align: top;\n",
              "    }\n",
              "\n",
              "    .dataframe thead th {\n",
              "        text-align: right;\n",
              "    }\n",
              "</style>\n",
              "<table border=\"1\" class=\"dataframe\">\n",
              "  <thead>\n",
              "    <tr style=\"text-align: right;\">\n",
              "      <th></th>\n",
              "      <th>ArticleId</th>\n",
              "      <th>Text</th>\n",
              "      <th>Category</th>\n",
              "    </tr>\n",
              "  </thead>\n",
              "  <tbody>\n",
              "    <tr>\n",
              "      <th>0</th>\n",
              "      <td>1833</td>\n",
              "      <td>worldcom ex-boss launches defence lawyers defending former worldcom chief bernie ebbers against a battery of fraud charges have called a company whistleblower as their first witness.  cynthia cooper  worldcom s ex-head of internal accounting  alerted directors to irregular accounting practices at the us telecoms giant in 2002. her warnings led to the collapse of the firm following the discovery of an $11bn (£5.7bn) accounting fraud. mr ebbers has pleaded not guilty to charges of fraud and conspiracy.  prosecution lawyers have argued that mr ebbers orchestrated a series of accounting tricks at worldcom  ordering employees to hide expenses and inflate revenues to meet wall street earnings estimates. but ms cooper  who now runs her own consulting business  told a jury in new york on wednesday that external auditors arthur andersen had approved worldcom s accounting in early 2001 and 2002. she said andersen had given a  green light  to the procedures and practices used by worldcom. mr ebber s lawyers have said he was unaware of the fraud  arguing that auditors did not alert him to any problems.  ms cooper also said that during shareholder meetings mr ebbers often passed over technical questions to the company s finance chief  giving only  brief  answers himself. the prosecution s star witness  former worldcom financial chief scott sullivan  has said that mr ebbers ordered accounting adjustments at the firm  telling him to  hit our books . however  ms cooper said mr sullivan had not mentioned  anything uncomfortable  about worldcom s accounting during a 2001 audit committee meeting. mr ebbers could face a jail sentence of 85 years if convicted of all the charges he is facing. worldcom emerged from bankruptcy protection in 2004  and is now known as mci. last week  mci agreed to a buyout by verizon communications in a deal valued at $6.75bn.</td>\n",
              "      <td>business</td>\n",
              "    </tr>\n",
              "    <tr>\n",
              "      <th>1</th>\n",
              "      <td>154</td>\n",
              "      <td>german business confidence slides german business confidence fell in february knocking hopes of a speedy recovery in europe s largest economy.  munich-based research institute ifo said that its confidence index fell to 95.5 in february from 97.5 in january  its first decline in three months. the study found that the outlook in both the manufacturing and retail sectors had worsened. observers had been hoping that a more confident business sector would signal that economic activity was picking up.   we re surprised that the ifo index has taken such a knock   said dz bank economist bernd weidensteiner.  the main reason is probably that the domestic economy is still weak  particularly in the retail trade.  economy and labour minister wolfgang clement called the dip in february s ifo confidence figure  a very mild decline . he said that despite the retreat  the index remained at a relatively high level and that he expected  a modest economic upswing  to continue.  germany s economy grew 1.6% last year after shrinking in 2003. however  the economy contracted by 0.2% during the last three months of 2004  mainly due to the reluctance of consumers to spend. latest indications are that growth is still proving elusive and ifo president hans-werner sinn said any improvement in german domestic demand was sluggish. exports had kept things going during the first half of 2004  but demand for exports was then hit as the value of the euro hit record levels making german products less competitive overseas. on top of that  the unemployment rate has been stuck at close to 10% and manufacturing firms  including daimlerchrysler  siemens and volkswagen  have been negotiating with unions over cost cutting measures. analysts said that the ifo figures and germany s continuing problems may delay an interest rate rise by the european central bank. eurozone interest rates are at 2%  but comments from senior officials have recently focused on the threat of inflation  prompting fears that interest rates may rise.</td>\n",
              "      <td>business</td>\n",
              "    </tr>\n",
              "    <tr>\n",
              "      <th>2</th>\n",
              "      <td>1101</td>\n",
              "      <td>bbc poll indicates economic gloom citizens in a majority of nations surveyed in a bbc world service poll believe the world economy is worsening.  most respondents also said their national economy was getting worse. but when asked about their own family s financial outlook  a majority in 14 countries said they were positive about the future. almost 23 000 people in 22 countries were questioned for the poll  which was mostly conducted before the asian tsunami disaster. the poll found that a majority or plurality of people in 13 countries believed the economy was going downhill  compared with respondents in nine countries who believed it was improving. those surveyed in three countries were split. in percentage terms  an average of 44% of respondents in each country said the world economy was getting worse  compared to 34% who said it was improving. similarly  48% were pessimistic about their national economy  while 41% were optimistic. and 47% saw their family s economic conditions improving  as against 36% who said they were getting worse.  the poll of 22 953 people was conducted by the international polling firm globescan  together with the program on international policy attitudes (pipa) at the university of maryland.  while the world economy has picked up from difficult times just a few years ago  people seem to not have fully absorbed this development  though they are personally experiencing its effects   said pipa director steven kull.  people around the world are saying:  i m ok  but the world isn t .  there may be a perception that war  terrorism and religious and political divisions are making the world a worse place  even though that has not so far been reflected in global economic performance  says the bbc s elizabeth blunt.  the countries where people were most optimistic  both for the world and for their own families  were two fast-growing developing economies  china and india  followed by indonesia. china has seen two decades of blistering economic growth  which has led to wealth creation on a huge scale  says the bbc s louisa lim in beijing. but the results also may reflect the untrammelled confidence of people who are subject to endless government propaganda about their country s rosy economic future  our correspondent says. south korea was the most pessimistic  while respondents in italy and mexico were also quite gloomy. the bbc s david willey in rome says one reason for that result is the changeover from the lira to the euro in 2001  which is widely viewed as the biggest reason why their wages and salaries are worth less than they used to be. the philippines was among the most upbeat countries on prospects for respondents  families  but one of the most pessimistic about the world economy. pipa conducted the poll from 15 november 2004 to 3 january 2005 across 22 countries in face-to-face or telephone interviews. the interviews took place between 15 november 2004 and 5 january 2005. the margin of error is between 2.5 and 4 points  depending on the country. in eight of the countries  the sample was limited to major metropolitan areas.</td>\n",
              "      <td>business</td>\n",
              "    </tr>\n",
              "    <tr>\n",
              "      <th>3</th>\n",
              "      <td>1976</td>\n",
              "      <td>lifestyle  governs mobile choice  faster  better or funkier hardware alone is not going to help phone firms sell more handsets  research suggests.  instead  phone firms keen to get more out of their customers should not just be pushing the technology for its own sake. consumers are far more interested in how handsets fit in with their lifestyle than they are in screen size  onboard memory or the chip inside  shows an in-depth study by handset maker ericsson.  historically in the industry there has been too much focus on using technology   said dr michael bjorn  senior advisor on mobile media at ericsson s consumer and enterprise lab.  we have to stop saying that these technologies will change their lives   he said.  we should try to speak to consumers in their own language and help them see how it fits in with what they are doing   he told the bbc news website.  for the study  ericsson interviewed 14 000 mobile phone owners on the ways they use their phone.  people s habits remain the same   said dr bjorn.  they just move the activity into the mobile phone as it s a much more convenient way to do it.   one good example of this was diary-writing among younger people  he said. while diaries have always been popular  a mobile phone -- especially one equipped with a camera -- helps them keep it in a different form. youngsters  use of text messages also reflects their desire to chat and keep in contact with friends and again just lets them do it in a slightly changed way. dr bjorn said that although consumers do what they always did but use a phone to do it  the sheer variety of what the new handset technologies make possible does gradually drive new habits and lifestyles. ericsson s research has shown that consumers divide into different  tribes  that use phones in different ways. dr bjorn said groups dubbed  pioneers  and  materialists  were most interested in trying new things and were behind the start of many trends in phone use.  for instance   he said   older people are using sms much more than they did five years ago.  this was because younger users  often the children of ageing mobile owners  encouraged older people to try it so they could keep in touch.  another factor governing the speed of change in mobile phone use was the simple speed with which new devices are bought by pioneers and materialists. only when about 25% of people have handsets with new innovations on them  such as cameras  can consumers stop worrying that if they send a picture message the person at the other end will be able to see it.  once this significant number of users is passed  use of new innovations tends to take off. dr bjorn said that early reports of camera phone usage in japan seemed to imply that the innovation was going to be a flop. however  he said  now 45% of the japanese people ericsson questioned use their camera phone at least once a month. in 2003 the figure was 29%. similarly  across europe the numbers of people taking snaps with cameras is starting to rise. in 2003 only 4% of the people in the uk took a phonecam snap at least once a month. now the figure is 14%. similar rises have been seen in many other european nations. dr bjorn said that people also used their camera phones in very different ways to film and even digital cameras.  usage patterns for digital cameras are almost exactly replacing usage patterns for analogue cameras   he said. digital cameras tend to be used on significant events such as weddings  holidays and birthdays. by contrast  he said  camera phones were being used much more to capture a moment and were being woven into everyday life.</td>\n",
              "      <td>tech</td>\n",
              "    </tr>\n",
              "    <tr>\n",
              "      <th>4</th>\n",
              "      <td>917</td>\n",
              "      <td>enron bosses in $168m payout eighteen former enron directors have agreed a $168m (£89m) settlement deal in a shareholder lawsuit over the collapse of the energy firm.  leading plaintiff  the university of california  announced the news  adding that 10 of the former directors will pay $13m from their own pockets. the settlement will be put to the courts for approval next week. enron went bankrupt in 2001 after it emerged it had hidden hundreds of millions of dollars in debt.  before its collapse  the firm was the seventh biggest public us company by revenue. its demise sent shockwaves through financial markets and dented investor confidence in corporate america.   the settlement is very significant in holding these outside directors at least partially personally responsible   william lerach  the lawyer leading the class action suit against enron  said.  hopefully  this will help send a message to corporate boardrooms of the importance of directors performing their legal duties   he added. under the terms of the $168m settlement - $155m of which will be covered by insurance - none of the 18 former directors will admit any wrongdoing. the deal is the fourth major settlement negotiated by lawyers who filed a class action on behalf of enron s shareholders almost three years ago. so far  including the latest deal  just under $500m (£378.8m) has been retrieved for investors.  however  the latest deal does not include former enron chief executives ken lay and jeff skilling. both men are facing criminal charges for their alleged misconduct in the run up to the firm s collapse. neither does it cover andrew fastow  who has pleaded guilty to taking part in an illegal conspiracy while he was chief financial officer at the group. enron s shareholders are still seeking damages from a long list of other big name defendants including the financial institutions jp morgan chase  citigroup  merrill lynch and credit suisse first boston. the university of california said the trial in the case is scheduled to begin in october 2006. it joined the lawsuit in december 2001alleging  massive insider trading  and fraud  claiming it had lost $145m on its investments in the company.</td>\n",
              "      <td>business</td>\n",
              "    </tr>\n",
              "    <tr>\n",
              "      <th>5</th>\n",
              "      <td>1582</td>\n",
              "      <td>howard  truanted to play snooker  conservative leader michael howard has admitted he used to play truant to spend time with his school friends at a snooker hall.  mr howard said his time at jack s snooker hall in llanelli in the 1950s had not done him  any lasting damage . but he told the times educational supplement that truancy was  very bad  and said  firm action  was needed. mr howard also called for a return to o-levels and more classroom discipline.  mr howard eventually left llanelli grammar school - and the snooker hall - to go to cambridge university. he said:  i don t think it s done me any lasting damage. nor has it made me a snooker world champion.  there might have been some occasions when we left early of an afternoon.   i m just being honest. i think truancy is a very bad thing and that firm action should be taken to deal with it.  another player who has failed to win snooker s world championship - jimmy  the whirlwind   white - has previously admitted missing lessons  instead spending his days in smoky halls.  tony meo [another player] and me used to spend all of our spare time there   mr white said   we loved the game and the atmosphere.  school went out of the window. i went for a while and then started taking time off.  mr howard s fellow welshman ray reardon - known by his fellow professionals as  dracula  - won the snooker world championship six times  having left school at 14 to work as a miner. and terry griffiths  like mr howard from llanelli  won the tournament in 1979. it is not known whether the two of them ever clashed cues at jack s.</td>\n",
              "      <td>politics</td>\n",
              "    </tr>\n",
              "    <tr>\n",
              "      <th>6</th>\n",
              "      <td>651</td>\n",
              "      <td>wales silent on grand slam talk rhys williams says wales are still not thinking of winning the grand slam despite a third six nations win.   that s the last thing on our minds at the moment   said williams  a second- half replacement in saturday s 24-18 win over france in paris.  we all realise how difficult a task it is to go up to scotland and beat them.  we ve come unstuck there a couple of times recently so our focus is on that game and we ll worry about ireland hopefully after we ve beaten scotland.  with captain gareth thomas ruled out of the rest of the campaign with a broken thumb  williams is vying for his first start in the championship so far.  kevin morgan is probably favourite to replace thomas at full-back  leaving williams and hal luscombe to battle for the right wing berth. a hamstring injury denied luscombe the opportunity to make a third successive start  but the dragons winger is expected to be fit for the trip to murrayfield on 13 march. hooker robin mcbryde is doubtful after picking up a knee injury in paris  but centre sonny parker and flanker colin charvis are set to recover from injury to be in contention for selection. said wales assistant coach scott johnson:  they ve worked through the weekend and the reports are a bit more positive.  so we re getting a couple back and that adds to the depth of the squad.  scotland secured their first win of the campaign on saturday by grinding out an 18-10 win over italy.  matt williams  side has shown little in attack  but johnson insisted the scots will be difficult opposition to break down.  italy are really brave opposition and sometimes it s very hard to win   he said.  so an ugly win can be just as effective as a 30 or 40 point victory.  scotland are a hard side and very underrated so we re not taking anything for granted.  we re not basking in the glory of winning our first three games. we ve got to be diligent in our preparation.  that s my job and we ve got to make sure we re focused.</td>\n",
              "      <td>sport</td>\n",
              "    </tr>\n",
              "    <tr>\n",
              "      <th>7</th>\n",
              "      <td>1797</td>\n",
              "      <td>french honour for director parker british film director sir alan parker has been made an officer in the order of arts and letters  one of france s highest cultural honours.  sir alan received his decoration in paris on wednesday from french culture minister renaud donnedieu de vabres.  you have explored the possibilities of film with an immense talent   mr de vabres said as he presented the award. parker praised french films  saying:  hollywood  which created modern cinema  uses it only as a commodity.  he told the minister:  i am honoured to be thus distinguished by france  the flag carrier of cinema throughout the world.  sir alan s films include oscar-winning fame plus midnight express and the commitments.  a founding member of the director s guild of great britain  he is a former chairman of the uk film council and on the board of the british film institute.  through your work and your campaigns  you have shown us how the artist occupies an essential place in our contemporary society   mr de vabres said.  through your dreams which you show us  through the links that you weave  you question the world through the mirror of your work.  he also cited the director s 2003 film the life of david gale  in which kevin spacey played a man on death row  as proof of his  veritable artistic commitment against the death sentence .</td>\n",
              "      <td>entertainment</td>\n",
              "    </tr>\n",
              "    <tr>\n",
              "      <th>8</th>\n",
              "      <td>2034</td>\n",
              "      <td>car giant hit by mercedes slump a slump in profitability at luxury car maker mercedes has prompted a big drop in profits at parent daimlerchrysler.  the german-us carmaker saw fourth quarter operating profits fall to 785m euros ($1bn) from 2.4bn euros in 2003. mercedes-benz s woes - its profits slid to just 20m euros - obscured a strong performance from the chrysler group whose returns met market expectations. mercedes faces fierce competition in the luxury car sector from bmw and but hopes to revive its fortunes by 2006.  mercedes  profits over the period compared unfavourably with 2003 s 784m euro figure and were well below analyst expectations of 374m euros. for the year as a whole  its operating profits fell 46% to 1.6bn euros. sales of mercedes  brands fell 2% as demand cooled  while revenues were affected by the weakness of the us dollar.  the carmaker blamed the fall in profits on high launch costs for new models and losses from its mercedes smart mini-car range. mercedes is hoping to increase productivity by 3bn euros  having negotiated 500m euros in annual savings with german workers last year. the firm said it was determined to retain mercedes  position as the world s most successful luxury brand. however  daimlerchrysler s shares fell 1.5% on the news.  while all these divisions are doing well the big worries continue to surround mercedes-benz   michael rabb  an analyst with bank sal oppenheim  told reuters.  in contrast  chrysler enjoyed a 5% annual increase in unit sales while revenues - calculated in us dollars - rose 10%. the us division - whose marques include dodge and jeep - transformed a full year operating loss of 506m euros in 2003 into a 1.4bn euros profit last year.  overall  daimlerchrysler saw worldwide vehicle sales rise 8% to 4.7 million in 2004 while total revenues added 4% to 142bn euros. chrysler s strong performance helped the world s fifth largest carmaker boost net income by 400m euros to 2.5bn euros.   the year 2004 shows that our strategy works well - even in such a challenging competitive environment   said jurgen schrempp  daimlerchrysler s chairman. daimlerchrysler took a 475m euro hit in costs stemming from a defects scandal at its joint venture  japanese subsidiary fuso. daimlerchrysler last week agreed a compensation package with partner mitsubishi motors which will see it buy out its stake in fuso. looking forward  daimerchrysler s profits are expected to be slightly higher in 2005. however  it is expecting  significant improvements  in profitability in 2006 as a result of a major investment in the mercedes product range.</td>\n",
              "      <td>business</td>\n",
              "    </tr>\n",
              "    <tr>\n",
              "      <th>9</th>\n",
              "      <td>1866</td>\n",
              "      <td>fockers fuel festive film chart comedy meet the fockers topped the festive box office in north america  setting a new record for christmas day.  the sequel took $44.7m (£23.2m) between 24 and 26 december  according to studio estimates. it took $19.1m (£9.9m) on christmas day alone  the highest takings on that day in box office history. meet the fockers is the sequel to ben stiller comedy meet the parents  also starring robert de niro  blythe danner  dustin hoffman and barbra streisand. despite the success of meet the fockers  takings were down 26.5% on 2003 s figures - which was blamed on christmas falling over a weekend this year.   when christmas falls on a weekend  it s bad for business   said paul dergarabedian  president of exhibitor relations  which compiles box office statistics. the weekend s top 12 films took an estimated $121.9m (£63.3m)  compared with $165.8m (£86.1m) last year  when the third lord of the rings film dominated the box office. meet the fockers knocked last week s top film  lemony snicket s a series of unfortunate events  down to third place  with $12.5m (£6.5m). comedy fat albert - co-written by bill cosby - entered the chart in second place after opening on christmas day  taking $12.7m (£6.6m). the aviator  starring leonardo dicaprio as howard hughes  took $9.4m after expanding from 40 to 1 796 cinemas on christmas day.</td>\n",
              "      <td>entertainment</td>\n",
              "    </tr>\n",
              "  </tbody>\n",
              "</table>\n",
              "</div>\n",
              "      <button class=\"colab-df-convert\" onclick=\"convertToInteractive('df-8fdb7b4b-b5e1-4b40-8254-dcbe256fcb9c')\"\n",
              "              title=\"Convert this dataframe to an interactive table.\"\n",
              "              style=\"display:none;\">\n",
              "        \n",
              "  <svg xmlns=\"http://www.w3.org/2000/svg\" height=\"24px\"viewBox=\"0 0 24 24\"\n",
              "       width=\"24px\">\n",
              "    <path d=\"M0 0h24v24H0V0z\" fill=\"none\"/>\n",
              "    <path d=\"M18.56 5.44l.94 2.06.94-2.06 2.06-.94-2.06-.94-.94-2.06-.94 2.06-2.06.94zm-11 1L8.5 8.5l.94-2.06 2.06-.94-2.06-.94L8.5 2.5l-.94 2.06-2.06.94zm10 10l.94 2.06.94-2.06 2.06-.94-2.06-.94-.94-2.06-.94 2.06-2.06.94z\"/><path d=\"M17.41 7.96l-1.37-1.37c-.4-.4-.92-.59-1.43-.59-.52 0-1.04.2-1.43.59L10.3 9.45l-7.72 7.72c-.78.78-.78 2.05 0 2.83L4 21.41c.39.39.9.59 1.41.59.51 0 1.02-.2 1.41-.59l7.78-7.78 2.81-2.81c.8-.78.8-2.07 0-2.86zM5.41 20L4 18.59l7.72-7.72 1.47 1.35L5.41 20z\"/>\n",
              "  </svg>\n",
              "      </button>\n",
              "      \n",
              "  <style>\n",
              "    .colab-df-container {\n",
              "      display:flex;\n",
              "      flex-wrap:wrap;\n",
              "      gap: 12px;\n",
              "    }\n",
              "\n",
              "    .colab-df-convert {\n",
              "      background-color: #E8F0FE;\n",
              "      border: none;\n",
              "      border-radius: 50%;\n",
              "      cursor: pointer;\n",
              "      display: none;\n",
              "      fill: #1967D2;\n",
              "      height: 32px;\n",
              "      padding: 0 0 0 0;\n",
              "      width: 32px;\n",
              "    }\n",
              "\n",
              "    .colab-df-convert:hover {\n",
              "      background-color: #E2EBFA;\n",
              "      box-shadow: 0px 1px 2px rgba(60, 64, 67, 0.3), 0px 1px 3px 1px rgba(60, 64, 67, 0.15);\n",
              "      fill: #174EA6;\n",
              "    }\n",
              "\n",
              "    [theme=dark] .colab-df-convert {\n",
              "      background-color: #3B4455;\n",
              "      fill: #D2E3FC;\n",
              "    }\n",
              "\n",
              "    [theme=dark] .colab-df-convert:hover {\n",
              "      background-color: #434B5C;\n",
              "      box-shadow: 0px 1px 3px 1px rgba(0, 0, 0, 0.15);\n",
              "      filter: drop-shadow(0px 1px 2px rgba(0, 0, 0, 0.3));\n",
              "      fill: #FFFFFF;\n",
              "    }\n",
              "  </style>\n",
              "\n",
              "      <script>\n",
              "        const buttonEl =\n",
              "          document.querySelector('#df-8fdb7b4b-b5e1-4b40-8254-dcbe256fcb9c button.colab-df-convert');\n",
              "        buttonEl.style.display =\n",
              "          google.colab.kernel.accessAllowed ? 'block' : 'none';\n",
              "\n",
              "        async function convertToInteractive(key) {\n",
              "          const element = document.querySelector('#df-8fdb7b4b-b5e1-4b40-8254-dcbe256fcb9c');\n",
              "          const dataTable =\n",
              "            await google.colab.kernel.invokeFunction('convertToInteractive',\n",
              "                                                     [key], {});\n",
              "          if (!dataTable) return;\n",
              "\n",
              "          const docLinkHtml = 'Like what you see? Visit the ' +\n",
              "            '<a target=\"_blank\" href=https://colab.research.google.com/notebooks/data_table.ipynb>data table notebook</a>'\n",
              "            + ' to learn more about interactive tables.';\n",
              "          element.innerHTML = '';\n",
              "          dataTable['output_type'] = 'display_data';\n",
              "          await google.colab.output.renderOutput(dataTable, element);\n",
              "          const docLink = document.createElement('div');\n",
              "          docLink.innerHTML = docLinkHtml;\n",
              "          element.appendChild(docLink);\n",
              "        }\n",
              "      </script>\n",
              "    </div>\n",
              "  </div>\n",
              "  "
            ]
          },
          "metadata": {},
          "execution_count": 66
        }
      ]
    },
    {
      "cell_type": "markdown",
      "source": [
        "Removing \"ArticleId\" column"
      ],
      "metadata": {
        "id": "gHKm0lG2njwN"
      }
    },
    {
      "cell_type": "code",
      "source": [
        "train_data = BBC_Train[[\"Text\",\"Category\"]]\n",
        "train_data.head()"
      ],
      "metadata": {
        "colab": {
          "base_uri": "https://localhost:8080/",
          "height": 1000
        },
        "id": "vSnBNR1Qm8Wl",
        "outputId": "69f8128d-6d59-44d1-f945-0852cb4571db"
      },
      "execution_count": null,
      "outputs": [
        {
          "output_type": "execute_result",
          "data": {
            "text/plain": [
              "                                                                                                                                                                                                                                                                                                                                                                                                                                                                                                                                                                                                                                                                                                                                                                                                                                                                                                                                                                                                                                                                                                                                                                                                                                                                                                                                                                                                                                                                                                                                                                                                                                                                                                                                                                                                                                                                                                                                                                                                                                                                                                                                                                                                                                                                                                                                                                                                                                                                                                                                                                                                                                                                                                                                                                                                                                                                                                                                                                                                                                                                                                                                                                                                                                                                                                                                                                                                                                                                                                                                                                                                                                                                                                                                                                 Text  \\\n",
              "0                                                                                                                                                                                                                                                                                                                                                                                                                                                                                                                                                                                                                                                                                                                                                                                                                                                                                                                                                                                                                                                                                                                                                                                                                                                                                                                                                                                                                                                                                                                                                                                                                                                                                                                                                                                                                          worldcom ex-boss launches defence lawyers defending former worldcom chief bernie ebbers against a battery of fraud charges have called a company whistleblower as their first witness.  cynthia cooper  worldcom s ex-head of internal accounting  alerted directors to irregular accounting practices at the us telecoms giant in 2002. her warnings led to the collapse of the firm following the discovery of an $11bn (£5.7bn) accounting fraud. mr ebbers has pleaded not guilty to charges of fraud and conspiracy.  prosecution lawyers have argued that mr ebbers orchestrated a series of accounting tricks at worldcom  ordering employees to hide expenses and inflate revenues to meet wall street earnings estimates. but ms cooper  who now runs her own consulting business  told a jury in new york on wednesday that external auditors arthur andersen had approved worldcom s accounting in early 2001 and 2002. she said andersen had given a  green light  to the procedures and practices used by worldcom. mr ebber s lawyers have said he was unaware of the fraud  arguing that auditors did not alert him to any problems.  ms cooper also said that during shareholder meetings mr ebbers often passed over technical questions to the company s finance chief  giving only  brief  answers himself. the prosecution s star witness  former worldcom financial chief scott sullivan  has said that mr ebbers ordered accounting adjustments at the firm  telling him to  hit our books . however  ms cooper said mr sullivan had not mentioned  anything uncomfortable  about worldcom s accounting during a 2001 audit committee meeting. mr ebbers could face a jail sentence of 85 years if convicted of all the charges he is facing. worldcom emerged from bankruptcy protection in 2004  and is now known as mci. last week  mci agreed to a buyout by verizon communications in a deal valued at $6.75bn.   \n",
              "1                                                                                                                                                                                                                                                                                                                                                                                                                                                                                                                                                                                                                                                                                                                                                                                                                                                                                                                                                                                                                                                                                                                                                                                                                                                                                                                                                                                                                                                                                                                                                                                                                                                                    german business confidence slides german business confidence fell in february knocking hopes of a speedy recovery in europe s largest economy.  munich-based research institute ifo said that its confidence index fell to 95.5 in february from 97.5 in january  its first decline in three months. the study found that the outlook in both the manufacturing and retail sectors had worsened. observers had been hoping that a more confident business sector would signal that economic activity was picking up.   we re surprised that the ifo index has taken such a knock   said dz bank economist bernd weidensteiner.  the main reason is probably that the domestic economy is still weak  particularly in the retail trade.  economy and labour minister wolfgang clement called the dip in february s ifo confidence figure  a very mild decline . he said that despite the retreat  the index remained at a relatively high level and that he expected  a modest economic upswing  to continue.  germany s economy grew 1.6% last year after shrinking in 2003. however  the economy contracted by 0.2% during the last three months of 2004  mainly due to the reluctance of consumers to spend. latest indications are that growth is still proving elusive and ifo president hans-werner sinn said any improvement in german domestic demand was sluggish. exports had kept things going during the first half of 2004  but demand for exports was then hit as the value of the euro hit record levels making german products less competitive overseas. on top of that  the unemployment rate has been stuck at close to 10% and manufacturing firms  including daimlerchrysler  siemens and volkswagen  have been negotiating with unions over cost cutting measures. analysts said that the ifo figures and germany s continuing problems may delay an interest rate rise by the european central bank. eurozone interest rates are at 2%  but comments from senior officials have recently focused on the threat of inflation  prompting fears that interest rates may rise.   \n",
              "2                                                                                                                                                                                                                                                                                                                                                                                                                                                                                                                                    bbc poll indicates economic gloom citizens in a majority of nations surveyed in a bbc world service poll believe the world economy is worsening.  most respondents also said their national economy was getting worse. but when asked about their own family s financial outlook  a majority in 14 countries said they were positive about the future. almost 23 000 people in 22 countries were questioned for the poll  which was mostly conducted before the asian tsunami disaster. the poll found that a majority or plurality of people in 13 countries believed the economy was going downhill  compared with respondents in nine countries who believed it was improving. those surveyed in three countries were split. in percentage terms  an average of 44% of respondents in each country said the world economy was getting worse  compared to 34% who said it was improving. similarly  48% were pessimistic about their national economy  while 41% were optimistic. and 47% saw their family s economic conditions improving  as against 36% who said they were getting worse.  the poll of 22 953 people was conducted by the international polling firm globescan  together with the program on international policy attitudes (pipa) at the university of maryland.  while the world economy has picked up from difficult times just a few years ago  people seem to not have fully absorbed this development  though they are personally experiencing its effects   said pipa director steven kull.  people around the world are saying:  i m ok  but the world isn t .  there may be a perception that war  terrorism and religious and political divisions are making the world a worse place  even though that has not so far been reflected in global economic performance  says the bbc s elizabeth blunt.  the countries where people were most optimistic  both for the world and for their own families  were two fast-growing developing economies  china and india  followed by indonesia. china has seen two decades of blistering economic growth  which has led to wealth creation on a huge scale  says the bbc s louisa lim in beijing. but the results also may reflect the untrammelled confidence of people who are subject to endless government propaganda about their country s rosy economic future  our correspondent says. south korea was the most pessimistic  while respondents in italy and mexico were also quite gloomy. the bbc s david willey in rome says one reason for that result is the changeover from the lira to the euro in 2001  which is widely viewed as the biggest reason why their wages and salaries are worth less than they used to be. the philippines was among the most upbeat countries on prospects for respondents  families  but one of the most pessimistic about the world economy. pipa conducted the poll from 15 november 2004 to 3 january 2005 across 22 countries in face-to-face or telephone interviews. the interviews took place between 15 november 2004 and 5 january 2005. the margin of error is between 2.5 and 4 points  depending on the country. in eight of the countries  the sample was limited to major metropolitan areas.   \n",
              "3  lifestyle  governs mobile choice  faster  better or funkier hardware alone is not going to help phone firms sell more handsets  research suggests.  instead  phone firms keen to get more out of their customers should not just be pushing the technology for its own sake. consumers are far more interested in how handsets fit in with their lifestyle than they are in screen size  onboard memory or the chip inside  shows an in-depth study by handset maker ericsson.  historically in the industry there has been too much focus on using technology   said dr michael bjorn  senior advisor on mobile media at ericsson s consumer and enterprise lab.  we have to stop saying that these technologies will change their lives   he said.  we should try to speak to consumers in their own language and help them see how it fits in with what they are doing   he told the bbc news website.  for the study  ericsson interviewed 14 000 mobile phone owners on the ways they use their phone.  people s habits remain the same   said dr bjorn.  they just move the activity into the mobile phone as it s a much more convenient way to do it.   one good example of this was diary-writing among younger people  he said. while diaries have always been popular  a mobile phone -- especially one equipped with a camera -- helps them keep it in a different form. youngsters  use of text messages also reflects their desire to chat and keep in contact with friends and again just lets them do it in a slightly changed way. dr bjorn said that although consumers do what they always did but use a phone to do it  the sheer variety of what the new handset technologies make possible does gradually drive new habits and lifestyles. ericsson s research has shown that consumers divide into different  tribes  that use phones in different ways. dr bjorn said groups dubbed  pioneers  and  materialists  were most interested in trying new things and were behind the start of many trends in phone use.  for instance   he said   older people are using sms much more than they did five years ago.  this was because younger users  often the children of ageing mobile owners  encouraged older people to try it so they could keep in touch.  another factor governing the speed of change in mobile phone use was the simple speed with which new devices are bought by pioneers and materialists. only when about 25% of people have handsets with new innovations on them  such as cameras  can consumers stop worrying that if they send a picture message the person at the other end will be able to see it.  once this significant number of users is passed  use of new innovations tends to take off. dr bjorn said that early reports of camera phone usage in japan seemed to imply that the innovation was going to be a flop. however  he said  now 45% of the japanese people ericsson questioned use their camera phone at least once a month. in 2003 the figure was 29%. similarly  across europe the numbers of people taking snaps with cameras is starting to rise. in 2003 only 4% of the people in the uk took a phonecam snap at least once a month. now the figure is 14%. similar rises have been seen in many other european nations. dr bjorn said that people also used their camera phones in very different ways to film and even digital cameras.  usage patterns for digital cameras are almost exactly replacing usage patterns for analogue cameras   he said. digital cameras tend to be used on significant events such as weddings  holidays and birthdays. by contrast  he said  camera phones were being used much more to capture a moment and were being woven into everyday life.   \n",
              "4                                                                                                                                                                                                                                                                                                                                                                                                                                                                                                                                                                                                                                                                                                                                                                                                                                                                                                                                                                                                                                                                                                                                                                                                                                                                                                                                                                                                                                                                                      enron bosses in $168m payout eighteen former enron directors have agreed a $168m (£89m) settlement deal in a shareholder lawsuit over the collapse of the energy firm.  leading plaintiff  the university of california  announced the news  adding that 10 of the former directors will pay $13m from their own pockets. the settlement will be put to the courts for approval next week. enron went bankrupt in 2001 after it emerged it had hidden hundreds of millions of dollars in debt.  before its collapse  the firm was the seventh biggest public us company by revenue. its demise sent shockwaves through financial markets and dented investor confidence in corporate america.   the settlement is very significant in holding these outside directors at least partially personally responsible   william lerach  the lawyer leading the class action suit against enron  said.  hopefully  this will help send a message to corporate boardrooms of the importance of directors performing their legal duties   he added. under the terms of the $168m settlement - $155m of which will be covered by insurance - none of the 18 former directors will admit any wrongdoing. the deal is the fourth major settlement negotiated by lawyers who filed a class action on behalf of enron s shareholders almost three years ago. so far  including the latest deal  just under $500m (£378.8m) has been retrieved for investors.  however  the latest deal does not include former enron chief executives ken lay and jeff skilling. both men are facing criminal charges for their alleged misconduct in the run up to the firm s collapse. neither does it cover andrew fastow  who has pleaded guilty to taking part in an illegal conspiracy while he was chief financial officer at the group. enron s shareholders are still seeking damages from a long list of other big name defendants including the financial institutions jp morgan chase  citigroup  merrill lynch and credit suisse first boston. the university of california said the trial in the case is scheduled to begin in october 2006. it joined the lawsuit in december 2001alleging  massive insider trading  and fraud  claiming it had lost $145m on its investments in the company.   \n",
              "\n",
              "   Category  \n",
              "0  business  \n",
              "1  business  \n",
              "2  business  \n",
              "3      tech  \n",
              "4  business  "
            ],
            "text/html": [
              "\n",
              "  <div id=\"df-28d0ef50-97d3-4d74-8806-d60e36fe0d1b\">\n",
              "    <div class=\"colab-df-container\">\n",
              "      <div>\n",
              "<style scoped>\n",
              "    .dataframe tbody tr th:only-of-type {\n",
              "        vertical-align: middle;\n",
              "    }\n",
              "\n",
              "    .dataframe tbody tr th {\n",
              "        vertical-align: top;\n",
              "    }\n",
              "\n",
              "    .dataframe thead th {\n",
              "        text-align: right;\n",
              "    }\n",
              "</style>\n",
              "<table border=\"1\" class=\"dataframe\">\n",
              "  <thead>\n",
              "    <tr style=\"text-align: right;\">\n",
              "      <th></th>\n",
              "      <th>Text</th>\n",
              "      <th>Category</th>\n",
              "    </tr>\n",
              "  </thead>\n",
              "  <tbody>\n",
              "    <tr>\n",
              "      <th>0</th>\n",
              "      <td>worldcom ex-boss launches defence lawyers defending former worldcom chief bernie ebbers against a battery of fraud charges have called a company whistleblower as their first witness.  cynthia cooper  worldcom s ex-head of internal accounting  alerted directors to irregular accounting practices at the us telecoms giant in 2002. her warnings led to the collapse of the firm following the discovery of an $11bn (£5.7bn) accounting fraud. mr ebbers has pleaded not guilty to charges of fraud and conspiracy.  prosecution lawyers have argued that mr ebbers orchestrated a series of accounting tricks at worldcom  ordering employees to hide expenses and inflate revenues to meet wall street earnings estimates. but ms cooper  who now runs her own consulting business  told a jury in new york on wednesday that external auditors arthur andersen had approved worldcom s accounting in early 2001 and 2002. she said andersen had given a  green light  to the procedures and practices used by worldcom. mr ebber s lawyers have said he was unaware of the fraud  arguing that auditors did not alert him to any problems.  ms cooper also said that during shareholder meetings mr ebbers often passed over technical questions to the company s finance chief  giving only  brief  answers himself. the prosecution s star witness  former worldcom financial chief scott sullivan  has said that mr ebbers ordered accounting adjustments at the firm  telling him to  hit our books . however  ms cooper said mr sullivan had not mentioned  anything uncomfortable  about worldcom s accounting during a 2001 audit committee meeting. mr ebbers could face a jail sentence of 85 years if convicted of all the charges he is facing. worldcom emerged from bankruptcy protection in 2004  and is now known as mci. last week  mci agreed to a buyout by verizon communications in a deal valued at $6.75bn.</td>\n",
              "      <td>business</td>\n",
              "    </tr>\n",
              "    <tr>\n",
              "      <th>1</th>\n",
              "      <td>german business confidence slides german business confidence fell in february knocking hopes of a speedy recovery in europe s largest economy.  munich-based research institute ifo said that its confidence index fell to 95.5 in february from 97.5 in january  its first decline in three months. the study found that the outlook in both the manufacturing and retail sectors had worsened. observers had been hoping that a more confident business sector would signal that economic activity was picking up.   we re surprised that the ifo index has taken such a knock   said dz bank economist bernd weidensteiner.  the main reason is probably that the domestic economy is still weak  particularly in the retail trade.  economy and labour minister wolfgang clement called the dip in february s ifo confidence figure  a very mild decline . he said that despite the retreat  the index remained at a relatively high level and that he expected  a modest economic upswing  to continue.  germany s economy grew 1.6% last year after shrinking in 2003. however  the economy contracted by 0.2% during the last three months of 2004  mainly due to the reluctance of consumers to spend. latest indications are that growth is still proving elusive and ifo president hans-werner sinn said any improvement in german domestic demand was sluggish. exports had kept things going during the first half of 2004  but demand for exports was then hit as the value of the euro hit record levels making german products less competitive overseas. on top of that  the unemployment rate has been stuck at close to 10% and manufacturing firms  including daimlerchrysler  siemens and volkswagen  have been negotiating with unions over cost cutting measures. analysts said that the ifo figures and germany s continuing problems may delay an interest rate rise by the european central bank. eurozone interest rates are at 2%  but comments from senior officials have recently focused on the threat of inflation  prompting fears that interest rates may rise.</td>\n",
              "      <td>business</td>\n",
              "    </tr>\n",
              "    <tr>\n",
              "      <th>2</th>\n",
              "      <td>bbc poll indicates economic gloom citizens in a majority of nations surveyed in a bbc world service poll believe the world economy is worsening.  most respondents also said their national economy was getting worse. but when asked about their own family s financial outlook  a majority in 14 countries said they were positive about the future. almost 23 000 people in 22 countries were questioned for the poll  which was mostly conducted before the asian tsunami disaster. the poll found that a majority or plurality of people in 13 countries believed the economy was going downhill  compared with respondents in nine countries who believed it was improving. those surveyed in three countries were split. in percentage terms  an average of 44% of respondents in each country said the world economy was getting worse  compared to 34% who said it was improving. similarly  48% were pessimistic about their national economy  while 41% were optimistic. and 47% saw their family s economic conditions improving  as against 36% who said they were getting worse.  the poll of 22 953 people was conducted by the international polling firm globescan  together with the program on international policy attitudes (pipa) at the university of maryland.  while the world economy has picked up from difficult times just a few years ago  people seem to not have fully absorbed this development  though they are personally experiencing its effects   said pipa director steven kull.  people around the world are saying:  i m ok  but the world isn t .  there may be a perception that war  terrorism and religious and political divisions are making the world a worse place  even though that has not so far been reflected in global economic performance  says the bbc s elizabeth blunt.  the countries where people were most optimistic  both for the world and for their own families  were two fast-growing developing economies  china and india  followed by indonesia. china has seen two decades of blistering economic growth  which has led to wealth creation on a huge scale  says the bbc s louisa lim in beijing. but the results also may reflect the untrammelled confidence of people who are subject to endless government propaganda about their country s rosy economic future  our correspondent says. south korea was the most pessimistic  while respondents in italy and mexico were also quite gloomy. the bbc s david willey in rome says one reason for that result is the changeover from the lira to the euro in 2001  which is widely viewed as the biggest reason why their wages and salaries are worth less than they used to be. the philippines was among the most upbeat countries on prospects for respondents  families  but one of the most pessimistic about the world economy. pipa conducted the poll from 15 november 2004 to 3 january 2005 across 22 countries in face-to-face or telephone interviews. the interviews took place between 15 november 2004 and 5 january 2005. the margin of error is between 2.5 and 4 points  depending on the country. in eight of the countries  the sample was limited to major metropolitan areas.</td>\n",
              "      <td>business</td>\n",
              "    </tr>\n",
              "    <tr>\n",
              "      <th>3</th>\n",
              "      <td>lifestyle  governs mobile choice  faster  better or funkier hardware alone is not going to help phone firms sell more handsets  research suggests.  instead  phone firms keen to get more out of their customers should not just be pushing the technology for its own sake. consumers are far more interested in how handsets fit in with their lifestyle than they are in screen size  onboard memory or the chip inside  shows an in-depth study by handset maker ericsson.  historically in the industry there has been too much focus on using technology   said dr michael bjorn  senior advisor on mobile media at ericsson s consumer and enterprise lab.  we have to stop saying that these technologies will change their lives   he said.  we should try to speak to consumers in their own language and help them see how it fits in with what they are doing   he told the bbc news website.  for the study  ericsson interviewed 14 000 mobile phone owners on the ways they use their phone.  people s habits remain the same   said dr bjorn.  they just move the activity into the mobile phone as it s a much more convenient way to do it.   one good example of this was diary-writing among younger people  he said. while diaries have always been popular  a mobile phone -- especially one equipped with a camera -- helps them keep it in a different form. youngsters  use of text messages also reflects their desire to chat and keep in contact with friends and again just lets them do it in a slightly changed way. dr bjorn said that although consumers do what they always did but use a phone to do it  the sheer variety of what the new handset technologies make possible does gradually drive new habits and lifestyles. ericsson s research has shown that consumers divide into different  tribes  that use phones in different ways. dr bjorn said groups dubbed  pioneers  and  materialists  were most interested in trying new things and were behind the start of many trends in phone use.  for instance   he said   older people are using sms much more than they did five years ago.  this was because younger users  often the children of ageing mobile owners  encouraged older people to try it so they could keep in touch.  another factor governing the speed of change in mobile phone use was the simple speed with which new devices are bought by pioneers and materialists. only when about 25% of people have handsets with new innovations on them  such as cameras  can consumers stop worrying that if they send a picture message the person at the other end will be able to see it.  once this significant number of users is passed  use of new innovations tends to take off. dr bjorn said that early reports of camera phone usage in japan seemed to imply that the innovation was going to be a flop. however  he said  now 45% of the japanese people ericsson questioned use their camera phone at least once a month. in 2003 the figure was 29%. similarly  across europe the numbers of people taking snaps with cameras is starting to rise. in 2003 only 4% of the people in the uk took a phonecam snap at least once a month. now the figure is 14%. similar rises have been seen in many other european nations. dr bjorn said that people also used their camera phones in very different ways to film and even digital cameras.  usage patterns for digital cameras are almost exactly replacing usage patterns for analogue cameras   he said. digital cameras tend to be used on significant events such as weddings  holidays and birthdays. by contrast  he said  camera phones were being used much more to capture a moment and were being woven into everyday life.</td>\n",
              "      <td>tech</td>\n",
              "    </tr>\n",
              "    <tr>\n",
              "      <th>4</th>\n",
              "      <td>enron bosses in $168m payout eighteen former enron directors have agreed a $168m (£89m) settlement deal in a shareholder lawsuit over the collapse of the energy firm.  leading plaintiff  the university of california  announced the news  adding that 10 of the former directors will pay $13m from their own pockets. the settlement will be put to the courts for approval next week. enron went bankrupt in 2001 after it emerged it had hidden hundreds of millions of dollars in debt.  before its collapse  the firm was the seventh biggest public us company by revenue. its demise sent shockwaves through financial markets and dented investor confidence in corporate america.   the settlement is very significant in holding these outside directors at least partially personally responsible   william lerach  the lawyer leading the class action suit against enron  said.  hopefully  this will help send a message to corporate boardrooms of the importance of directors performing their legal duties   he added. under the terms of the $168m settlement - $155m of which will be covered by insurance - none of the 18 former directors will admit any wrongdoing. the deal is the fourth major settlement negotiated by lawyers who filed a class action on behalf of enron s shareholders almost three years ago. so far  including the latest deal  just under $500m (£378.8m) has been retrieved for investors.  however  the latest deal does not include former enron chief executives ken lay and jeff skilling. both men are facing criminal charges for their alleged misconduct in the run up to the firm s collapse. neither does it cover andrew fastow  who has pleaded guilty to taking part in an illegal conspiracy while he was chief financial officer at the group. enron s shareholders are still seeking damages from a long list of other big name defendants including the financial institutions jp morgan chase  citigroup  merrill lynch and credit suisse first boston. the university of california said the trial in the case is scheduled to begin in october 2006. it joined the lawsuit in december 2001alleging  massive insider trading  and fraud  claiming it had lost $145m on its investments in the company.</td>\n",
              "      <td>business</td>\n",
              "    </tr>\n",
              "  </tbody>\n",
              "</table>\n",
              "</div>\n",
              "      <button class=\"colab-df-convert\" onclick=\"convertToInteractive('df-28d0ef50-97d3-4d74-8806-d60e36fe0d1b')\"\n",
              "              title=\"Convert this dataframe to an interactive table.\"\n",
              "              style=\"display:none;\">\n",
              "        \n",
              "  <svg xmlns=\"http://www.w3.org/2000/svg\" height=\"24px\"viewBox=\"0 0 24 24\"\n",
              "       width=\"24px\">\n",
              "    <path d=\"M0 0h24v24H0V0z\" fill=\"none\"/>\n",
              "    <path d=\"M18.56 5.44l.94 2.06.94-2.06 2.06-.94-2.06-.94-.94-2.06-.94 2.06-2.06.94zm-11 1L8.5 8.5l.94-2.06 2.06-.94-2.06-.94L8.5 2.5l-.94 2.06-2.06.94zm10 10l.94 2.06.94-2.06 2.06-.94-2.06-.94-.94-2.06-.94 2.06-2.06.94z\"/><path d=\"M17.41 7.96l-1.37-1.37c-.4-.4-.92-.59-1.43-.59-.52 0-1.04.2-1.43.59L10.3 9.45l-7.72 7.72c-.78.78-.78 2.05 0 2.83L4 21.41c.39.39.9.59 1.41.59.51 0 1.02-.2 1.41-.59l7.78-7.78 2.81-2.81c.8-.78.8-2.07 0-2.86zM5.41 20L4 18.59l7.72-7.72 1.47 1.35L5.41 20z\"/>\n",
              "  </svg>\n",
              "      </button>\n",
              "      \n",
              "  <style>\n",
              "    .colab-df-container {\n",
              "      display:flex;\n",
              "      flex-wrap:wrap;\n",
              "      gap: 12px;\n",
              "    }\n",
              "\n",
              "    .colab-df-convert {\n",
              "      background-color: #E8F0FE;\n",
              "      border: none;\n",
              "      border-radius: 50%;\n",
              "      cursor: pointer;\n",
              "      display: none;\n",
              "      fill: #1967D2;\n",
              "      height: 32px;\n",
              "      padding: 0 0 0 0;\n",
              "      width: 32px;\n",
              "    }\n",
              "\n",
              "    .colab-df-convert:hover {\n",
              "      background-color: #E2EBFA;\n",
              "      box-shadow: 0px 1px 2px rgba(60, 64, 67, 0.3), 0px 1px 3px 1px rgba(60, 64, 67, 0.15);\n",
              "      fill: #174EA6;\n",
              "    }\n",
              "\n",
              "    [theme=dark] .colab-df-convert {\n",
              "      background-color: #3B4455;\n",
              "      fill: #D2E3FC;\n",
              "    }\n",
              "\n",
              "    [theme=dark] .colab-df-convert:hover {\n",
              "      background-color: #434B5C;\n",
              "      box-shadow: 0px 1px 3px 1px rgba(0, 0, 0, 0.15);\n",
              "      filter: drop-shadow(0px 1px 2px rgba(0, 0, 0, 0.3));\n",
              "      fill: #FFFFFF;\n",
              "    }\n",
              "  </style>\n",
              "\n",
              "      <script>\n",
              "        const buttonEl =\n",
              "          document.querySelector('#df-28d0ef50-97d3-4d74-8806-d60e36fe0d1b button.colab-df-convert');\n",
              "        buttonEl.style.display =\n",
              "          google.colab.kernel.accessAllowed ? 'block' : 'none';\n",
              "\n",
              "        async function convertToInteractive(key) {\n",
              "          const element = document.querySelector('#df-28d0ef50-97d3-4d74-8806-d60e36fe0d1b');\n",
              "          const dataTable =\n",
              "            await google.colab.kernel.invokeFunction('convertToInteractive',\n",
              "                                                     [key], {});\n",
              "          if (!dataTable) return;\n",
              "\n",
              "          const docLinkHtml = 'Like what you see? Visit the ' +\n",
              "            '<a target=\"_blank\" href=https://colab.research.google.com/notebooks/data_table.ipynb>data table notebook</a>'\n",
              "            + ' to learn more about interactive tables.';\n",
              "          element.innerHTML = '';\n",
              "          dataTable['output_type'] = 'display_data';\n",
              "          await google.colab.output.renderOutput(dataTable, element);\n",
              "          const docLink = document.createElement('div');\n",
              "          docLink.innerHTML = docLinkHtml;\n",
              "          element.appendChild(docLink);\n",
              "        }\n",
              "      </script>\n",
              "    </div>\n",
              "  </div>\n",
              "  "
            ]
          },
          "metadata": {},
          "execution_count": 67
        }
      ]
    },
    {
      "cell_type": "code",
      "source": [
        "train_data.columns"
      ],
      "metadata": {
        "colab": {
          "base_uri": "https://localhost:8080/"
        },
        "id": "6xXpD4GmnGl6",
        "outputId": "200f03d6-1e63-4ad3-861b-9a1aed1cab28"
      },
      "execution_count": null,
      "outputs": [
        {
          "output_type": "execute_result",
          "data": {
            "text/plain": [
              "Index(['Text', 'Category'], dtype='object')"
            ]
          },
          "metadata": {},
          "execution_count": 68
        }
      ]
    },
    {
      "cell_type": "code",
      "source": [
        "train_data.info()   "
      ],
      "metadata": {
        "colab": {
          "base_uri": "https://localhost:8080/"
        },
        "id": "wJcPQQKinA9g",
        "outputId": "c5bf3225-299f-40ea-e295-293d4660be7c"
      },
      "execution_count": null,
      "outputs": [
        {
          "output_type": "stream",
          "name": "stdout",
          "text": [
            "<class 'pandas.core.frame.DataFrame'>\n",
            "RangeIndex: 1490 entries, 0 to 1489\n",
            "Data columns (total 2 columns):\n",
            " #   Column    Non-Null Count  Dtype \n",
            "---  ------    --------------  ----- \n",
            " 0   Text      1490 non-null   object\n",
            " 1   Category  1490 non-null   object\n",
            "dtypes: object(2)\n",
            "memory usage: 23.4+ KB\n"
          ]
        }
      ]
    },
    {
      "cell_type": "markdown",
      "source": [
        "There are 1490 instances available for training"
      ],
      "metadata": {
        "id": "RR0LZ-ssn-Si"
      }
    },
    {
      "cell_type": "code",
      "source": [
        "Categories = train_data['Category'].unique()\n",
        "Categories"
      ],
      "metadata": {
        "colab": {
          "base_uri": "https://localhost:8080/"
        },
        "id": "Wv5oYMvxvpyb",
        "outputId": "d60b4f9e-fcdf-4560-8738-e0ca877737e3"
      },
      "execution_count": null,
      "outputs": [
        {
          "output_type": "execute_result",
          "data": {
            "text/plain": [
              "array(['business', 'tech', 'politics', 'sport', 'entertainment'],\n",
              "      dtype=object)"
            ]
          },
          "metadata": {},
          "execution_count": 123
        }
      ]
    },
    {
      "cell_type": "markdown",
      "source": [
        "# Data Cleaning"
      ],
      "metadata": {
        "id": "83_7UbB8rOyi"
      }
    },
    {
      "cell_type": "markdown",
      "source": [
        "\n",
        "\n",
        "*    [str.strip()](https://www.w3resource.com/pandas/series/series-str-strip.php#:~:text=The%20str.,from%20left%20and%20right%20sides.) is used for removing leading and trailing characters\n",
        "* [replace using regex](https://www.geeksforgeeks.org/replace-values-in-pandas-dataframe-using-regex/)\n",
        "\n"
      ],
      "metadata": {
        "id": "FPnube2PoQoo"
      }
    },
    {
      "cell_type": "code",
      "source": [
        "train_data['Text'] = train_data['Text'].str.strip()\n",
        "train_data.head()"
      ],
      "metadata": {
        "colab": {
          "base_uri": "https://localhost:8080/",
          "height": 1000
        },
        "id": "lgYEEmN0wmjv",
        "outputId": "0e19474b-dc50-4002-95b9-4e5475553044"
      },
      "execution_count": null,
      "outputs": [
        {
          "output_type": "stream",
          "name": "stderr",
          "text": [
            "<ipython-input-70-442dc4fd3639>:1: SettingWithCopyWarning: \n",
            "A value is trying to be set on a copy of a slice from a DataFrame.\n",
            "Try using .loc[row_indexer,col_indexer] = value instead\n",
            "\n",
            "See the caveats in the documentation: https://pandas.pydata.org/pandas-docs/stable/user_guide/indexing.html#returning-a-view-versus-a-copy\n",
            "  train_data['Text'] = train_data['Text'].str.strip()\n"
          ]
        },
        {
          "output_type": "execute_result",
          "data": {
            "text/plain": [
              "                                                                                                                                                                                                                                                                                                                                                                                                                                                                                                                                                                                                                                                                                                                                                                                                                                                                                                                                                                                                                                                                                                                                                                                                                                                                                                                                                                                                                                                                                                                                                                                                                                                                                                                                                                                                                                                                                                                                                                                                                                                                                                                                                                                                                                                                                                                                                                                                                                                                                                                                                                                                                                                                                                                                                                                                                                                                                                                                                                                                                                                                                                                                                                                                                                                                                                                                                                                                                                                                                                                                                                                                                                                                                                                                                                 Text  \\\n",
              "0                                                                                                                                                                                                                                                                                                                                                                                                                                                                                                                                                                                                                                                                                                                                                                                                                                                                                                                                                                                                                                                                                                                                                                                                                                                                                                                                                                                                                                                                                                                                                                                                                                                                                                                                                                                                                          worldcom ex-boss launches defence lawyers defending former worldcom chief bernie ebbers against a battery of fraud charges have called a company whistleblower as their first witness.  cynthia cooper  worldcom s ex-head of internal accounting  alerted directors to irregular accounting practices at the us telecoms giant in 2002. her warnings led to the collapse of the firm following the discovery of an $11bn (£5.7bn) accounting fraud. mr ebbers has pleaded not guilty to charges of fraud and conspiracy.  prosecution lawyers have argued that mr ebbers orchestrated a series of accounting tricks at worldcom  ordering employees to hide expenses and inflate revenues to meet wall street earnings estimates. but ms cooper  who now runs her own consulting business  told a jury in new york on wednesday that external auditors arthur andersen had approved worldcom s accounting in early 2001 and 2002. she said andersen had given a  green light  to the procedures and practices used by worldcom. mr ebber s lawyers have said he was unaware of the fraud  arguing that auditors did not alert him to any problems.  ms cooper also said that during shareholder meetings mr ebbers often passed over technical questions to the company s finance chief  giving only  brief  answers himself. the prosecution s star witness  former worldcom financial chief scott sullivan  has said that mr ebbers ordered accounting adjustments at the firm  telling him to  hit our books . however  ms cooper said mr sullivan had not mentioned  anything uncomfortable  about worldcom s accounting during a 2001 audit committee meeting. mr ebbers could face a jail sentence of 85 years if convicted of all the charges he is facing. worldcom emerged from bankruptcy protection in 2004  and is now known as mci. last week  mci agreed to a buyout by verizon communications in a deal valued at $6.75bn.   \n",
              "1                                                                                                                                                                                                                                                                                                                                                                                                                                                                                                                                                                                                                                                                                                                                                                                                                                                                                                                                                                                                                                                                                                                                                                                                                                                                                                                                                                                                                                                                                                                                                                                                                                                                    german business confidence slides german business confidence fell in february knocking hopes of a speedy recovery in europe s largest economy.  munich-based research institute ifo said that its confidence index fell to 95.5 in february from 97.5 in january  its first decline in three months. the study found that the outlook in both the manufacturing and retail sectors had worsened. observers had been hoping that a more confident business sector would signal that economic activity was picking up.   we re surprised that the ifo index has taken such a knock   said dz bank economist bernd weidensteiner.  the main reason is probably that the domestic economy is still weak  particularly in the retail trade.  economy and labour minister wolfgang clement called the dip in february s ifo confidence figure  a very mild decline . he said that despite the retreat  the index remained at a relatively high level and that he expected  a modest economic upswing  to continue.  germany s economy grew 1.6% last year after shrinking in 2003. however  the economy contracted by 0.2% during the last three months of 2004  mainly due to the reluctance of consumers to spend. latest indications are that growth is still proving elusive and ifo president hans-werner sinn said any improvement in german domestic demand was sluggish. exports had kept things going during the first half of 2004  but demand for exports was then hit as the value of the euro hit record levels making german products less competitive overseas. on top of that  the unemployment rate has been stuck at close to 10% and manufacturing firms  including daimlerchrysler  siemens and volkswagen  have been negotiating with unions over cost cutting measures. analysts said that the ifo figures and germany s continuing problems may delay an interest rate rise by the european central bank. eurozone interest rates are at 2%  but comments from senior officials have recently focused on the threat of inflation  prompting fears that interest rates may rise.   \n",
              "2                                                                                                                                                                                                                                                                                                                                                                                                                                                                                                                                    bbc poll indicates economic gloom citizens in a majority of nations surveyed in a bbc world service poll believe the world economy is worsening.  most respondents also said their national economy was getting worse. but when asked about their own family s financial outlook  a majority in 14 countries said they were positive about the future. almost 23 000 people in 22 countries were questioned for the poll  which was mostly conducted before the asian tsunami disaster. the poll found that a majority or plurality of people in 13 countries believed the economy was going downhill  compared with respondents in nine countries who believed it was improving. those surveyed in three countries were split. in percentage terms  an average of 44% of respondents in each country said the world economy was getting worse  compared to 34% who said it was improving. similarly  48% were pessimistic about their national economy  while 41% were optimistic. and 47% saw their family s economic conditions improving  as against 36% who said they were getting worse.  the poll of 22 953 people was conducted by the international polling firm globescan  together with the program on international policy attitudes (pipa) at the university of maryland.  while the world economy has picked up from difficult times just a few years ago  people seem to not have fully absorbed this development  though they are personally experiencing its effects   said pipa director steven kull.  people around the world are saying:  i m ok  but the world isn t .  there may be a perception that war  terrorism and religious and political divisions are making the world a worse place  even though that has not so far been reflected in global economic performance  says the bbc s elizabeth blunt.  the countries where people were most optimistic  both for the world and for their own families  were two fast-growing developing economies  china and india  followed by indonesia. china has seen two decades of blistering economic growth  which has led to wealth creation on a huge scale  says the bbc s louisa lim in beijing. but the results also may reflect the untrammelled confidence of people who are subject to endless government propaganda about their country s rosy economic future  our correspondent says. south korea was the most pessimistic  while respondents in italy and mexico were also quite gloomy. the bbc s david willey in rome says one reason for that result is the changeover from the lira to the euro in 2001  which is widely viewed as the biggest reason why their wages and salaries are worth less than they used to be. the philippines was among the most upbeat countries on prospects for respondents  families  but one of the most pessimistic about the world economy. pipa conducted the poll from 15 november 2004 to 3 january 2005 across 22 countries in face-to-face or telephone interviews. the interviews took place between 15 november 2004 and 5 january 2005. the margin of error is between 2.5 and 4 points  depending on the country. in eight of the countries  the sample was limited to major metropolitan areas.   \n",
              "3  lifestyle  governs mobile choice  faster  better or funkier hardware alone is not going to help phone firms sell more handsets  research suggests.  instead  phone firms keen to get more out of their customers should not just be pushing the technology for its own sake. consumers are far more interested in how handsets fit in with their lifestyle than they are in screen size  onboard memory or the chip inside  shows an in-depth study by handset maker ericsson.  historically in the industry there has been too much focus on using technology   said dr michael bjorn  senior advisor on mobile media at ericsson s consumer and enterprise lab.  we have to stop saying that these technologies will change their lives   he said.  we should try to speak to consumers in their own language and help them see how it fits in with what they are doing   he told the bbc news website.  for the study  ericsson interviewed 14 000 mobile phone owners on the ways they use their phone.  people s habits remain the same   said dr bjorn.  they just move the activity into the mobile phone as it s a much more convenient way to do it.   one good example of this was diary-writing among younger people  he said. while diaries have always been popular  a mobile phone -- especially one equipped with a camera -- helps them keep it in a different form. youngsters  use of text messages also reflects their desire to chat and keep in contact with friends and again just lets them do it in a slightly changed way. dr bjorn said that although consumers do what they always did but use a phone to do it  the sheer variety of what the new handset technologies make possible does gradually drive new habits and lifestyles. ericsson s research has shown that consumers divide into different  tribes  that use phones in different ways. dr bjorn said groups dubbed  pioneers  and  materialists  were most interested in trying new things and were behind the start of many trends in phone use.  for instance   he said   older people are using sms much more than they did five years ago.  this was because younger users  often the children of ageing mobile owners  encouraged older people to try it so they could keep in touch.  another factor governing the speed of change in mobile phone use was the simple speed with which new devices are bought by pioneers and materialists. only when about 25% of people have handsets with new innovations on them  such as cameras  can consumers stop worrying that if they send a picture message the person at the other end will be able to see it.  once this significant number of users is passed  use of new innovations tends to take off. dr bjorn said that early reports of camera phone usage in japan seemed to imply that the innovation was going to be a flop. however  he said  now 45% of the japanese people ericsson questioned use their camera phone at least once a month. in 2003 the figure was 29%. similarly  across europe the numbers of people taking snaps with cameras is starting to rise. in 2003 only 4% of the people in the uk took a phonecam snap at least once a month. now the figure is 14%. similar rises have been seen in many other european nations. dr bjorn said that people also used their camera phones in very different ways to film and even digital cameras.  usage patterns for digital cameras are almost exactly replacing usage patterns for analogue cameras   he said. digital cameras tend to be used on significant events such as weddings  holidays and birthdays. by contrast  he said  camera phones were being used much more to capture a moment and were being woven into everyday life.   \n",
              "4                                                                                                                                                                                                                                                                                                                                                                                                                                                                                                                                                                                                                                                                                                                                                                                                                                                                                                                                                                                                                                                                                                                                                                                                                                                                                                                                                                                                                                                                                      enron bosses in $168m payout eighteen former enron directors have agreed a $168m (£89m) settlement deal in a shareholder lawsuit over the collapse of the energy firm.  leading plaintiff  the university of california  announced the news  adding that 10 of the former directors will pay $13m from their own pockets. the settlement will be put to the courts for approval next week. enron went bankrupt in 2001 after it emerged it had hidden hundreds of millions of dollars in debt.  before its collapse  the firm was the seventh biggest public us company by revenue. its demise sent shockwaves through financial markets and dented investor confidence in corporate america.   the settlement is very significant in holding these outside directors at least partially personally responsible   william lerach  the lawyer leading the class action suit against enron  said.  hopefully  this will help send a message to corporate boardrooms of the importance of directors performing their legal duties   he added. under the terms of the $168m settlement - $155m of which will be covered by insurance - none of the 18 former directors will admit any wrongdoing. the deal is the fourth major settlement negotiated by lawyers who filed a class action on behalf of enron s shareholders almost three years ago. so far  including the latest deal  just under $500m (£378.8m) has been retrieved for investors.  however  the latest deal does not include former enron chief executives ken lay and jeff skilling. both men are facing criminal charges for their alleged misconduct in the run up to the firm s collapse. neither does it cover andrew fastow  who has pleaded guilty to taking part in an illegal conspiracy while he was chief financial officer at the group. enron s shareholders are still seeking damages from a long list of other big name defendants including the financial institutions jp morgan chase  citigroup  merrill lynch and credit suisse first boston. the university of california said the trial in the case is scheduled to begin in october 2006. it joined the lawsuit in december 2001alleging  massive insider trading  and fraud  claiming it had lost $145m on its investments in the company.   \n",
              "\n",
              "   Category  \n",
              "0  business  \n",
              "1  business  \n",
              "2  business  \n",
              "3      tech  \n",
              "4  business  "
            ],
            "text/html": [
              "\n",
              "  <div id=\"df-7028ca6e-d80c-4841-b3b6-8b958dd8e7d2\">\n",
              "    <div class=\"colab-df-container\">\n",
              "      <div>\n",
              "<style scoped>\n",
              "    .dataframe tbody tr th:only-of-type {\n",
              "        vertical-align: middle;\n",
              "    }\n",
              "\n",
              "    .dataframe tbody tr th {\n",
              "        vertical-align: top;\n",
              "    }\n",
              "\n",
              "    .dataframe thead th {\n",
              "        text-align: right;\n",
              "    }\n",
              "</style>\n",
              "<table border=\"1\" class=\"dataframe\">\n",
              "  <thead>\n",
              "    <tr style=\"text-align: right;\">\n",
              "      <th></th>\n",
              "      <th>Text</th>\n",
              "      <th>Category</th>\n",
              "    </tr>\n",
              "  </thead>\n",
              "  <tbody>\n",
              "    <tr>\n",
              "      <th>0</th>\n",
              "      <td>worldcom ex-boss launches defence lawyers defending former worldcom chief bernie ebbers against a battery of fraud charges have called a company whistleblower as their first witness.  cynthia cooper  worldcom s ex-head of internal accounting  alerted directors to irregular accounting practices at the us telecoms giant in 2002. her warnings led to the collapse of the firm following the discovery of an $11bn (£5.7bn) accounting fraud. mr ebbers has pleaded not guilty to charges of fraud and conspiracy.  prosecution lawyers have argued that mr ebbers orchestrated a series of accounting tricks at worldcom  ordering employees to hide expenses and inflate revenues to meet wall street earnings estimates. but ms cooper  who now runs her own consulting business  told a jury in new york on wednesday that external auditors arthur andersen had approved worldcom s accounting in early 2001 and 2002. she said andersen had given a  green light  to the procedures and practices used by worldcom. mr ebber s lawyers have said he was unaware of the fraud  arguing that auditors did not alert him to any problems.  ms cooper also said that during shareholder meetings mr ebbers often passed over technical questions to the company s finance chief  giving only  brief  answers himself. the prosecution s star witness  former worldcom financial chief scott sullivan  has said that mr ebbers ordered accounting adjustments at the firm  telling him to  hit our books . however  ms cooper said mr sullivan had not mentioned  anything uncomfortable  about worldcom s accounting during a 2001 audit committee meeting. mr ebbers could face a jail sentence of 85 years if convicted of all the charges he is facing. worldcom emerged from bankruptcy protection in 2004  and is now known as mci. last week  mci agreed to a buyout by verizon communications in a deal valued at $6.75bn.</td>\n",
              "      <td>business</td>\n",
              "    </tr>\n",
              "    <tr>\n",
              "      <th>1</th>\n",
              "      <td>german business confidence slides german business confidence fell in february knocking hopes of a speedy recovery in europe s largest economy.  munich-based research institute ifo said that its confidence index fell to 95.5 in february from 97.5 in january  its first decline in three months. the study found that the outlook in both the manufacturing and retail sectors had worsened. observers had been hoping that a more confident business sector would signal that economic activity was picking up.   we re surprised that the ifo index has taken such a knock   said dz bank economist bernd weidensteiner.  the main reason is probably that the domestic economy is still weak  particularly in the retail trade.  economy and labour minister wolfgang clement called the dip in february s ifo confidence figure  a very mild decline . he said that despite the retreat  the index remained at a relatively high level and that he expected  a modest economic upswing  to continue.  germany s economy grew 1.6% last year after shrinking in 2003. however  the economy contracted by 0.2% during the last three months of 2004  mainly due to the reluctance of consumers to spend. latest indications are that growth is still proving elusive and ifo president hans-werner sinn said any improvement in german domestic demand was sluggish. exports had kept things going during the first half of 2004  but demand for exports was then hit as the value of the euro hit record levels making german products less competitive overseas. on top of that  the unemployment rate has been stuck at close to 10% and manufacturing firms  including daimlerchrysler  siemens and volkswagen  have been negotiating with unions over cost cutting measures. analysts said that the ifo figures and germany s continuing problems may delay an interest rate rise by the european central bank. eurozone interest rates are at 2%  but comments from senior officials have recently focused on the threat of inflation  prompting fears that interest rates may rise.</td>\n",
              "      <td>business</td>\n",
              "    </tr>\n",
              "    <tr>\n",
              "      <th>2</th>\n",
              "      <td>bbc poll indicates economic gloom citizens in a majority of nations surveyed in a bbc world service poll believe the world economy is worsening.  most respondents also said their national economy was getting worse. but when asked about their own family s financial outlook  a majority in 14 countries said they were positive about the future. almost 23 000 people in 22 countries were questioned for the poll  which was mostly conducted before the asian tsunami disaster. the poll found that a majority or plurality of people in 13 countries believed the economy was going downhill  compared with respondents in nine countries who believed it was improving. those surveyed in three countries were split. in percentage terms  an average of 44% of respondents in each country said the world economy was getting worse  compared to 34% who said it was improving. similarly  48% were pessimistic about their national economy  while 41% were optimistic. and 47% saw their family s economic conditions improving  as against 36% who said they were getting worse.  the poll of 22 953 people was conducted by the international polling firm globescan  together with the program on international policy attitudes (pipa) at the university of maryland.  while the world economy has picked up from difficult times just a few years ago  people seem to not have fully absorbed this development  though they are personally experiencing its effects   said pipa director steven kull.  people around the world are saying:  i m ok  but the world isn t .  there may be a perception that war  terrorism and religious and political divisions are making the world a worse place  even though that has not so far been reflected in global economic performance  says the bbc s elizabeth blunt.  the countries where people were most optimistic  both for the world and for their own families  were two fast-growing developing economies  china and india  followed by indonesia. china has seen two decades of blistering economic growth  which has led to wealth creation on a huge scale  says the bbc s louisa lim in beijing. but the results also may reflect the untrammelled confidence of people who are subject to endless government propaganda about their country s rosy economic future  our correspondent says. south korea was the most pessimistic  while respondents in italy and mexico were also quite gloomy. the bbc s david willey in rome says one reason for that result is the changeover from the lira to the euro in 2001  which is widely viewed as the biggest reason why their wages and salaries are worth less than they used to be. the philippines was among the most upbeat countries on prospects for respondents  families  but one of the most pessimistic about the world economy. pipa conducted the poll from 15 november 2004 to 3 january 2005 across 22 countries in face-to-face or telephone interviews. the interviews took place between 15 november 2004 and 5 january 2005. the margin of error is between 2.5 and 4 points  depending on the country. in eight of the countries  the sample was limited to major metropolitan areas.</td>\n",
              "      <td>business</td>\n",
              "    </tr>\n",
              "    <tr>\n",
              "      <th>3</th>\n",
              "      <td>lifestyle  governs mobile choice  faster  better or funkier hardware alone is not going to help phone firms sell more handsets  research suggests.  instead  phone firms keen to get more out of their customers should not just be pushing the technology for its own sake. consumers are far more interested in how handsets fit in with their lifestyle than they are in screen size  onboard memory or the chip inside  shows an in-depth study by handset maker ericsson.  historically in the industry there has been too much focus on using technology   said dr michael bjorn  senior advisor on mobile media at ericsson s consumer and enterprise lab.  we have to stop saying that these technologies will change their lives   he said.  we should try to speak to consumers in their own language and help them see how it fits in with what they are doing   he told the bbc news website.  for the study  ericsson interviewed 14 000 mobile phone owners on the ways they use their phone.  people s habits remain the same   said dr bjorn.  they just move the activity into the mobile phone as it s a much more convenient way to do it.   one good example of this was diary-writing among younger people  he said. while diaries have always been popular  a mobile phone -- especially one equipped with a camera -- helps them keep it in a different form. youngsters  use of text messages also reflects their desire to chat and keep in contact with friends and again just lets them do it in a slightly changed way. dr bjorn said that although consumers do what they always did but use a phone to do it  the sheer variety of what the new handset technologies make possible does gradually drive new habits and lifestyles. ericsson s research has shown that consumers divide into different  tribes  that use phones in different ways. dr bjorn said groups dubbed  pioneers  and  materialists  were most interested in trying new things and were behind the start of many trends in phone use.  for instance   he said   older people are using sms much more than they did five years ago.  this was because younger users  often the children of ageing mobile owners  encouraged older people to try it so they could keep in touch.  another factor governing the speed of change in mobile phone use was the simple speed with which new devices are bought by pioneers and materialists. only when about 25% of people have handsets with new innovations on them  such as cameras  can consumers stop worrying that if they send a picture message the person at the other end will be able to see it.  once this significant number of users is passed  use of new innovations tends to take off. dr bjorn said that early reports of camera phone usage in japan seemed to imply that the innovation was going to be a flop. however  he said  now 45% of the japanese people ericsson questioned use their camera phone at least once a month. in 2003 the figure was 29%. similarly  across europe the numbers of people taking snaps with cameras is starting to rise. in 2003 only 4% of the people in the uk took a phonecam snap at least once a month. now the figure is 14%. similar rises have been seen in many other european nations. dr bjorn said that people also used their camera phones in very different ways to film and even digital cameras.  usage patterns for digital cameras are almost exactly replacing usage patterns for analogue cameras   he said. digital cameras tend to be used on significant events such as weddings  holidays and birthdays. by contrast  he said  camera phones were being used much more to capture a moment and were being woven into everyday life.</td>\n",
              "      <td>tech</td>\n",
              "    </tr>\n",
              "    <tr>\n",
              "      <th>4</th>\n",
              "      <td>enron bosses in $168m payout eighteen former enron directors have agreed a $168m (£89m) settlement deal in a shareholder lawsuit over the collapse of the energy firm.  leading plaintiff  the university of california  announced the news  adding that 10 of the former directors will pay $13m from their own pockets. the settlement will be put to the courts for approval next week. enron went bankrupt in 2001 after it emerged it had hidden hundreds of millions of dollars in debt.  before its collapse  the firm was the seventh biggest public us company by revenue. its demise sent shockwaves through financial markets and dented investor confidence in corporate america.   the settlement is very significant in holding these outside directors at least partially personally responsible   william lerach  the lawyer leading the class action suit against enron  said.  hopefully  this will help send a message to corporate boardrooms of the importance of directors performing their legal duties   he added. under the terms of the $168m settlement - $155m of which will be covered by insurance - none of the 18 former directors will admit any wrongdoing. the deal is the fourth major settlement negotiated by lawyers who filed a class action on behalf of enron s shareholders almost three years ago. so far  including the latest deal  just under $500m (£378.8m) has been retrieved for investors.  however  the latest deal does not include former enron chief executives ken lay and jeff skilling. both men are facing criminal charges for their alleged misconduct in the run up to the firm s collapse. neither does it cover andrew fastow  who has pleaded guilty to taking part in an illegal conspiracy while he was chief financial officer at the group. enron s shareholders are still seeking damages from a long list of other big name defendants including the financial institutions jp morgan chase  citigroup  merrill lynch and credit suisse first boston. the university of california said the trial in the case is scheduled to begin in october 2006. it joined the lawsuit in december 2001alleging  massive insider trading  and fraud  claiming it had lost $145m on its investments in the company.</td>\n",
              "      <td>business</td>\n",
              "    </tr>\n",
              "  </tbody>\n",
              "</table>\n",
              "</div>\n",
              "      <button class=\"colab-df-convert\" onclick=\"convertToInteractive('df-7028ca6e-d80c-4841-b3b6-8b958dd8e7d2')\"\n",
              "              title=\"Convert this dataframe to an interactive table.\"\n",
              "              style=\"display:none;\">\n",
              "        \n",
              "  <svg xmlns=\"http://www.w3.org/2000/svg\" height=\"24px\"viewBox=\"0 0 24 24\"\n",
              "       width=\"24px\">\n",
              "    <path d=\"M0 0h24v24H0V0z\" fill=\"none\"/>\n",
              "    <path d=\"M18.56 5.44l.94 2.06.94-2.06 2.06-.94-2.06-.94-.94-2.06-.94 2.06-2.06.94zm-11 1L8.5 8.5l.94-2.06 2.06-.94-2.06-.94L8.5 2.5l-.94 2.06-2.06.94zm10 10l.94 2.06.94-2.06 2.06-.94-2.06-.94-.94-2.06-.94 2.06-2.06.94z\"/><path d=\"M17.41 7.96l-1.37-1.37c-.4-.4-.92-.59-1.43-.59-.52 0-1.04.2-1.43.59L10.3 9.45l-7.72 7.72c-.78.78-.78 2.05 0 2.83L4 21.41c.39.39.9.59 1.41.59.51 0 1.02-.2 1.41-.59l7.78-7.78 2.81-2.81c.8-.78.8-2.07 0-2.86zM5.41 20L4 18.59l7.72-7.72 1.47 1.35L5.41 20z\"/>\n",
              "  </svg>\n",
              "      </button>\n",
              "      \n",
              "  <style>\n",
              "    .colab-df-container {\n",
              "      display:flex;\n",
              "      flex-wrap:wrap;\n",
              "      gap: 12px;\n",
              "    }\n",
              "\n",
              "    .colab-df-convert {\n",
              "      background-color: #E8F0FE;\n",
              "      border: none;\n",
              "      border-radius: 50%;\n",
              "      cursor: pointer;\n",
              "      display: none;\n",
              "      fill: #1967D2;\n",
              "      height: 32px;\n",
              "      padding: 0 0 0 0;\n",
              "      width: 32px;\n",
              "    }\n",
              "\n",
              "    .colab-df-convert:hover {\n",
              "      background-color: #E2EBFA;\n",
              "      box-shadow: 0px 1px 2px rgba(60, 64, 67, 0.3), 0px 1px 3px 1px rgba(60, 64, 67, 0.15);\n",
              "      fill: #174EA6;\n",
              "    }\n",
              "\n",
              "    [theme=dark] .colab-df-convert {\n",
              "      background-color: #3B4455;\n",
              "      fill: #D2E3FC;\n",
              "    }\n",
              "\n",
              "    [theme=dark] .colab-df-convert:hover {\n",
              "      background-color: #434B5C;\n",
              "      box-shadow: 0px 1px 3px 1px rgba(0, 0, 0, 0.15);\n",
              "      filter: drop-shadow(0px 1px 2px rgba(0, 0, 0, 0.3));\n",
              "      fill: #FFFFFF;\n",
              "    }\n",
              "  </style>\n",
              "\n",
              "      <script>\n",
              "        const buttonEl =\n",
              "          document.querySelector('#df-7028ca6e-d80c-4841-b3b6-8b958dd8e7d2 button.colab-df-convert');\n",
              "        buttonEl.style.display =\n",
              "          google.colab.kernel.accessAllowed ? 'block' : 'none';\n",
              "\n",
              "        async function convertToInteractive(key) {\n",
              "          const element = document.querySelector('#df-7028ca6e-d80c-4841-b3b6-8b958dd8e7d2');\n",
              "          const dataTable =\n",
              "            await google.colab.kernel.invokeFunction('convertToInteractive',\n",
              "                                                     [key], {});\n",
              "          if (!dataTable) return;\n",
              "\n",
              "          const docLinkHtml = 'Like what you see? Visit the ' +\n",
              "            '<a target=\"_blank\" href=https://colab.research.google.com/notebooks/data_table.ipynb>data table notebook</a>'\n",
              "            + ' to learn more about interactive tables.';\n",
              "          element.innerHTML = '';\n",
              "          dataTable['output_type'] = 'display_data';\n",
              "          await google.colab.output.renderOutput(dataTable, element);\n",
              "          const docLink = document.createElement('div');\n",
              "          docLink.innerHTML = docLinkHtml;\n",
              "          element.appendChild(docLink);\n",
              "        }\n",
              "      </script>\n",
              "    </div>\n",
              "  </div>\n",
              "  "
            ]
          },
          "metadata": {},
          "execution_count": 70
        }
      ]
    },
    {
      "cell_type": "code",
      "source": [
        "train_data = train_data.replace('\\n',' ',regex=True)\n",
        "data.head(10)"
      ],
      "metadata": {
        "colab": {
          "base_uri": "https://localhost:8080/",
          "height": 1000
        },
        "id": "SPu7do_Xwyy7",
        "outputId": "e30cee00-98cf-49cb-d6e2-4bcdc8339b4d"
      },
      "execution_count": null,
      "outputs": [
        {
          "output_type": "execute_result",
          "data": {
            "text/plain": [
              "                                                                                                                                                                                                                                                                                                                                                                                                                                                                                                                                                                                                                                                                                                                                                                                                                                                                                                                                                                                                                                                                                                                                                                                                                                                                                                                                                                                                                                                                                                                                                                                                                                                                                                                                                                                                                                                                                                                                                                                                                                                                                                                                                                                                                                                                                                                                                                                                                                                                                                                                                                                                                                                                                                                                                                                                                                                                                                                                                                                                                                                                                                                                                                                                                                                                                                                                                                                                                                                                                                                                                                                                                                                                                                                                                                 Text  \\\n",
              "0                                                                                                                                                                                                                                                                                                                                                                                                                                                                                                                                                                                                                                                                                                                                                                                                                                                                                                                                                                                                                                                                                                                                                                                                                                                                                                                                                                                                                                                                                                                                                                                                                                                                                                                                                                                                                          worldcom ex-boss launches defence lawyers defending former worldcom chief bernie ebbers against a battery of fraud charges have called a company whistleblower as their first witness.  cynthia cooper  worldcom s ex-head of internal accounting  alerted directors to irregular accounting practices at the us telecoms giant in 2002. her warnings led to the collapse of the firm following the discovery of an $11bn (£5.7bn) accounting fraud. mr ebbers has pleaded not guilty to charges of fraud and conspiracy.  prosecution lawyers have argued that mr ebbers orchestrated a series of accounting tricks at worldcom  ordering employees to hide expenses and inflate revenues to meet wall street earnings estimates. but ms cooper  who now runs her own consulting business  told a jury in new york on wednesday that external auditors arthur andersen had approved worldcom s accounting in early 2001 and 2002. she said andersen had given a  green light  to the procedures and practices used by worldcom. mr ebber s lawyers have said he was unaware of the fraud  arguing that auditors did not alert him to any problems.  ms cooper also said that during shareholder meetings mr ebbers often passed over technical questions to the company s finance chief  giving only  brief  answers himself. the prosecution s star witness  former worldcom financial chief scott sullivan  has said that mr ebbers ordered accounting adjustments at the firm  telling him to  hit our books . however  ms cooper said mr sullivan had not mentioned  anything uncomfortable  about worldcom s accounting during a 2001 audit committee meeting. mr ebbers could face a jail sentence of 85 years if convicted of all the charges he is facing. worldcom emerged from bankruptcy protection in 2004  and is now known as mci. last week  mci agreed to a buyout by verizon communications in a deal valued at $6.75bn.   \n",
              "1                                                                                                                                                                                                                                                                                                                                                                                                                                                                                                                                                                                                                                                                                                                                                                                                                                                                                                                                                                                                                                                                                                                                                                                                                                                                                                                                                                                                                                                                                                                                                                                                                                                                    german business confidence slides german business confidence fell in february knocking hopes of a speedy recovery in europe s largest economy.  munich-based research institute ifo said that its confidence index fell to 95.5 in february from 97.5 in january  its first decline in three months. the study found that the outlook in both the manufacturing and retail sectors had worsened. observers had been hoping that a more confident business sector would signal that economic activity was picking up.   we re surprised that the ifo index has taken such a knock   said dz bank economist bernd weidensteiner.  the main reason is probably that the domestic economy is still weak  particularly in the retail trade.  economy and labour minister wolfgang clement called the dip in february s ifo confidence figure  a very mild decline . he said that despite the retreat  the index remained at a relatively high level and that he expected  a modest economic upswing  to continue.  germany s economy grew 1.6% last year after shrinking in 2003. however  the economy contracted by 0.2% during the last three months of 2004  mainly due to the reluctance of consumers to spend. latest indications are that growth is still proving elusive and ifo president hans-werner sinn said any improvement in german domestic demand was sluggish. exports had kept things going during the first half of 2004  but demand for exports was then hit as the value of the euro hit record levels making german products less competitive overseas. on top of that  the unemployment rate has been stuck at close to 10% and manufacturing firms  including daimlerchrysler  siemens and volkswagen  have been negotiating with unions over cost cutting measures. analysts said that the ifo figures and germany s continuing problems may delay an interest rate rise by the european central bank. eurozone interest rates are at 2%  but comments from senior officials have recently focused on the threat of inflation  prompting fears that interest rates may rise.   \n",
              "2                                                                                                                                                                                                                                                                                                                                                                                                                                                                                                                                    bbc poll indicates economic gloom citizens in a majority of nations surveyed in a bbc world service poll believe the world economy is worsening.  most respondents also said their national economy was getting worse. but when asked about their own family s financial outlook  a majority in 14 countries said they were positive about the future. almost 23 000 people in 22 countries were questioned for the poll  which was mostly conducted before the asian tsunami disaster. the poll found that a majority or plurality of people in 13 countries believed the economy was going downhill  compared with respondents in nine countries who believed it was improving. those surveyed in three countries were split. in percentage terms  an average of 44% of respondents in each country said the world economy was getting worse  compared to 34% who said it was improving. similarly  48% were pessimistic about their national economy  while 41% were optimistic. and 47% saw their family s economic conditions improving  as against 36% who said they were getting worse.  the poll of 22 953 people was conducted by the international polling firm globescan  together with the program on international policy attitudes (pipa) at the university of maryland.  while the world economy has picked up from difficult times just a few years ago  people seem to not have fully absorbed this development  though they are personally experiencing its effects   said pipa director steven kull.  people around the world are saying:  i m ok  but the world isn t .  there may be a perception that war  terrorism and religious and political divisions are making the world a worse place  even though that has not so far been reflected in global economic performance  says the bbc s elizabeth blunt.  the countries where people were most optimistic  both for the world and for their own families  were two fast-growing developing economies  china and india  followed by indonesia. china has seen two decades of blistering economic growth  which has led to wealth creation on a huge scale  says the bbc s louisa lim in beijing. but the results also may reflect the untrammelled confidence of people who are subject to endless government propaganda about their country s rosy economic future  our correspondent says. south korea was the most pessimistic  while respondents in italy and mexico were also quite gloomy. the bbc s david willey in rome says one reason for that result is the changeover from the lira to the euro in 2001  which is widely viewed as the biggest reason why their wages and salaries are worth less than they used to be. the philippines was among the most upbeat countries on prospects for respondents  families  but one of the most pessimistic about the world economy. pipa conducted the poll from 15 november 2004 to 3 january 2005 across 22 countries in face-to-face or telephone interviews. the interviews took place between 15 november 2004 and 5 january 2005. the margin of error is between 2.5 and 4 points  depending on the country. in eight of the countries  the sample was limited to major metropolitan areas.   \n",
              "3  lifestyle  governs mobile choice  faster  better or funkier hardware alone is not going to help phone firms sell more handsets  research suggests.  instead  phone firms keen to get more out of their customers should not just be pushing the technology for its own sake. consumers are far more interested in how handsets fit in with their lifestyle than they are in screen size  onboard memory or the chip inside  shows an in-depth study by handset maker ericsson.  historically in the industry there has been too much focus on using technology   said dr michael bjorn  senior advisor on mobile media at ericsson s consumer and enterprise lab.  we have to stop saying that these technologies will change their lives   he said.  we should try to speak to consumers in their own language and help them see how it fits in with what they are doing   he told the bbc news website.  for the study  ericsson interviewed 14 000 mobile phone owners on the ways they use their phone.  people s habits remain the same   said dr bjorn.  they just move the activity into the mobile phone as it s a much more convenient way to do it.   one good example of this was diary-writing among younger people  he said. while diaries have always been popular  a mobile phone -- especially one equipped with a camera -- helps them keep it in a different form. youngsters  use of text messages also reflects their desire to chat and keep in contact with friends and again just lets them do it in a slightly changed way. dr bjorn said that although consumers do what they always did but use a phone to do it  the sheer variety of what the new handset technologies make possible does gradually drive new habits and lifestyles. ericsson s research has shown that consumers divide into different  tribes  that use phones in different ways. dr bjorn said groups dubbed  pioneers  and  materialists  were most interested in trying new things and were behind the start of many trends in phone use.  for instance   he said   older people are using sms much more than they did five years ago.  this was because younger users  often the children of ageing mobile owners  encouraged older people to try it so they could keep in touch.  another factor governing the speed of change in mobile phone use was the simple speed with which new devices are bought by pioneers and materialists. only when about 25% of people have handsets with new innovations on them  such as cameras  can consumers stop worrying that if they send a picture message the person at the other end will be able to see it.  once this significant number of users is passed  use of new innovations tends to take off. dr bjorn said that early reports of camera phone usage in japan seemed to imply that the innovation was going to be a flop. however  he said  now 45% of the japanese people ericsson questioned use their camera phone at least once a month. in 2003 the figure was 29%. similarly  across europe the numbers of people taking snaps with cameras is starting to rise. in 2003 only 4% of the people in the uk took a phonecam snap at least once a month. now the figure is 14%. similar rises have been seen in many other european nations. dr bjorn said that people also used their camera phones in very different ways to film and even digital cameras.  usage patterns for digital cameras are almost exactly replacing usage patterns for analogue cameras   he said. digital cameras tend to be used on significant events such as weddings  holidays and birthdays. by contrast  he said  camera phones were being used much more to capture a moment and were being woven into everyday life.   \n",
              "4                                                                                                                                                                                                                                                                                                                                                                                                                                                                                                                                                                                                                                                                                                                                                                                                                                                                                                                                                                                                                                                                                                                                                                                                                                                                                                                                                                                                                                                                                      enron bosses in $168m payout eighteen former enron directors have agreed a $168m (£89m) settlement deal in a shareholder lawsuit over the collapse of the energy firm.  leading plaintiff  the university of california  announced the news  adding that 10 of the former directors will pay $13m from their own pockets. the settlement will be put to the courts for approval next week. enron went bankrupt in 2001 after it emerged it had hidden hundreds of millions of dollars in debt.  before its collapse  the firm was the seventh biggest public us company by revenue. its demise sent shockwaves through financial markets and dented investor confidence in corporate america.   the settlement is very significant in holding these outside directors at least partially personally responsible   william lerach  the lawyer leading the class action suit against enron  said.  hopefully  this will help send a message to corporate boardrooms of the importance of directors performing their legal duties   he added. under the terms of the $168m settlement - $155m of which will be covered by insurance - none of the 18 former directors will admit any wrongdoing. the deal is the fourth major settlement negotiated by lawyers who filed a class action on behalf of enron s shareholders almost three years ago. so far  including the latest deal  just under $500m (£378.8m) has been retrieved for investors.  however  the latest deal does not include former enron chief executives ken lay and jeff skilling. both men are facing criminal charges for their alleged misconduct in the run up to the firm s collapse. neither does it cover andrew fastow  who has pleaded guilty to taking part in an illegal conspiracy while he was chief financial officer at the group. enron s shareholders are still seeking damages from a long list of other big name defendants including the financial institutions jp morgan chase  citigroup  merrill lynch and credit suisse first boston. the university of california said the trial in the case is scheduled to begin in october 2006. it joined the lawsuit in december 2001alleging  massive insider trading  and fraud  claiming it had lost $145m on its investments in the company.   \n",
              "5                                                                                                                                                                                                                                                                                                                                                                                                                                                                                                                                                                                                                                                                                                                                                                                                                                                                                                                                                                                                                                                                                                                                                                                                                                                                                                                                                                                                                                                                                                                                                                                                                                                                                                                                                                                                                                                                                                                                                                                                                                                                                                                howard  truanted to play snooker  conservative leader michael howard has admitted he used to play truant to spend time with his school friends at a snooker hall.  mr howard said his time at jack s snooker hall in llanelli in the 1950s had not done him  any lasting damage . but he told the times educational supplement that truancy was  very bad  and said  firm action  was needed. mr howard also called for a return to o-levels and more classroom discipline.  mr howard eventually left llanelli grammar school - and the snooker hall - to go to cambridge university. he said:  i don t think it s done me any lasting damage. nor has it made me a snooker world champion.  there might have been some occasions when we left early of an afternoon.   i m just being honest. i think truancy is a very bad thing and that firm action should be taken to deal with it.  another player who has failed to win snooker s world championship - jimmy  the whirlwind   white - has previously admitted missing lessons  instead spending his days in smoky halls.  tony meo [another player] and me used to spend all of our spare time there   mr white said   we loved the game and the atmosphere.  school went out of the window. i went for a while and then started taking time off.  mr howard s fellow welshman ray reardon - known by his fellow professionals as  dracula  - won the snooker world championship six times  having left school at 14 to work as a miner. and terry griffiths  like mr howard from llanelli  won the tournament in 1979. it is not known whether the two of them ever clashed cues at jack s.   \n",
              "6                                                                                                                                                                                                                                                                                                                                                                                                                                                                                                                                                                                                                                                                                                                                                                                                                                                                                                                                                                                                                                                                                                                                                                                                                                                                                                                                                                                                                                                                                                                                                                                                                                                                                                wales silent on grand slam talk rhys williams says wales are still not thinking of winning the grand slam despite a third six nations win.   that s the last thing on our minds at the moment   said williams  a second- half replacement in saturday s 24-18 win over france in paris.  we all realise how difficult a task it is to go up to scotland and beat them.  we ve come unstuck there a couple of times recently so our focus is on that game and we ll worry about ireland hopefully after we ve beaten scotland.  with captain gareth thomas ruled out of the rest of the campaign with a broken thumb  williams is vying for his first start in the championship so far.  kevin morgan is probably favourite to replace thomas at full-back  leaving williams and hal luscombe to battle for the right wing berth. a hamstring injury denied luscombe the opportunity to make a third successive start  but the dragons winger is expected to be fit for the trip to murrayfield on 13 march. hooker robin mcbryde is doubtful after picking up a knee injury in paris  but centre sonny parker and flanker colin charvis are set to recover from injury to be in contention for selection. said wales assistant coach scott johnson:  they ve worked through the weekend and the reports are a bit more positive.  so we re getting a couple back and that adds to the depth of the squad.  scotland secured their first win of the campaign on saturday by grinding out an 18-10 win over italy.  matt williams  side has shown little in attack  but johnson insisted the scots will be difficult opposition to break down.  italy are really brave opposition and sometimes it s very hard to win   he said.  so an ugly win can be just as effective as a 30 or 40 point victory.  scotland are a hard side and very underrated so we re not taking anything for granted.  we re not basking in the glory of winning our first three games. we ve got to be diligent in our preparation.  that s my job and we ve got to make sure we re focused.   \n",
              "7                                                                                                                                                                                                                                                                                                                                                                                                                                                                                                                                                                                                                                                                                                                                                                                                                                                                                                                                                                                                                                                                                                                                                                                                                                                                                                                                                                                                                                                                                                                                                                                                                                                                                                                                                                                                                                                                                                                                                                                                                                                                                                                                                                                                                                                                                                                                                                      french honour for director parker british film director sir alan parker has been made an officer in the order of arts and letters  one of france s highest cultural honours.  sir alan received his decoration in paris on wednesday from french culture minister renaud donnedieu de vabres.  you have explored the possibilities of film with an immense talent   mr de vabres said as he presented the award. parker praised french films  saying:  hollywood  which created modern cinema  uses it only as a commodity.  he told the minister:  i am honoured to be thus distinguished by france  the flag carrier of cinema throughout the world.  sir alan s films include oscar-winning fame plus midnight express and the commitments.  a founding member of the director s guild of great britain  he is a former chairman of the uk film council and on the board of the british film institute.  through your work and your campaigns  you have shown us how the artist occupies an essential place in our contemporary society   mr de vabres said.  through your dreams which you show us  through the links that you weave  you question the world through the mirror of your work.  he also cited the director s 2003 film the life of david gale  in which kevin spacey played a man on death row  as proof of his  veritable artistic commitment against the death sentence .   \n",
              "8                                                                                                                                                                                                                                                                                                                                                                                                                                                                                                                                                                                                                                                                                                                                                                                                                                                                                                                                                                                                                                                   car giant hit by mercedes slump a slump in profitability at luxury car maker mercedes has prompted a big drop in profits at parent daimlerchrysler.  the german-us carmaker saw fourth quarter operating profits fall to 785m euros ($1bn) from 2.4bn euros in 2003. mercedes-benz s woes - its profits slid to just 20m euros - obscured a strong performance from the chrysler group whose returns met market expectations. mercedes faces fierce competition in the luxury car sector from bmw and but hopes to revive its fortunes by 2006.  mercedes  profits over the period compared unfavourably with 2003 s 784m euro figure and were well below analyst expectations of 374m euros. for the year as a whole  its operating profits fell 46% to 1.6bn euros. sales of mercedes  brands fell 2% as demand cooled  while revenues were affected by the weakness of the us dollar.  the carmaker blamed the fall in profits on high launch costs for new models and losses from its mercedes smart mini-car range. mercedes is hoping to increase productivity by 3bn euros  having negotiated 500m euros in annual savings with german workers last year. the firm said it was determined to retain mercedes  position as the world s most successful luxury brand. however  daimlerchrysler s shares fell 1.5% on the news.  while all these divisions are doing well the big worries continue to surround mercedes-benz   michael rabb  an analyst with bank sal oppenheim  told reuters.  in contrast  chrysler enjoyed a 5% annual increase in unit sales while revenues - calculated in us dollars - rose 10%. the us division - whose marques include dodge and jeep - transformed a full year operating loss of 506m euros in 2003 into a 1.4bn euros profit last year.  overall  daimlerchrysler saw worldwide vehicle sales rise 8% to 4.7 million in 2004 while total revenues added 4% to 142bn euros. chrysler s strong performance helped the world s fifth largest carmaker boost net income by 400m euros to 2.5bn euros.   the year 2004 shows that our strategy works well - even in such a challenging competitive environment   said jurgen schrempp  daimlerchrysler s chairman. daimlerchrysler took a 475m euro hit in costs stemming from a defects scandal at its joint venture  japanese subsidiary fuso. daimlerchrysler last week agreed a compensation package with partner mitsubishi motors which will see it buy out its stake in fuso. looking forward  daimerchrysler s profits are expected to be slightly higher in 2005. however  it is expecting  significant improvements  in profitability in 2006 as a result of a major investment in the mercedes product range.   \n",
              "9                                                                                                                                                                                                                                                                                                                                                                                                                                                                                                                                                                                                                                                                                                                                                                                                                                                                                                                                                                                                                                                                                                                                                                                                                                                                                                                                                                                                                                                                                                                                                                                                                                                                                                                                                                                                                                                                                                                                                                                                                                                                                                                                                                                                                                                                                                                                            fockers fuel festive film chart comedy meet the fockers topped the festive box office in north america  setting a new record for christmas day.  the sequel took $44.7m (£23.2m) between 24 and 26 december  according to studio estimates. it took $19.1m (£9.9m) on christmas day alone  the highest takings on that day in box office history. meet the fockers is the sequel to ben stiller comedy meet the parents  also starring robert de niro  blythe danner  dustin hoffman and barbra streisand. despite the success of meet the fockers  takings were down 26.5% on 2003 s figures - which was blamed on christmas falling over a weekend this year.   when christmas falls on a weekend  it s bad for business   said paul dergarabedian  president of exhibitor relations  which compiles box office statistics. the weekend s top 12 films took an estimated $121.9m (£63.3m)  compared with $165.8m (£86.1m) last year  when the third lord of the rings film dominated the box office. meet the fockers knocked last week s top film  lemony snicket s a series of unfortunate events  down to third place  with $12.5m (£6.5m). comedy fat albert - co-written by bill cosby - entered the chart in second place after opening on christmas day  taking $12.7m (£6.6m). the aviator  starring leonardo dicaprio as howard hughes  took $9.4m after expanding from 40 to 1 796 cinemas on christmas day.   \n",
              "\n",
              "        Category  \n",
              "0       business  \n",
              "1       business  \n",
              "2       business  \n",
              "3           tech  \n",
              "4       business  \n",
              "5       politics  \n",
              "6          sport  \n",
              "7  entertainment  \n",
              "8       business  \n",
              "9  entertainment  "
            ],
            "text/html": [
              "\n",
              "  <div id=\"df-130ec763-a889-48de-87c4-6bf6efdad578\">\n",
              "    <div class=\"colab-df-container\">\n",
              "      <div>\n",
              "<style scoped>\n",
              "    .dataframe tbody tr th:only-of-type {\n",
              "        vertical-align: middle;\n",
              "    }\n",
              "\n",
              "    .dataframe tbody tr th {\n",
              "        vertical-align: top;\n",
              "    }\n",
              "\n",
              "    .dataframe thead th {\n",
              "        text-align: right;\n",
              "    }\n",
              "</style>\n",
              "<table border=\"1\" class=\"dataframe\">\n",
              "  <thead>\n",
              "    <tr style=\"text-align: right;\">\n",
              "      <th></th>\n",
              "      <th>Text</th>\n",
              "      <th>Category</th>\n",
              "    </tr>\n",
              "  </thead>\n",
              "  <tbody>\n",
              "    <tr>\n",
              "      <th>0</th>\n",
              "      <td>worldcom ex-boss launches defence lawyers defending former worldcom chief bernie ebbers against a battery of fraud charges have called a company whistleblower as their first witness.  cynthia cooper  worldcom s ex-head of internal accounting  alerted directors to irregular accounting practices at the us telecoms giant in 2002. her warnings led to the collapse of the firm following the discovery of an $11bn (£5.7bn) accounting fraud. mr ebbers has pleaded not guilty to charges of fraud and conspiracy.  prosecution lawyers have argued that mr ebbers orchestrated a series of accounting tricks at worldcom  ordering employees to hide expenses and inflate revenues to meet wall street earnings estimates. but ms cooper  who now runs her own consulting business  told a jury in new york on wednesday that external auditors arthur andersen had approved worldcom s accounting in early 2001 and 2002. she said andersen had given a  green light  to the procedures and practices used by worldcom. mr ebber s lawyers have said he was unaware of the fraud  arguing that auditors did not alert him to any problems.  ms cooper also said that during shareholder meetings mr ebbers often passed over technical questions to the company s finance chief  giving only  brief  answers himself. the prosecution s star witness  former worldcom financial chief scott sullivan  has said that mr ebbers ordered accounting adjustments at the firm  telling him to  hit our books . however  ms cooper said mr sullivan had not mentioned  anything uncomfortable  about worldcom s accounting during a 2001 audit committee meeting. mr ebbers could face a jail sentence of 85 years if convicted of all the charges he is facing. worldcom emerged from bankruptcy protection in 2004  and is now known as mci. last week  mci agreed to a buyout by verizon communications in a deal valued at $6.75bn.</td>\n",
              "      <td>business</td>\n",
              "    </tr>\n",
              "    <tr>\n",
              "      <th>1</th>\n",
              "      <td>german business confidence slides german business confidence fell in february knocking hopes of a speedy recovery in europe s largest economy.  munich-based research institute ifo said that its confidence index fell to 95.5 in february from 97.5 in january  its first decline in three months. the study found that the outlook in both the manufacturing and retail sectors had worsened. observers had been hoping that a more confident business sector would signal that economic activity was picking up.   we re surprised that the ifo index has taken such a knock   said dz bank economist bernd weidensteiner.  the main reason is probably that the domestic economy is still weak  particularly in the retail trade.  economy and labour minister wolfgang clement called the dip in february s ifo confidence figure  a very mild decline . he said that despite the retreat  the index remained at a relatively high level and that he expected  a modest economic upswing  to continue.  germany s economy grew 1.6% last year after shrinking in 2003. however  the economy contracted by 0.2% during the last three months of 2004  mainly due to the reluctance of consumers to spend. latest indications are that growth is still proving elusive and ifo president hans-werner sinn said any improvement in german domestic demand was sluggish. exports had kept things going during the first half of 2004  but demand for exports was then hit as the value of the euro hit record levels making german products less competitive overseas. on top of that  the unemployment rate has been stuck at close to 10% and manufacturing firms  including daimlerchrysler  siemens and volkswagen  have been negotiating with unions over cost cutting measures. analysts said that the ifo figures and germany s continuing problems may delay an interest rate rise by the european central bank. eurozone interest rates are at 2%  but comments from senior officials have recently focused on the threat of inflation  prompting fears that interest rates may rise.</td>\n",
              "      <td>business</td>\n",
              "    </tr>\n",
              "    <tr>\n",
              "      <th>2</th>\n",
              "      <td>bbc poll indicates economic gloom citizens in a majority of nations surveyed in a bbc world service poll believe the world economy is worsening.  most respondents also said their national economy was getting worse. but when asked about their own family s financial outlook  a majority in 14 countries said they were positive about the future. almost 23 000 people in 22 countries were questioned for the poll  which was mostly conducted before the asian tsunami disaster. the poll found that a majority or plurality of people in 13 countries believed the economy was going downhill  compared with respondents in nine countries who believed it was improving. those surveyed in three countries were split. in percentage terms  an average of 44% of respondents in each country said the world economy was getting worse  compared to 34% who said it was improving. similarly  48% were pessimistic about their national economy  while 41% were optimistic. and 47% saw their family s economic conditions improving  as against 36% who said they were getting worse.  the poll of 22 953 people was conducted by the international polling firm globescan  together with the program on international policy attitudes (pipa) at the university of maryland.  while the world economy has picked up from difficult times just a few years ago  people seem to not have fully absorbed this development  though they are personally experiencing its effects   said pipa director steven kull.  people around the world are saying:  i m ok  but the world isn t .  there may be a perception that war  terrorism and religious and political divisions are making the world a worse place  even though that has not so far been reflected in global economic performance  says the bbc s elizabeth blunt.  the countries where people were most optimistic  both for the world and for their own families  were two fast-growing developing economies  china and india  followed by indonesia. china has seen two decades of blistering economic growth  which has led to wealth creation on a huge scale  says the bbc s louisa lim in beijing. but the results also may reflect the untrammelled confidence of people who are subject to endless government propaganda about their country s rosy economic future  our correspondent says. south korea was the most pessimistic  while respondents in italy and mexico were also quite gloomy. the bbc s david willey in rome says one reason for that result is the changeover from the lira to the euro in 2001  which is widely viewed as the biggest reason why their wages and salaries are worth less than they used to be. the philippines was among the most upbeat countries on prospects for respondents  families  but one of the most pessimistic about the world economy. pipa conducted the poll from 15 november 2004 to 3 january 2005 across 22 countries in face-to-face or telephone interviews. the interviews took place between 15 november 2004 and 5 january 2005. the margin of error is between 2.5 and 4 points  depending on the country. in eight of the countries  the sample was limited to major metropolitan areas.</td>\n",
              "      <td>business</td>\n",
              "    </tr>\n",
              "    <tr>\n",
              "      <th>3</th>\n",
              "      <td>lifestyle  governs mobile choice  faster  better or funkier hardware alone is not going to help phone firms sell more handsets  research suggests.  instead  phone firms keen to get more out of their customers should not just be pushing the technology for its own sake. consumers are far more interested in how handsets fit in with their lifestyle than they are in screen size  onboard memory or the chip inside  shows an in-depth study by handset maker ericsson.  historically in the industry there has been too much focus on using technology   said dr michael bjorn  senior advisor on mobile media at ericsson s consumer and enterprise lab.  we have to stop saying that these technologies will change their lives   he said.  we should try to speak to consumers in their own language and help them see how it fits in with what they are doing   he told the bbc news website.  for the study  ericsson interviewed 14 000 mobile phone owners on the ways they use their phone.  people s habits remain the same   said dr bjorn.  they just move the activity into the mobile phone as it s a much more convenient way to do it.   one good example of this was diary-writing among younger people  he said. while diaries have always been popular  a mobile phone -- especially one equipped with a camera -- helps them keep it in a different form. youngsters  use of text messages also reflects their desire to chat and keep in contact with friends and again just lets them do it in a slightly changed way. dr bjorn said that although consumers do what they always did but use a phone to do it  the sheer variety of what the new handset technologies make possible does gradually drive new habits and lifestyles. ericsson s research has shown that consumers divide into different  tribes  that use phones in different ways. dr bjorn said groups dubbed  pioneers  and  materialists  were most interested in trying new things and were behind the start of many trends in phone use.  for instance   he said   older people are using sms much more than they did five years ago.  this was because younger users  often the children of ageing mobile owners  encouraged older people to try it so they could keep in touch.  another factor governing the speed of change in mobile phone use was the simple speed with which new devices are bought by pioneers and materialists. only when about 25% of people have handsets with new innovations on them  such as cameras  can consumers stop worrying that if they send a picture message the person at the other end will be able to see it.  once this significant number of users is passed  use of new innovations tends to take off. dr bjorn said that early reports of camera phone usage in japan seemed to imply that the innovation was going to be a flop. however  he said  now 45% of the japanese people ericsson questioned use their camera phone at least once a month. in 2003 the figure was 29%. similarly  across europe the numbers of people taking snaps with cameras is starting to rise. in 2003 only 4% of the people in the uk took a phonecam snap at least once a month. now the figure is 14%. similar rises have been seen in many other european nations. dr bjorn said that people also used their camera phones in very different ways to film and even digital cameras.  usage patterns for digital cameras are almost exactly replacing usage patterns for analogue cameras   he said. digital cameras tend to be used on significant events such as weddings  holidays and birthdays. by contrast  he said  camera phones were being used much more to capture a moment and were being woven into everyday life.</td>\n",
              "      <td>tech</td>\n",
              "    </tr>\n",
              "    <tr>\n",
              "      <th>4</th>\n",
              "      <td>enron bosses in $168m payout eighteen former enron directors have agreed a $168m (£89m) settlement deal in a shareholder lawsuit over the collapse of the energy firm.  leading plaintiff  the university of california  announced the news  adding that 10 of the former directors will pay $13m from their own pockets. the settlement will be put to the courts for approval next week. enron went bankrupt in 2001 after it emerged it had hidden hundreds of millions of dollars in debt.  before its collapse  the firm was the seventh biggest public us company by revenue. its demise sent shockwaves through financial markets and dented investor confidence in corporate america.   the settlement is very significant in holding these outside directors at least partially personally responsible   william lerach  the lawyer leading the class action suit against enron  said.  hopefully  this will help send a message to corporate boardrooms of the importance of directors performing their legal duties   he added. under the terms of the $168m settlement - $155m of which will be covered by insurance - none of the 18 former directors will admit any wrongdoing. the deal is the fourth major settlement negotiated by lawyers who filed a class action on behalf of enron s shareholders almost three years ago. so far  including the latest deal  just under $500m (£378.8m) has been retrieved for investors.  however  the latest deal does not include former enron chief executives ken lay and jeff skilling. both men are facing criminal charges for their alleged misconduct in the run up to the firm s collapse. neither does it cover andrew fastow  who has pleaded guilty to taking part in an illegal conspiracy while he was chief financial officer at the group. enron s shareholders are still seeking damages from a long list of other big name defendants including the financial institutions jp morgan chase  citigroup  merrill lynch and credit suisse first boston. the university of california said the trial in the case is scheduled to begin in october 2006. it joined the lawsuit in december 2001alleging  massive insider trading  and fraud  claiming it had lost $145m on its investments in the company.</td>\n",
              "      <td>business</td>\n",
              "    </tr>\n",
              "    <tr>\n",
              "      <th>5</th>\n",
              "      <td>howard  truanted to play snooker  conservative leader michael howard has admitted he used to play truant to spend time with his school friends at a snooker hall.  mr howard said his time at jack s snooker hall in llanelli in the 1950s had not done him  any lasting damage . but he told the times educational supplement that truancy was  very bad  and said  firm action  was needed. mr howard also called for a return to o-levels and more classroom discipline.  mr howard eventually left llanelli grammar school - and the snooker hall - to go to cambridge university. he said:  i don t think it s done me any lasting damage. nor has it made me a snooker world champion.  there might have been some occasions when we left early of an afternoon.   i m just being honest. i think truancy is a very bad thing and that firm action should be taken to deal with it.  another player who has failed to win snooker s world championship - jimmy  the whirlwind   white - has previously admitted missing lessons  instead spending his days in smoky halls.  tony meo [another player] and me used to spend all of our spare time there   mr white said   we loved the game and the atmosphere.  school went out of the window. i went for a while and then started taking time off.  mr howard s fellow welshman ray reardon - known by his fellow professionals as  dracula  - won the snooker world championship six times  having left school at 14 to work as a miner. and terry griffiths  like mr howard from llanelli  won the tournament in 1979. it is not known whether the two of them ever clashed cues at jack s.</td>\n",
              "      <td>politics</td>\n",
              "    </tr>\n",
              "    <tr>\n",
              "      <th>6</th>\n",
              "      <td>wales silent on grand slam talk rhys williams says wales are still not thinking of winning the grand slam despite a third six nations win.   that s the last thing on our minds at the moment   said williams  a second- half replacement in saturday s 24-18 win over france in paris.  we all realise how difficult a task it is to go up to scotland and beat them.  we ve come unstuck there a couple of times recently so our focus is on that game and we ll worry about ireland hopefully after we ve beaten scotland.  with captain gareth thomas ruled out of the rest of the campaign with a broken thumb  williams is vying for his first start in the championship so far.  kevin morgan is probably favourite to replace thomas at full-back  leaving williams and hal luscombe to battle for the right wing berth. a hamstring injury denied luscombe the opportunity to make a third successive start  but the dragons winger is expected to be fit for the trip to murrayfield on 13 march. hooker robin mcbryde is doubtful after picking up a knee injury in paris  but centre sonny parker and flanker colin charvis are set to recover from injury to be in contention for selection. said wales assistant coach scott johnson:  they ve worked through the weekend and the reports are a bit more positive.  so we re getting a couple back and that adds to the depth of the squad.  scotland secured their first win of the campaign on saturday by grinding out an 18-10 win over italy.  matt williams  side has shown little in attack  but johnson insisted the scots will be difficult opposition to break down.  italy are really brave opposition and sometimes it s very hard to win   he said.  so an ugly win can be just as effective as a 30 or 40 point victory.  scotland are a hard side and very underrated so we re not taking anything for granted.  we re not basking in the glory of winning our first three games. we ve got to be diligent in our preparation.  that s my job and we ve got to make sure we re focused.</td>\n",
              "      <td>sport</td>\n",
              "    </tr>\n",
              "    <tr>\n",
              "      <th>7</th>\n",
              "      <td>french honour for director parker british film director sir alan parker has been made an officer in the order of arts and letters  one of france s highest cultural honours.  sir alan received his decoration in paris on wednesday from french culture minister renaud donnedieu de vabres.  you have explored the possibilities of film with an immense talent   mr de vabres said as he presented the award. parker praised french films  saying:  hollywood  which created modern cinema  uses it only as a commodity.  he told the minister:  i am honoured to be thus distinguished by france  the flag carrier of cinema throughout the world.  sir alan s films include oscar-winning fame plus midnight express and the commitments.  a founding member of the director s guild of great britain  he is a former chairman of the uk film council and on the board of the british film institute.  through your work and your campaigns  you have shown us how the artist occupies an essential place in our contemporary society   mr de vabres said.  through your dreams which you show us  through the links that you weave  you question the world through the mirror of your work.  he also cited the director s 2003 film the life of david gale  in which kevin spacey played a man on death row  as proof of his  veritable artistic commitment against the death sentence .</td>\n",
              "      <td>entertainment</td>\n",
              "    </tr>\n",
              "    <tr>\n",
              "      <th>8</th>\n",
              "      <td>car giant hit by mercedes slump a slump in profitability at luxury car maker mercedes has prompted a big drop in profits at parent daimlerchrysler.  the german-us carmaker saw fourth quarter operating profits fall to 785m euros ($1bn) from 2.4bn euros in 2003. mercedes-benz s woes - its profits slid to just 20m euros - obscured a strong performance from the chrysler group whose returns met market expectations. mercedes faces fierce competition in the luxury car sector from bmw and but hopes to revive its fortunes by 2006.  mercedes  profits over the period compared unfavourably with 2003 s 784m euro figure and were well below analyst expectations of 374m euros. for the year as a whole  its operating profits fell 46% to 1.6bn euros. sales of mercedes  brands fell 2% as demand cooled  while revenues were affected by the weakness of the us dollar.  the carmaker blamed the fall in profits on high launch costs for new models and losses from its mercedes smart mini-car range. mercedes is hoping to increase productivity by 3bn euros  having negotiated 500m euros in annual savings with german workers last year. the firm said it was determined to retain mercedes  position as the world s most successful luxury brand. however  daimlerchrysler s shares fell 1.5% on the news.  while all these divisions are doing well the big worries continue to surround mercedes-benz   michael rabb  an analyst with bank sal oppenheim  told reuters.  in contrast  chrysler enjoyed a 5% annual increase in unit sales while revenues - calculated in us dollars - rose 10%. the us division - whose marques include dodge and jeep - transformed a full year operating loss of 506m euros in 2003 into a 1.4bn euros profit last year.  overall  daimlerchrysler saw worldwide vehicle sales rise 8% to 4.7 million in 2004 while total revenues added 4% to 142bn euros. chrysler s strong performance helped the world s fifth largest carmaker boost net income by 400m euros to 2.5bn euros.   the year 2004 shows that our strategy works well - even in such a challenging competitive environment   said jurgen schrempp  daimlerchrysler s chairman. daimlerchrysler took a 475m euro hit in costs stemming from a defects scandal at its joint venture  japanese subsidiary fuso. daimlerchrysler last week agreed a compensation package with partner mitsubishi motors which will see it buy out its stake in fuso. looking forward  daimerchrysler s profits are expected to be slightly higher in 2005. however  it is expecting  significant improvements  in profitability in 2006 as a result of a major investment in the mercedes product range.</td>\n",
              "      <td>business</td>\n",
              "    </tr>\n",
              "    <tr>\n",
              "      <th>9</th>\n",
              "      <td>fockers fuel festive film chart comedy meet the fockers topped the festive box office in north america  setting a new record for christmas day.  the sequel took $44.7m (£23.2m) between 24 and 26 december  according to studio estimates. it took $19.1m (£9.9m) on christmas day alone  the highest takings on that day in box office history. meet the fockers is the sequel to ben stiller comedy meet the parents  also starring robert de niro  blythe danner  dustin hoffman and barbra streisand. despite the success of meet the fockers  takings were down 26.5% on 2003 s figures - which was blamed on christmas falling over a weekend this year.   when christmas falls on a weekend  it s bad for business   said paul dergarabedian  president of exhibitor relations  which compiles box office statistics. the weekend s top 12 films took an estimated $121.9m (£63.3m)  compared with $165.8m (£86.1m) last year  when the third lord of the rings film dominated the box office. meet the fockers knocked last week s top film  lemony snicket s a series of unfortunate events  down to third place  with $12.5m (£6.5m). comedy fat albert - co-written by bill cosby - entered the chart in second place after opening on christmas day  taking $12.7m (£6.6m). the aviator  starring leonardo dicaprio as howard hughes  took $9.4m after expanding from 40 to 1 796 cinemas on christmas day.</td>\n",
              "      <td>entertainment</td>\n",
              "    </tr>\n",
              "  </tbody>\n",
              "</table>\n",
              "</div>\n",
              "      <button class=\"colab-df-convert\" onclick=\"convertToInteractive('df-130ec763-a889-48de-87c4-6bf6efdad578')\"\n",
              "              title=\"Convert this dataframe to an interactive table.\"\n",
              "              style=\"display:none;\">\n",
              "        \n",
              "  <svg xmlns=\"http://www.w3.org/2000/svg\" height=\"24px\"viewBox=\"0 0 24 24\"\n",
              "       width=\"24px\">\n",
              "    <path d=\"M0 0h24v24H0V0z\" fill=\"none\"/>\n",
              "    <path d=\"M18.56 5.44l.94 2.06.94-2.06 2.06-.94-2.06-.94-.94-2.06-.94 2.06-2.06.94zm-11 1L8.5 8.5l.94-2.06 2.06-.94-2.06-.94L8.5 2.5l-.94 2.06-2.06.94zm10 10l.94 2.06.94-2.06 2.06-.94-2.06-.94-.94-2.06-.94 2.06-2.06.94z\"/><path d=\"M17.41 7.96l-1.37-1.37c-.4-.4-.92-.59-1.43-.59-.52 0-1.04.2-1.43.59L10.3 9.45l-7.72 7.72c-.78.78-.78 2.05 0 2.83L4 21.41c.39.39.9.59 1.41.59.51 0 1.02-.2 1.41-.59l7.78-7.78 2.81-2.81c.8-.78.8-2.07 0-2.86zM5.41 20L4 18.59l7.72-7.72 1.47 1.35L5.41 20z\"/>\n",
              "  </svg>\n",
              "      </button>\n",
              "      \n",
              "  <style>\n",
              "    .colab-df-container {\n",
              "      display:flex;\n",
              "      flex-wrap:wrap;\n",
              "      gap: 12px;\n",
              "    }\n",
              "\n",
              "    .colab-df-convert {\n",
              "      background-color: #E8F0FE;\n",
              "      border: none;\n",
              "      border-radius: 50%;\n",
              "      cursor: pointer;\n",
              "      display: none;\n",
              "      fill: #1967D2;\n",
              "      height: 32px;\n",
              "      padding: 0 0 0 0;\n",
              "      width: 32px;\n",
              "    }\n",
              "\n",
              "    .colab-df-convert:hover {\n",
              "      background-color: #E2EBFA;\n",
              "      box-shadow: 0px 1px 2px rgba(60, 64, 67, 0.3), 0px 1px 3px 1px rgba(60, 64, 67, 0.15);\n",
              "      fill: #174EA6;\n",
              "    }\n",
              "\n",
              "    [theme=dark] .colab-df-convert {\n",
              "      background-color: #3B4455;\n",
              "      fill: #D2E3FC;\n",
              "    }\n",
              "\n",
              "    [theme=dark] .colab-df-convert:hover {\n",
              "      background-color: #434B5C;\n",
              "      box-shadow: 0px 1px 3px 1px rgba(0, 0, 0, 0.15);\n",
              "      filter: drop-shadow(0px 1px 2px rgba(0, 0, 0, 0.3));\n",
              "      fill: #FFFFFF;\n",
              "    }\n",
              "  </style>\n",
              "\n",
              "      <script>\n",
              "        const buttonEl =\n",
              "          document.querySelector('#df-130ec763-a889-48de-87c4-6bf6efdad578 button.colab-df-convert');\n",
              "        buttonEl.style.display =\n",
              "          google.colab.kernel.accessAllowed ? 'block' : 'none';\n",
              "\n",
              "        async function convertToInteractive(key) {\n",
              "          const element = document.querySelector('#df-130ec763-a889-48de-87c4-6bf6efdad578');\n",
              "          const dataTable =\n",
              "            await google.colab.kernel.invokeFunction('convertToInteractive',\n",
              "                                                     [key], {});\n",
              "          if (!dataTable) return;\n",
              "\n",
              "          const docLinkHtml = 'Like what you see? Visit the ' +\n",
              "            '<a target=\"_blank\" href=https://colab.research.google.com/notebooks/data_table.ipynb>data table notebook</a>'\n",
              "            + ' to learn more about interactive tables.';\n",
              "          element.innerHTML = '';\n",
              "          dataTable['output_type'] = 'display_data';\n",
              "          await google.colab.output.renderOutput(dataTable, element);\n",
              "          const docLink = document.createElement('div');\n",
              "          docLink.innerHTML = docLinkHtml;\n",
              "          element.appendChild(docLink);\n",
              "        }\n",
              "      </script>\n",
              "    </div>\n",
              "  </div>\n",
              "  "
            ]
          },
          "metadata": {},
          "execution_count": 71
        }
      ]
    },
    {
      "cell_type": "code",
      "source": [
        "train_data.to_csv('_finalCleaned.csv') #Save cleaned data into a CSV file"
      ],
      "metadata": {
        "id": "FzILnNo2xBD0"
      },
      "execution_count": null,
      "outputs": []
    },
    {
      "cell_type": "markdown",
      "source": [
        "# Data Preprocessing"
      ],
      "metadata": {
        "id": "ATiCf94drb6g"
      }
    },
    {
      "cell_type": "code",
      "source": [
        "data = pd.read_csv(\"_finalCleaned.csv\").drop('Unnamed: 0',axis=1)"
      ],
      "metadata": {
        "id": "PdKOb0tl9o3O"
      },
      "execution_count": null,
      "outputs": []
    },
    {
      "cell_type": "code",
      "source": [
        "pd.set_option('display.max_colwidth',None) #Sets the maximum width of a column to None\n",
        "data.head()"
      ],
      "metadata": {
        "colab": {
          "base_uri": "https://localhost:8080/",
          "height": 1000
        },
        "id": "oIqiH3CoyQdL",
        "outputId": "2b08d8d6-3361-45a3-ee68-c35ab462c196"
      },
      "execution_count": null,
      "outputs": [
        {
          "output_type": "execute_result",
          "data": {
            "text/plain": [
              "                                                                                                                                                                                                                                                                                                                                                                                                                                                                                                                                                                                                                                                                                                                                                                                                                                                                                                                                                                                                                                                                                                                                                                                                                                                                                                                                                                                                                                                                                                                                                                                                                                                                                                                                                                                                                                                                                                                                                                                                                                                                                                                                                                                                                                                                                                                                                                                                                                                                                                                                                                                                                                                                                                                                                                                                                                                                                                                                                                                                                                                                                                                                                                                                                                                                                                                                                                                                                                                                                                                                                                                                                                                                                                                                                                 Text  \\\n",
              "0                                                                                                                                                                                                                                                                                                                                                                                                                                                                                                                                                                                                                                                                                                                                                                                                                                                                                                                                                                                                                                                                                                                                                                                                                                                                                                                                                                                                                                                                                                                                                                                                                                                                                                                                                                                                                          worldcom ex-boss launches defence lawyers defending former worldcom chief bernie ebbers against a battery of fraud charges have called a company whistleblower as their first witness.  cynthia cooper  worldcom s ex-head of internal accounting  alerted directors to irregular accounting practices at the us telecoms giant in 2002. her warnings led to the collapse of the firm following the discovery of an $11bn (£5.7bn) accounting fraud. mr ebbers has pleaded not guilty to charges of fraud and conspiracy.  prosecution lawyers have argued that mr ebbers orchestrated a series of accounting tricks at worldcom  ordering employees to hide expenses and inflate revenues to meet wall street earnings estimates. but ms cooper  who now runs her own consulting business  told a jury in new york on wednesday that external auditors arthur andersen had approved worldcom s accounting in early 2001 and 2002. she said andersen had given a  green light  to the procedures and practices used by worldcom. mr ebber s lawyers have said he was unaware of the fraud  arguing that auditors did not alert him to any problems.  ms cooper also said that during shareholder meetings mr ebbers often passed over technical questions to the company s finance chief  giving only  brief  answers himself. the prosecution s star witness  former worldcom financial chief scott sullivan  has said that mr ebbers ordered accounting adjustments at the firm  telling him to  hit our books . however  ms cooper said mr sullivan had not mentioned  anything uncomfortable  about worldcom s accounting during a 2001 audit committee meeting. mr ebbers could face a jail sentence of 85 years if convicted of all the charges he is facing. worldcom emerged from bankruptcy protection in 2004  and is now known as mci. last week  mci agreed to a buyout by verizon communications in a deal valued at $6.75bn.   \n",
              "1                                                                                                                                                                                                                                                                                                                                                                                                                                                                                                                                                                                                                                                                                                                                                                                                                                                                                                                                                                                                                                                                                                                                                                                                                                                                                                                                                                                                                                                                                                                                                                                                                                                                    german business confidence slides german business confidence fell in february knocking hopes of a speedy recovery in europe s largest economy.  munich-based research institute ifo said that its confidence index fell to 95.5 in february from 97.5 in january  its first decline in three months. the study found that the outlook in both the manufacturing and retail sectors had worsened. observers had been hoping that a more confident business sector would signal that economic activity was picking up.   we re surprised that the ifo index has taken such a knock   said dz bank economist bernd weidensteiner.  the main reason is probably that the domestic economy is still weak  particularly in the retail trade.  economy and labour minister wolfgang clement called the dip in february s ifo confidence figure  a very mild decline . he said that despite the retreat  the index remained at a relatively high level and that he expected  a modest economic upswing  to continue.  germany s economy grew 1.6% last year after shrinking in 2003. however  the economy contracted by 0.2% during the last three months of 2004  mainly due to the reluctance of consumers to spend. latest indications are that growth is still proving elusive and ifo president hans-werner sinn said any improvement in german domestic demand was sluggish. exports had kept things going during the first half of 2004  but demand for exports was then hit as the value of the euro hit record levels making german products less competitive overseas. on top of that  the unemployment rate has been stuck at close to 10% and manufacturing firms  including daimlerchrysler  siemens and volkswagen  have been negotiating with unions over cost cutting measures. analysts said that the ifo figures and germany s continuing problems may delay an interest rate rise by the european central bank. eurozone interest rates are at 2%  but comments from senior officials have recently focused on the threat of inflation  prompting fears that interest rates may rise.   \n",
              "2                                                                                                                                                                                                                                                                                                                                                                                                                                                                                                                                    bbc poll indicates economic gloom citizens in a majority of nations surveyed in a bbc world service poll believe the world economy is worsening.  most respondents also said their national economy was getting worse. but when asked about their own family s financial outlook  a majority in 14 countries said they were positive about the future. almost 23 000 people in 22 countries were questioned for the poll  which was mostly conducted before the asian tsunami disaster. the poll found that a majority or plurality of people in 13 countries believed the economy was going downhill  compared with respondents in nine countries who believed it was improving. those surveyed in three countries were split. in percentage terms  an average of 44% of respondents in each country said the world economy was getting worse  compared to 34% who said it was improving. similarly  48% were pessimistic about their national economy  while 41% were optimistic. and 47% saw their family s economic conditions improving  as against 36% who said they were getting worse.  the poll of 22 953 people was conducted by the international polling firm globescan  together with the program on international policy attitudes (pipa) at the university of maryland.  while the world economy has picked up from difficult times just a few years ago  people seem to not have fully absorbed this development  though they are personally experiencing its effects   said pipa director steven kull.  people around the world are saying:  i m ok  but the world isn t .  there may be a perception that war  terrorism and religious and political divisions are making the world a worse place  even though that has not so far been reflected in global economic performance  says the bbc s elizabeth blunt.  the countries where people were most optimistic  both for the world and for their own families  were two fast-growing developing economies  china and india  followed by indonesia. china has seen two decades of blistering economic growth  which has led to wealth creation on a huge scale  says the bbc s louisa lim in beijing. but the results also may reflect the untrammelled confidence of people who are subject to endless government propaganda about their country s rosy economic future  our correspondent says. south korea was the most pessimistic  while respondents in italy and mexico were also quite gloomy. the bbc s david willey in rome says one reason for that result is the changeover from the lira to the euro in 2001  which is widely viewed as the biggest reason why their wages and salaries are worth less than they used to be. the philippines was among the most upbeat countries on prospects for respondents  families  but one of the most pessimistic about the world economy. pipa conducted the poll from 15 november 2004 to 3 january 2005 across 22 countries in face-to-face or telephone interviews. the interviews took place between 15 november 2004 and 5 january 2005. the margin of error is between 2.5 and 4 points  depending on the country. in eight of the countries  the sample was limited to major metropolitan areas.   \n",
              "3  lifestyle  governs mobile choice  faster  better or funkier hardware alone is not going to help phone firms sell more handsets  research suggests.  instead  phone firms keen to get more out of their customers should not just be pushing the technology for its own sake. consumers are far more interested in how handsets fit in with their lifestyle than they are in screen size  onboard memory or the chip inside  shows an in-depth study by handset maker ericsson.  historically in the industry there has been too much focus on using technology   said dr michael bjorn  senior advisor on mobile media at ericsson s consumer and enterprise lab.  we have to stop saying that these technologies will change their lives   he said.  we should try to speak to consumers in their own language and help them see how it fits in with what they are doing   he told the bbc news website.  for the study  ericsson interviewed 14 000 mobile phone owners on the ways they use their phone.  people s habits remain the same   said dr bjorn.  they just move the activity into the mobile phone as it s a much more convenient way to do it.   one good example of this was diary-writing among younger people  he said. while diaries have always been popular  a mobile phone -- especially one equipped with a camera -- helps them keep it in a different form. youngsters  use of text messages also reflects their desire to chat and keep in contact with friends and again just lets them do it in a slightly changed way. dr bjorn said that although consumers do what they always did but use a phone to do it  the sheer variety of what the new handset technologies make possible does gradually drive new habits and lifestyles. ericsson s research has shown that consumers divide into different  tribes  that use phones in different ways. dr bjorn said groups dubbed  pioneers  and  materialists  were most interested in trying new things and were behind the start of many trends in phone use.  for instance   he said   older people are using sms much more than they did five years ago.  this was because younger users  often the children of ageing mobile owners  encouraged older people to try it so they could keep in touch.  another factor governing the speed of change in mobile phone use was the simple speed with which new devices are bought by pioneers and materialists. only when about 25% of people have handsets with new innovations on them  such as cameras  can consumers stop worrying that if they send a picture message the person at the other end will be able to see it.  once this significant number of users is passed  use of new innovations tends to take off. dr bjorn said that early reports of camera phone usage in japan seemed to imply that the innovation was going to be a flop. however  he said  now 45% of the japanese people ericsson questioned use their camera phone at least once a month. in 2003 the figure was 29%. similarly  across europe the numbers of people taking snaps with cameras is starting to rise. in 2003 only 4% of the people in the uk took a phonecam snap at least once a month. now the figure is 14%. similar rises have been seen in many other european nations. dr bjorn said that people also used their camera phones in very different ways to film and even digital cameras.  usage patterns for digital cameras are almost exactly replacing usage patterns for analogue cameras   he said. digital cameras tend to be used on significant events such as weddings  holidays and birthdays. by contrast  he said  camera phones were being used much more to capture a moment and were being woven into everyday life.   \n",
              "4                                                                                                                                                                                                                                                                                                                                                                                                                                                                                                                                                                                                                                                                                                                                                                                                                                                                                                                                                                                                                                                                                                                                                                                                                                                                                                                                                                                                                                                                                      enron bosses in $168m payout eighteen former enron directors have agreed a $168m (£89m) settlement deal in a shareholder lawsuit over the collapse of the energy firm.  leading plaintiff  the university of california  announced the news  adding that 10 of the former directors will pay $13m from their own pockets. the settlement will be put to the courts for approval next week. enron went bankrupt in 2001 after it emerged it had hidden hundreds of millions of dollars in debt.  before its collapse  the firm was the seventh biggest public us company by revenue. its demise sent shockwaves through financial markets and dented investor confidence in corporate america.   the settlement is very significant in holding these outside directors at least partially personally responsible   william lerach  the lawyer leading the class action suit against enron  said.  hopefully  this will help send a message to corporate boardrooms of the importance of directors performing their legal duties   he added. under the terms of the $168m settlement - $155m of which will be covered by insurance - none of the 18 former directors will admit any wrongdoing. the deal is the fourth major settlement negotiated by lawyers who filed a class action on behalf of enron s shareholders almost three years ago. so far  including the latest deal  just under $500m (£378.8m) has been retrieved for investors.  however  the latest deal does not include former enron chief executives ken lay and jeff skilling. both men are facing criminal charges for their alleged misconduct in the run up to the firm s collapse. neither does it cover andrew fastow  who has pleaded guilty to taking part in an illegal conspiracy while he was chief financial officer at the group. enron s shareholders are still seeking damages from a long list of other big name defendants including the financial institutions jp morgan chase  citigroup  merrill lynch and credit suisse first boston. the university of california said the trial in the case is scheduled to begin in october 2006. it joined the lawsuit in december 2001alleging  massive insider trading  and fraud  claiming it had lost $145m on its investments in the company.   \n",
              "\n",
              "   Category  \n",
              "0  business  \n",
              "1  business  \n",
              "2  business  \n",
              "3      tech  \n",
              "4  business  "
            ],
            "text/html": [
              "\n",
              "  <div id=\"df-03a48391-d9c0-437d-8a97-540a2a53d3be\">\n",
              "    <div class=\"colab-df-container\">\n",
              "      <div>\n",
              "<style scoped>\n",
              "    .dataframe tbody tr th:only-of-type {\n",
              "        vertical-align: middle;\n",
              "    }\n",
              "\n",
              "    .dataframe tbody tr th {\n",
              "        vertical-align: top;\n",
              "    }\n",
              "\n",
              "    .dataframe thead th {\n",
              "        text-align: right;\n",
              "    }\n",
              "</style>\n",
              "<table border=\"1\" class=\"dataframe\">\n",
              "  <thead>\n",
              "    <tr style=\"text-align: right;\">\n",
              "      <th></th>\n",
              "      <th>Text</th>\n",
              "      <th>Category</th>\n",
              "    </tr>\n",
              "  </thead>\n",
              "  <tbody>\n",
              "    <tr>\n",
              "      <th>0</th>\n",
              "      <td>worldcom ex-boss launches defence lawyers defending former worldcom chief bernie ebbers against a battery of fraud charges have called a company whistleblower as their first witness.  cynthia cooper  worldcom s ex-head of internal accounting  alerted directors to irregular accounting practices at the us telecoms giant in 2002. her warnings led to the collapse of the firm following the discovery of an $11bn (£5.7bn) accounting fraud. mr ebbers has pleaded not guilty to charges of fraud and conspiracy.  prosecution lawyers have argued that mr ebbers orchestrated a series of accounting tricks at worldcom  ordering employees to hide expenses and inflate revenues to meet wall street earnings estimates. but ms cooper  who now runs her own consulting business  told a jury in new york on wednesday that external auditors arthur andersen had approved worldcom s accounting in early 2001 and 2002. she said andersen had given a  green light  to the procedures and practices used by worldcom. mr ebber s lawyers have said he was unaware of the fraud  arguing that auditors did not alert him to any problems.  ms cooper also said that during shareholder meetings mr ebbers often passed over technical questions to the company s finance chief  giving only  brief  answers himself. the prosecution s star witness  former worldcom financial chief scott sullivan  has said that mr ebbers ordered accounting adjustments at the firm  telling him to  hit our books . however  ms cooper said mr sullivan had not mentioned  anything uncomfortable  about worldcom s accounting during a 2001 audit committee meeting. mr ebbers could face a jail sentence of 85 years if convicted of all the charges he is facing. worldcom emerged from bankruptcy protection in 2004  and is now known as mci. last week  mci agreed to a buyout by verizon communications in a deal valued at $6.75bn.</td>\n",
              "      <td>business</td>\n",
              "    </tr>\n",
              "    <tr>\n",
              "      <th>1</th>\n",
              "      <td>german business confidence slides german business confidence fell in february knocking hopes of a speedy recovery in europe s largest economy.  munich-based research institute ifo said that its confidence index fell to 95.5 in february from 97.5 in january  its first decline in three months. the study found that the outlook in both the manufacturing and retail sectors had worsened. observers had been hoping that a more confident business sector would signal that economic activity was picking up.   we re surprised that the ifo index has taken such a knock   said dz bank economist bernd weidensteiner.  the main reason is probably that the domestic economy is still weak  particularly in the retail trade.  economy and labour minister wolfgang clement called the dip in february s ifo confidence figure  a very mild decline . he said that despite the retreat  the index remained at a relatively high level and that he expected  a modest economic upswing  to continue.  germany s economy grew 1.6% last year after shrinking in 2003. however  the economy contracted by 0.2% during the last three months of 2004  mainly due to the reluctance of consumers to spend. latest indications are that growth is still proving elusive and ifo president hans-werner sinn said any improvement in german domestic demand was sluggish. exports had kept things going during the first half of 2004  but demand for exports was then hit as the value of the euro hit record levels making german products less competitive overseas. on top of that  the unemployment rate has been stuck at close to 10% and manufacturing firms  including daimlerchrysler  siemens and volkswagen  have been negotiating with unions over cost cutting measures. analysts said that the ifo figures and germany s continuing problems may delay an interest rate rise by the european central bank. eurozone interest rates are at 2%  but comments from senior officials have recently focused on the threat of inflation  prompting fears that interest rates may rise.</td>\n",
              "      <td>business</td>\n",
              "    </tr>\n",
              "    <tr>\n",
              "      <th>2</th>\n",
              "      <td>bbc poll indicates economic gloom citizens in a majority of nations surveyed in a bbc world service poll believe the world economy is worsening.  most respondents also said their national economy was getting worse. but when asked about their own family s financial outlook  a majority in 14 countries said they were positive about the future. almost 23 000 people in 22 countries were questioned for the poll  which was mostly conducted before the asian tsunami disaster. the poll found that a majority or plurality of people in 13 countries believed the economy was going downhill  compared with respondents in nine countries who believed it was improving. those surveyed in three countries were split. in percentage terms  an average of 44% of respondents in each country said the world economy was getting worse  compared to 34% who said it was improving. similarly  48% were pessimistic about their national economy  while 41% were optimistic. and 47% saw their family s economic conditions improving  as against 36% who said they were getting worse.  the poll of 22 953 people was conducted by the international polling firm globescan  together with the program on international policy attitudes (pipa) at the university of maryland.  while the world economy has picked up from difficult times just a few years ago  people seem to not have fully absorbed this development  though they are personally experiencing its effects   said pipa director steven kull.  people around the world are saying:  i m ok  but the world isn t .  there may be a perception that war  terrorism and religious and political divisions are making the world a worse place  even though that has not so far been reflected in global economic performance  says the bbc s elizabeth blunt.  the countries where people were most optimistic  both for the world and for their own families  were two fast-growing developing economies  china and india  followed by indonesia. china has seen two decades of blistering economic growth  which has led to wealth creation on a huge scale  says the bbc s louisa lim in beijing. but the results also may reflect the untrammelled confidence of people who are subject to endless government propaganda about their country s rosy economic future  our correspondent says. south korea was the most pessimistic  while respondents in italy and mexico were also quite gloomy. the bbc s david willey in rome says one reason for that result is the changeover from the lira to the euro in 2001  which is widely viewed as the biggest reason why their wages and salaries are worth less than they used to be. the philippines was among the most upbeat countries on prospects for respondents  families  but one of the most pessimistic about the world economy. pipa conducted the poll from 15 november 2004 to 3 january 2005 across 22 countries in face-to-face or telephone interviews. the interviews took place between 15 november 2004 and 5 january 2005. the margin of error is between 2.5 and 4 points  depending on the country. in eight of the countries  the sample was limited to major metropolitan areas.</td>\n",
              "      <td>business</td>\n",
              "    </tr>\n",
              "    <tr>\n",
              "      <th>3</th>\n",
              "      <td>lifestyle  governs mobile choice  faster  better or funkier hardware alone is not going to help phone firms sell more handsets  research suggests.  instead  phone firms keen to get more out of their customers should not just be pushing the technology for its own sake. consumers are far more interested in how handsets fit in with their lifestyle than they are in screen size  onboard memory or the chip inside  shows an in-depth study by handset maker ericsson.  historically in the industry there has been too much focus on using technology   said dr michael bjorn  senior advisor on mobile media at ericsson s consumer and enterprise lab.  we have to stop saying that these technologies will change their lives   he said.  we should try to speak to consumers in their own language and help them see how it fits in with what they are doing   he told the bbc news website.  for the study  ericsson interviewed 14 000 mobile phone owners on the ways they use their phone.  people s habits remain the same   said dr bjorn.  they just move the activity into the mobile phone as it s a much more convenient way to do it.   one good example of this was diary-writing among younger people  he said. while diaries have always been popular  a mobile phone -- especially one equipped with a camera -- helps them keep it in a different form. youngsters  use of text messages also reflects their desire to chat and keep in contact with friends and again just lets them do it in a slightly changed way. dr bjorn said that although consumers do what they always did but use a phone to do it  the sheer variety of what the new handset technologies make possible does gradually drive new habits and lifestyles. ericsson s research has shown that consumers divide into different  tribes  that use phones in different ways. dr bjorn said groups dubbed  pioneers  and  materialists  were most interested in trying new things and were behind the start of many trends in phone use.  for instance   he said   older people are using sms much more than they did five years ago.  this was because younger users  often the children of ageing mobile owners  encouraged older people to try it so they could keep in touch.  another factor governing the speed of change in mobile phone use was the simple speed with which new devices are bought by pioneers and materialists. only when about 25% of people have handsets with new innovations on them  such as cameras  can consumers stop worrying that if they send a picture message the person at the other end will be able to see it.  once this significant number of users is passed  use of new innovations tends to take off. dr bjorn said that early reports of camera phone usage in japan seemed to imply that the innovation was going to be a flop. however  he said  now 45% of the japanese people ericsson questioned use their camera phone at least once a month. in 2003 the figure was 29%. similarly  across europe the numbers of people taking snaps with cameras is starting to rise. in 2003 only 4% of the people in the uk took a phonecam snap at least once a month. now the figure is 14%. similar rises have been seen in many other european nations. dr bjorn said that people also used their camera phones in very different ways to film and even digital cameras.  usage patterns for digital cameras are almost exactly replacing usage patterns for analogue cameras   he said. digital cameras tend to be used on significant events such as weddings  holidays and birthdays. by contrast  he said  camera phones were being used much more to capture a moment and were being woven into everyday life.</td>\n",
              "      <td>tech</td>\n",
              "    </tr>\n",
              "    <tr>\n",
              "      <th>4</th>\n",
              "      <td>enron bosses in $168m payout eighteen former enron directors have agreed a $168m (£89m) settlement deal in a shareholder lawsuit over the collapse of the energy firm.  leading plaintiff  the university of california  announced the news  adding that 10 of the former directors will pay $13m from their own pockets. the settlement will be put to the courts for approval next week. enron went bankrupt in 2001 after it emerged it had hidden hundreds of millions of dollars in debt.  before its collapse  the firm was the seventh biggest public us company by revenue. its demise sent shockwaves through financial markets and dented investor confidence in corporate america.   the settlement is very significant in holding these outside directors at least partially personally responsible   william lerach  the lawyer leading the class action suit against enron  said.  hopefully  this will help send a message to corporate boardrooms of the importance of directors performing their legal duties   he added. under the terms of the $168m settlement - $155m of which will be covered by insurance - none of the 18 former directors will admit any wrongdoing. the deal is the fourth major settlement negotiated by lawyers who filed a class action on behalf of enron s shareholders almost three years ago. so far  including the latest deal  just under $500m (£378.8m) has been retrieved for investors.  however  the latest deal does not include former enron chief executives ken lay and jeff skilling. both men are facing criminal charges for their alleged misconduct in the run up to the firm s collapse. neither does it cover andrew fastow  who has pleaded guilty to taking part in an illegal conspiracy while he was chief financial officer at the group. enron s shareholders are still seeking damages from a long list of other big name defendants including the financial institutions jp morgan chase  citigroup  merrill lynch and credit suisse first boston. the university of california said the trial in the case is scheduled to begin in october 2006. it joined the lawsuit in december 2001alleging  massive insider trading  and fraud  claiming it had lost $145m on its investments in the company.</td>\n",
              "      <td>business</td>\n",
              "    </tr>\n",
              "  </tbody>\n",
              "</table>\n",
              "</div>\n",
              "      <button class=\"colab-df-convert\" onclick=\"convertToInteractive('df-03a48391-d9c0-437d-8a97-540a2a53d3be')\"\n",
              "              title=\"Convert this dataframe to an interactive table.\"\n",
              "              style=\"display:none;\">\n",
              "        \n",
              "  <svg xmlns=\"http://www.w3.org/2000/svg\" height=\"24px\"viewBox=\"0 0 24 24\"\n",
              "       width=\"24px\">\n",
              "    <path d=\"M0 0h24v24H0V0z\" fill=\"none\"/>\n",
              "    <path d=\"M18.56 5.44l.94 2.06.94-2.06 2.06-.94-2.06-.94-.94-2.06-.94 2.06-2.06.94zm-11 1L8.5 8.5l.94-2.06 2.06-.94-2.06-.94L8.5 2.5l-.94 2.06-2.06.94zm10 10l.94 2.06.94-2.06 2.06-.94-2.06-.94-.94-2.06-.94 2.06-2.06.94z\"/><path d=\"M17.41 7.96l-1.37-1.37c-.4-.4-.92-.59-1.43-.59-.52 0-1.04.2-1.43.59L10.3 9.45l-7.72 7.72c-.78.78-.78 2.05 0 2.83L4 21.41c.39.39.9.59 1.41.59.51 0 1.02-.2 1.41-.59l7.78-7.78 2.81-2.81c.8-.78.8-2.07 0-2.86zM5.41 20L4 18.59l7.72-7.72 1.47 1.35L5.41 20z\"/>\n",
              "  </svg>\n",
              "      </button>\n",
              "      \n",
              "  <style>\n",
              "    .colab-df-container {\n",
              "      display:flex;\n",
              "      flex-wrap:wrap;\n",
              "      gap: 12px;\n",
              "    }\n",
              "\n",
              "    .colab-df-convert {\n",
              "      background-color: #E8F0FE;\n",
              "      border: none;\n",
              "      border-radius: 50%;\n",
              "      cursor: pointer;\n",
              "      display: none;\n",
              "      fill: #1967D2;\n",
              "      height: 32px;\n",
              "      padding: 0 0 0 0;\n",
              "      width: 32px;\n",
              "    }\n",
              "\n",
              "    .colab-df-convert:hover {\n",
              "      background-color: #E2EBFA;\n",
              "      box-shadow: 0px 1px 2px rgba(60, 64, 67, 0.3), 0px 1px 3px 1px rgba(60, 64, 67, 0.15);\n",
              "      fill: #174EA6;\n",
              "    }\n",
              "\n",
              "    [theme=dark] .colab-df-convert {\n",
              "      background-color: #3B4455;\n",
              "      fill: #D2E3FC;\n",
              "    }\n",
              "\n",
              "    [theme=dark] .colab-df-convert:hover {\n",
              "      background-color: #434B5C;\n",
              "      box-shadow: 0px 1px 3px 1px rgba(0, 0, 0, 0.15);\n",
              "      filter: drop-shadow(0px 1px 2px rgba(0, 0, 0, 0.3));\n",
              "      fill: #FFFFFF;\n",
              "    }\n",
              "  </style>\n",
              "\n",
              "      <script>\n",
              "        const buttonEl =\n",
              "          document.querySelector('#df-03a48391-d9c0-437d-8a97-540a2a53d3be button.colab-df-convert');\n",
              "        buttonEl.style.display =\n",
              "          google.colab.kernel.accessAllowed ? 'block' : 'none';\n",
              "\n",
              "        async function convertToInteractive(key) {\n",
              "          const element = document.querySelector('#df-03a48391-d9c0-437d-8a97-540a2a53d3be');\n",
              "          const dataTable =\n",
              "            await google.colab.kernel.invokeFunction('convertToInteractive',\n",
              "                                                     [key], {});\n",
              "          if (!dataTable) return;\n",
              "\n",
              "          const docLinkHtml = 'Like what you see? Visit the ' +\n",
              "            '<a target=\"_blank\" href=https://colab.research.google.com/notebooks/data_table.ipynb>data table notebook</a>'\n",
              "            + ' to learn more about interactive tables.';\n",
              "          element.innerHTML = '';\n",
              "          dataTable['output_type'] = 'display_data';\n",
              "          await google.colab.output.renderOutput(dataTable, element);\n",
              "          const docLink = document.createElement('div');\n",
              "          docLink.innerHTML = docLinkHtml;\n",
              "          element.appendChild(docLink);\n",
              "        }\n",
              "      </script>\n",
              "    </div>\n",
              "  </div>\n",
              "  "
            ]
          },
          "metadata": {},
          "execution_count": 183
        }
      ]
    },
    {
      "cell_type": "code",
      "source": [
        "# Imortant for data Preprocessing\n",
        "punctuation = string.punctuation\n",
        "print(\"Punctuations: \", punctuation)\n",
        "\n",
        "stop_words = nltk.corpus.stopwords.words('english')\n",
        "print(\"Stop Words: \", stop_words)\n",
        "\n",
        "porter_stemmer = PorterStemmer()\n",
        "\n",
        "wordLemmatizer = WordNetLemmatizer()\n",
        "\n",
        "def removePunctuation(text):\n",
        "    text = \"\".join([word for word in text if word not in punctuation])\n",
        "    return text\n",
        "\n",
        "def removeStopWords(text):\n",
        "    text= [word for word in text if word not in stop_words]\n",
        "    return text\n",
        "\n",
        "porter_stemmer = PorterStemmer()\n",
        "def stemmingText(text):\n",
        "    text = [porter_stemmer.stem(word) for word in text]\n",
        "    return text\n",
        "\n",
        "wordLemmatizer = WordNetLemmatizer()\n",
        "def lemmatizingText(text):\n",
        "    text = [wordLemmatizer.lemmatize(word) for word in text]\n",
        "    return text"
      ],
      "metadata": {
        "colab": {
          "base_uri": "https://localhost:8080/"
        },
        "id": "ZIPFD95H6q8E",
        "outputId": "294335b6-7c81-484a-9a80-045285f55a33"
      },
      "execution_count": null,
      "outputs": [
        {
          "output_type": "stream",
          "name": "stdout",
          "text": [
            "Punctuations:  !\"#$%&'()*+,-./:;<=>?@[\\]^_`{|}~\n",
            "Stop Words:  ['i', 'me', 'my', 'myself', 'we', 'our', 'ours', 'ourselves', 'you', \"you're\", \"you've\", \"you'll\", \"you'd\", 'your', 'yours', 'yourself', 'yourselves', 'he', 'him', 'his', 'himself', 'she', \"she's\", 'her', 'hers', 'herself', 'it', \"it's\", 'its', 'itself', 'they', 'them', 'their', 'theirs', 'themselves', 'what', 'which', 'who', 'whom', 'this', 'that', \"that'll\", 'these', 'those', 'am', 'is', 'are', 'was', 'were', 'be', 'been', 'being', 'have', 'has', 'had', 'having', 'do', 'does', 'did', 'doing', 'a', 'an', 'the', 'and', 'but', 'if', 'or', 'because', 'as', 'until', 'while', 'of', 'at', 'by', 'for', 'with', 'about', 'against', 'between', 'into', 'through', 'during', 'before', 'after', 'above', 'below', 'to', 'from', 'up', 'down', 'in', 'out', 'on', 'off', 'over', 'under', 'again', 'further', 'then', 'once', 'here', 'there', 'when', 'where', 'why', 'how', 'all', 'any', 'both', 'each', 'few', 'more', 'most', 'other', 'some', 'such', 'no', 'nor', 'not', 'only', 'own', 'same', 'so', 'than', 'too', 'very', 's', 't', 'can', 'will', 'just', 'don', \"don't\", 'should', \"should've\", 'now', 'd', 'll', 'm', 'o', 're', 've', 'y', 'ain', 'aren', \"aren't\", 'couldn', \"couldn't\", 'didn', \"didn't\", 'doesn', \"doesn't\", 'hadn', \"hadn't\", 'hasn', \"hasn't\", 'haven', \"haven't\", 'isn', \"isn't\", 'ma', 'mightn', \"mightn't\", 'mustn', \"mustn't\", 'needn', \"needn't\", 'shan', \"shan't\", 'shouldn', \"shouldn't\", 'wasn', \"wasn't\", 'weren', \"weren't\", 'won', \"won't\", 'wouldn', \"wouldn't\"]\n"
          ]
        }
      ]
    },
    {
      "cell_type": "markdown",
      "source": [
        "### Testing Functions"
      ],
      "metadata": {
        "id": "8sr61GYH9u86"
      }
    },
    {
      "cell_type": "code",
      "source": [
        "text = \"Hi! This is our NLP Project. \"\n",
        "\n",
        "text = removePunctuation(text)\n",
        "text"
      ],
      "metadata": {
        "colab": {
          "base_uri": "https://localhost:8080/",
          "height": 36
        },
        "id": "Yw56zjU89uYu",
        "outputId": "f3b0f638-a02d-44bb-8944-54b030c646b4"
      },
      "execution_count": null,
      "outputs": [
        {
          "output_type": "execute_result",
          "data": {
            "text/plain": [
              "'Hi This is our NLP Project '"
            ],
            "application/vnd.google.colaboratory.intrinsic+json": {
              "type": "string"
            }
          },
          "metadata": {},
          "execution_count": 185
        }
      ]
    },
    {
      "cell_type": "code",
      "source": [
        "#Word Tokenix=zation\n",
        "text = word_tokenize(text)\n",
        "text"
      ],
      "metadata": {
        "colab": {
          "base_uri": "https://localhost:8080/"
        },
        "id": "ZPNl7K6h-E6Q",
        "outputId": "936943b6-671d-4343-adb5-9c5ecea9ccae"
      },
      "execution_count": null,
      "outputs": [
        {
          "output_type": "execute_result",
          "data": {
            "text/plain": [
              "['Hi', 'This', 'is', 'our', 'NLP', 'Project']"
            ]
          },
          "metadata": {},
          "execution_count": 186
        }
      ]
    },
    {
      "cell_type": "code",
      "source": [
        "text = removeStopWords(text)\n",
        "text"
      ],
      "metadata": {
        "colab": {
          "base_uri": "https://localhost:8080/"
        },
        "id": "Oya5SfT295iH",
        "outputId": "d4df4e59-fe9e-416f-db4c-63350a20c460"
      },
      "execution_count": null,
      "outputs": [
        {
          "output_type": "execute_result",
          "data": {
            "text/plain": [
              "['Hi', 'This', 'NLP', 'Project']"
            ]
          },
          "metadata": {},
          "execution_count": 187
        }
      ]
    },
    {
      "cell_type": "code",
      "source": [
        "text = stemmingText(text)\n",
        "text"
      ],
      "metadata": {
        "colab": {
          "base_uri": "https://localhost:8080/"
        },
        "id": "uS_etKoK9_TU",
        "outputId": "0be5e71e-397e-40b8-864f-e97d6f4055d1"
      },
      "execution_count": null,
      "outputs": [
        {
          "output_type": "execute_result",
          "data": {
            "text/plain": [
              "['hi', 'thi', 'nlp', 'project']"
            ]
          },
          "metadata": {},
          "execution_count": 188
        }
      ]
    },
    {
      "cell_type": "code",
      "source": [
        "text = lemmatizingText(text)\n",
        "text"
      ],
      "metadata": {
        "colab": {
          "base_uri": "https://localhost:8080/"
        },
        "id": "7JsfQiGe-CFr",
        "outputId": "033406f9-fbd3-4bd6-b56a-a2de248cbb91"
      },
      "execution_count": null,
      "outputs": [
        {
          "output_type": "execute_result",
          "data": {
            "text/plain": [
              "['hi', 'thi', 'nlp', 'project']"
            ]
          },
          "metadata": {},
          "execution_count": 189
        }
      ]
    },
    {
      "cell_type": "code",
      "source": [
        "def DataPreprocessing(text_data): \n",
        "\n",
        "  # Removing Punctuation\n",
        "  text_data = text_data.apply(removePunctuation)\n",
        "\n",
        "  text_data = text_data.apply(lambda x :x.lower())\n",
        "\n",
        "  # Word Tokenizatrion\n",
        "  text_data = text_data.apply(word_tokenize)\n",
        "\n",
        "  #Removing Stopwords\n",
        "  text_data = text_data.apply(removeStopWords)\n",
        "\n",
        "  #Stemming \n",
        "  text_data = text_data.apply(stemmingText)\n",
        "\n",
        "  #Lemmatizing\n",
        "  text_data = text_data.apply(lemmatizingText)\n",
        "\n",
        "  return text_data"
      ],
      "metadata": {
        "id": "2F-a1Ykrrdjr"
      },
      "execution_count": null,
      "outputs": []
    },
    {
      "cell_type": "code",
      "source": [
        "proccessed_data = data[['Text']].apply(DataPreprocessing)\n",
        "proccessed_data.head()"
      ],
      "metadata": {
        "colab": {
          "base_uri": "https://localhost:8080/",
          "height": 510
        },
        "id": "VEp5wWiGwOK8",
        "outputId": "0be38f2d-55c7-4f83-9d68-7ba6b6892da1"
      },
      "execution_count": null,
      "outputs": [
        {
          "output_type": "execute_result",
          "data": {
            "text/plain": [
              "                                                                                                                                                                                                                                                                                                                                                                                                                                                                                                                                                                                                                                                                                                                                                                                                   Text\n",
              "0     [worldcom, exboss, launch, defenc, lawyer, defend, former, worldcom, chief, berni, ebber, batteri, fraud, charg, call, compani, whistleblow, first, wit, cynthia, cooper, worldcom, exhead, intern, account, alert, director, irregular, account, practic, u, telecom, giant, 2002, warn, led, collaps, firm, follow, discoveri, 11bn, £57bn, account, fraud, mr, ebber, plead, guilti, charg, fraud, conspiraci, prosecut, lawyer, argu, mr, ebber, orchestr, seri, account, trick, worldcom, order, employe, hide, expens, inflat, revenu, meet, wall, street, earn, estim, m, cooper, run, consult, busi, told, juri, new, york, wednesday, extern, auditor, arthur, andersen, approv, worldcom, account, earli, 2001, 2002, said, andersen, given, green, light, procedur, practic, use, ...]\n",
              "1        [german, busi, confid, slide, german, busi, confid, fell, februari, knock, hope, speedi, recoveri, europ, largest, economi, munichbas, research, institut, ifo, said, confid, index, fell, 955, februari, 975, januari, first, declin, three, month, studi, found, outlook, manufactur, retail, sector, worsen, observ, hope, confid, busi, sector, would, signal, econom, activ, pick, surpris, ifo, index, taken, knock, said, dz, bank, economist, bernd, weidenstein, main, reason, probabl, domest, economi, still, weak, particularli, retail, trade, economi, labour, minist, wolfgang, clement, call, dip, februari, ifo, confid, figur, mild, declin, said, despit, retreat, index, remain, rel, high, level, expect, modest, econom, upsw, continu, germani, economi, grew, 16, ...]\n",
              "2                                                  [bbc, poll, indic, econom, gloom, citizen, major, nation, survey, bbc, world, servic, poll, believ, world, economi, worsen, respond, also, said, nation, economi, get, wors, ask, famili, financi, outlook, major, 14, countri, said, posit, futur, almost, 23, 000, peopl, 22, countri, question, poll, mostli, conduct, asian, tsunami, disast, poll, found, major, plural, peopl, 13, countri, believ, economi, go, downhil, compar, respond, nine, countri, believ, improv, survey, three, countri, split, percentag, term, averag, 44, respond, countri, said, world, economi, get, wors, compar, 34, said, improv, similarli, 48, pessimist, nation, economi, 41, optimist, 47, saw, famili, econom, condit, improv, 36, said, get, wors, ...]\n",
              "3                                               [lifestyl, govern, mobil, choic, faster, better, funkier, hardwar, alon, go, help, phone, firm, sell, handset, research, suggest, instead, phone, firm, keen, get, custom, push, technolog, sake, consum, far, interest, handset, fit, lifestyl, screen, size, onboard, memori, chip, insid, show, indepth, studi, handset, maker, ericsson, histor, industri, much, focu, use, technolog, said, dr, michael, bjorn, senior, advisor, mobil, medium, ericsson, consum, enterpris, lab, stop, say, technolog, chang, live, said, tri, speak, consum, languag, help, see, fit, told, bbc, news, websit, studi, ericsson, interview, 14, 000, mobil, phone, owner, way, use, phone, peopl, habit, remain, said, dr, bjorn, move, activ, mobil, phone, ...]\n",
              "4  [enron, bos, 168m, payout, eighteen, former, enron, director, agre, 168m, £89m, settlement, deal, sharehold, lawsuit, collaps, energi, firm, lead, plaintiff, univers, california, announc, news, ad, 10, former, director, pay, 13m, pocket, settlement, put, court, approv, next, week, enron, went, bankrupt, 2001, emerg, hidden, hundr, million, dollar, debt, collaps, firm, seventh, biggest, public, u, compani, revenu, demis, sent, shockwav, financi, market, dent, investor, confid, corpor, america, settlement, signific, hold, outsid, director, least, partial, person, respons, william, lerach, lawyer, lead, class, action, suit, enron, said, hope, help, send, messag, corpor, boardroom, import, director, perform, legal, duti, ad, term, 168m, settlement, 155m, cover, ...]"
            ],
            "text/html": [
              "\n",
              "  <div id=\"df-a119bb1f-a7a6-4896-97c1-70af9b25d8be\">\n",
              "    <div class=\"colab-df-container\">\n",
              "      <div>\n",
              "<style scoped>\n",
              "    .dataframe tbody tr th:only-of-type {\n",
              "        vertical-align: middle;\n",
              "    }\n",
              "\n",
              "    .dataframe tbody tr th {\n",
              "        vertical-align: top;\n",
              "    }\n",
              "\n",
              "    .dataframe thead th {\n",
              "        text-align: right;\n",
              "    }\n",
              "</style>\n",
              "<table border=\"1\" class=\"dataframe\">\n",
              "  <thead>\n",
              "    <tr style=\"text-align: right;\">\n",
              "      <th></th>\n",
              "      <th>Text</th>\n",
              "    </tr>\n",
              "  </thead>\n",
              "  <tbody>\n",
              "    <tr>\n",
              "      <th>0</th>\n",
              "      <td>[worldcom, exboss, launch, defenc, lawyer, defend, former, worldcom, chief, berni, ebber, batteri, fraud, charg, call, compani, whistleblow, first, wit, cynthia, cooper, worldcom, exhead, intern, account, alert, director, irregular, account, practic, u, telecom, giant, 2002, warn, led, collaps, firm, follow, discoveri, 11bn, £57bn, account, fraud, mr, ebber, plead, guilti, charg, fraud, conspiraci, prosecut, lawyer, argu, mr, ebber, orchestr, seri, account, trick, worldcom, order, employe, hide, expens, inflat, revenu, meet, wall, street, earn, estim, m, cooper, run, consult, busi, told, juri, new, york, wednesday, extern, auditor, arthur, andersen, approv, worldcom, account, earli, 2001, 2002, said, andersen, given, green, light, procedur, practic, use, ...]</td>\n",
              "    </tr>\n",
              "    <tr>\n",
              "      <th>1</th>\n",
              "      <td>[german, busi, confid, slide, german, busi, confid, fell, februari, knock, hope, speedi, recoveri, europ, largest, economi, munichbas, research, institut, ifo, said, confid, index, fell, 955, februari, 975, januari, first, declin, three, month, studi, found, outlook, manufactur, retail, sector, worsen, observ, hope, confid, busi, sector, would, signal, econom, activ, pick, surpris, ifo, index, taken, knock, said, dz, bank, economist, bernd, weidenstein, main, reason, probabl, domest, economi, still, weak, particularli, retail, trade, economi, labour, minist, wolfgang, clement, call, dip, februari, ifo, confid, figur, mild, declin, said, despit, retreat, index, remain, rel, high, level, expect, modest, econom, upsw, continu, germani, economi, grew, 16, ...]</td>\n",
              "    </tr>\n",
              "    <tr>\n",
              "      <th>2</th>\n",
              "      <td>[bbc, poll, indic, econom, gloom, citizen, major, nation, survey, bbc, world, servic, poll, believ, world, economi, worsen, respond, also, said, nation, economi, get, wors, ask, famili, financi, outlook, major, 14, countri, said, posit, futur, almost, 23, 000, peopl, 22, countri, question, poll, mostli, conduct, asian, tsunami, disast, poll, found, major, plural, peopl, 13, countri, believ, economi, go, downhil, compar, respond, nine, countri, believ, improv, survey, three, countri, split, percentag, term, averag, 44, respond, countri, said, world, economi, get, wors, compar, 34, said, improv, similarli, 48, pessimist, nation, economi, 41, optimist, 47, saw, famili, econom, condit, improv, 36, said, get, wors, ...]</td>\n",
              "    </tr>\n",
              "    <tr>\n",
              "      <th>3</th>\n",
              "      <td>[lifestyl, govern, mobil, choic, faster, better, funkier, hardwar, alon, go, help, phone, firm, sell, handset, research, suggest, instead, phone, firm, keen, get, custom, push, technolog, sake, consum, far, interest, handset, fit, lifestyl, screen, size, onboard, memori, chip, insid, show, indepth, studi, handset, maker, ericsson, histor, industri, much, focu, use, technolog, said, dr, michael, bjorn, senior, advisor, mobil, medium, ericsson, consum, enterpris, lab, stop, say, technolog, chang, live, said, tri, speak, consum, languag, help, see, fit, told, bbc, news, websit, studi, ericsson, interview, 14, 000, mobil, phone, owner, way, use, phone, peopl, habit, remain, said, dr, bjorn, move, activ, mobil, phone, ...]</td>\n",
              "    </tr>\n",
              "    <tr>\n",
              "      <th>4</th>\n",
              "      <td>[enron, bos, 168m, payout, eighteen, former, enron, director, agre, 168m, £89m, settlement, deal, sharehold, lawsuit, collaps, energi, firm, lead, plaintiff, univers, california, announc, news, ad, 10, former, director, pay, 13m, pocket, settlement, put, court, approv, next, week, enron, went, bankrupt, 2001, emerg, hidden, hundr, million, dollar, debt, collaps, firm, seventh, biggest, public, u, compani, revenu, demis, sent, shockwav, financi, market, dent, investor, confid, corpor, america, settlement, signific, hold, outsid, director, least, partial, person, respons, william, lerach, lawyer, lead, class, action, suit, enron, said, hope, help, send, messag, corpor, boardroom, import, director, perform, legal, duti, ad, term, 168m, settlement, 155m, cover, ...]</td>\n",
              "    </tr>\n",
              "  </tbody>\n",
              "</table>\n",
              "</div>\n",
              "      <button class=\"colab-df-convert\" onclick=\"convertToInteractive('df-a119bb1f-a7a6-4896-97c1-70af9b25d8be')\"\n",
              "              title=\"Convert this dataframe to an interactive table.\"\n",
              "              style=\"display:none;\">\n",
              "        \n",
              "  <svg xmlns=\"http://www.w3.org/2000/svg\" height=\"24px\"viewBox=\"0 0 24 24\"\n",
              "       width=\"24px\">\n",
              "    <path d=\"M0 0h24v24H0V0z\" fill=\"none\"/>\n",
              "    <path d=\"M18.56 5.44l.94 2.06.94-2.06 2.06-.94-2.06-.94-.94-2.06-.94 2.06-2.06.94zm-11 1L8.5 8.5l.94-2.06 2.06-.94-2.06-.94L8.5 2.5l-.94 2.06-2.06.94zm10 10l.94 2.06.94-2.06 2.06-.94-2.06-.94-.94-2.06-.94 2.06-2.06.94z\"/><path d=\"M17.41 7.96l-1.37-1.37c-.4-.4-.92-.59-1.43-.59-.52 0-1.04.2-1.43.59L10.3 9.45l-7.72 7.72c-.78.78-.78 2.05 0 2.83L4 21.41c.39.39.9.59 1.41.59.51 0 1.02-.2 1.41-.59l7.78-7.78 2.81-2.81c.8-.78.8-2.07 0-2.86zM5.41 20L4 18.59l7.72-7.72 1.47 1.35L5.41 20z\"/>\n",
              "  </svg>\n",
              "      </button>\n",
              "      \n",
              "  <style>\n",
              "    .colab-df-container {\n",
              "      display:flex;\n",
              "      flex-wrap:wrap;\n",
              "      gap: 12px;\n",
              "    }\n",
              "\n",
              "    .colab-df-convert {\n",
              "      background-color: #E8F0FE;\n",
              "      border: none;\n",
              "      border-radius: 50%;\n",
              "      cursor: pointer;\n",
              "      display: none;\n",
              "      fill: #1967D2;\n",
              "      height: 32px;\n",
              "      padding: 0 0 0 0;\n",
              "      width: 32px;\n",
              "    }\n",
              "\n",
              "    .colab-df-convert:hover {\n",
              "      background-color: #E2EBFA;\n",
              "      box-shadow: 0px 1px 2px rgba(60, 64, 67, 0.3), 0px 1px 3px 1px rgba(60, 64, 67, 0.15);\n",
              "      fill: #174EA6;\n",
              "    }\n",
              "\n",
              "    [theme=dark] .colab-df-convert {\n",
              "      background-color: #3B4455;\n",
              "      fill: #D2E3FC;\n",
              "    }\n",
              "\n",
              "    [theme=dark] .colab-df-convert:hover {\n",
              "      background-color: #434B5C;\n",
              "      box-shadow: 0px 1px 3px 1px rgba(0, 0, 0, 0.15);\n",
              "      filter: drop-shadow(0px 1px 2px rgba(0, 0, 0, 0.3));\n",
              "      fill: #FFFFFF;\n",
              "    }\n",
              "  </style>\n",
              "\n",
              "      <script>\n",
              "        const buttonEl =\n",
              "          document.querySelector('#df-a119bb1f-a7a6-4896-97c1-70af9b25d8be button.colab-df-convert');\n",
              "        buttonEl.style.display =\n",
              "          google.colab.kernel.accessAllowed ? 'block' : 'none';\n",
              "\n",
              "        async function convertToInteractive(key) {\n",
              "          const element = document.querySelector('#df-a119bb1f-a7a6-4896-97c1-70af9b25d8be');\n",
              "          const dataTable =\n",
              "            await google.colab.kernel.invokeFunction('convertToInteractive',\n",
              "                                                     [key], {});\n",
              "          if (!dataTable) return;\n",
              "\n",
              "          const docLinkHtml = 'Like what you see? Visit the ' +\n",
              "            '<a target=\"_blank\" href=https://colab.research.google.com/notebooks/data_table.ipynb>data table notebook</a>'\n",
              "            + ' to learn more about interactive tables.';\n",
              "          element.innerHTML = '';\n",
              "          dataTable['output_type'] = 'display_data';\n",
              "          await google.colab.output.renderOutput(dataTable, element);\n",
              "          const docLink = document.createElement('div');\n",
              "          docLink.innerHTML = docLinkHtml;\n",
              "          element.appendChild(docLink);\n",
              "        }\n",
              "      </script>\n",
              "    </div>\n",
              "  </div>\n",
              "  "
            ]
          },
          "metadata": {},
          "execution_count": 191
        }
      ]
    },
    {
      "cell_type": "code",
      "source": [
        "train = pd.DataFrame()\n",
        "train['article'] = proccessed_data\n",
        "train['category'] = data['Category']\n",
        "train.head()"
      ],
      "metadata": {
        "colab": {
          "base_uri": "https://localhost:8080/",
          "height": 510
        },
        "id": "HYvPpdNdzWv0",
        "outputId": "d69c30ff-1f23-4745-c624-b0b5b46aa4e4"
      },
      "execution_count": null,
      "outputs": [
        {
          "output_type": "execute_result",
          "data": {
            "text/plain": [
              "                                                                                                                                                                                                                                                                                                                                                                                                                                                                                                                                                                                                                                                                                                                                                                                                article  \\\n",
              "0     [worldcom, exboss, launch, defenc, lawyer, defend, former, worldcom, chief, berni, ebber, batteri, fraud, charg, call, compani, whistleblow, first, wit, cynthia, cooper, worldcom, exhead, intern, account, alert, director, irregular, account, practic, u, telecom, giant, 2002, warn, led, collaps, firm, follow, discoveri, 11bn, £57bn, account, fraud, mr, ebber, plead, guilti, charg, fraud, conspiraci, prosecut, lawyer, argu, mr, ebber, orchestr, seri, account, trick, worldcom, order, employe, hide, expens, inflat, revenu, meet, wall, street, earn, estim, m, cooper, run, consult, busi, told, juri, new, york, wednesday, extern, auditor, arthur, andersen, approv, worldcom, account, earli, 2001, 2002, said, andersen, given, green, light, procedur, practic, use, ...]   \n",
              "1        [german, busi, confid, slide, german, busi, confid, fell, februari, knock, hope, speedi, recoveri, europ, largest, economi, munichbas, research, institut, ifo, said, confid, index, fell, 955, februari, 975, januari, first, declin, three, month, studi, found, outlook, manufactur, retail, sector, worsen, observ, hope, confid, busi, sector, would, signal, econom, activ, pick, surpris, ifo, index, taken, knock, said, dz, bank, economist, bernd, weidenstein, main, reason, probabl, domest, economi, still, weak, particularli, retail, trade, economi, labour, minist, wolfgang, clement, call, dip, februari, ifo, confid, figur, mild, declin, said, despit, retreat, index, remain, rel, high, level, expect, modest, econom, upsw, continu, germani, economi, grew, 16, ...]   \n",
              "2                                                  [bbc, poll, indic, econom, gloom, citizen, major, nation, survey, bbc, world, servic, poll, believ, world, economi, worsen, respond, also, said, nation, economi, get, wors, ask, famili, financi, outlook, major, 14, countri, said, posit, futur, almost, 23, 000, peopl, 22, countri, question, poll, mostli, conduct, asian, tsunami, disast, poll, found, major, plural, peopl, 13, countri, believ, economi, go, downhil, compar, respond, nine, countri, believ, improv, survey, three, countri, split, percentag, term, averag, 44, respond, countri, said, world, economi, get, wors, compar, 34, said, improv, similarli, 48, pessimist, nation, economi, 41, optimist, 47, saw, famili, econom, condit, improv, 36, said, get, wors, ...]   \n",
              "3                                               [lifestyl, govern, mobil, choic, faster, better, funkier, hardwar, alon, go, help, phone, firm, sell, handset, research, suggest, instead, phone, firm, keen, get, custom, push, technolog, sake, consum, far, interest, handset, fit, lifestyl, screen, size, onboard, memori, chip, insid, show, indepth, studi, handset, maker, ericsson, histor, industri, much, focu, use, technolog, said, dr, michael, bjorn, senior, advisor, mobil, medium, ericsson, consum, enterpris, lab, stop, say, technolog, chang, live, said, tri, speak, consum, languag, help, see, fit, told, bbc, news, websit, studi, ericsson, interview, 14, 000, mobil, phone, owner, way, use, phone, peopl, habit, remain, said, dr, bjorn, move, activ, mobil, phone, ...]   \n",
              "4  [enron, bos, 168m, payout, eighteen, former, enron, director, agre, 168m, £89m, settlement, deal, sharehold, lawsuit, collaps, energi, firm, lead, plaintiff, univers, california, announc, news, ad, 10, former, director, pay, 13m, pocket, settlement, put, court, approv, next, week, enron, went, bankrupt, 2001, emerg, hidden, hundr, million, dollar, debt, collaps, firm, seventh, biggest, public, u, compani, revenu, demis, sent, shockwav, financi, market, dent, investor, confid, corpor, america, settlement, signific, hold, outsid, director, least, partial, person, respons, william, lerach, lawyer, lead, class, action, suit, enron, said, hope, help, send, messag, corpor, boardroom, import, director, perform, legal, duti, ad, term, 168m, settlement, 155m, cover, ...]   \n",
              "\n",
              "   category  \n",
              "0  business  \n",
              "1  business  \n",
              "2  business  \n",
              "3      tech  \n",
              "4  business  "
            ],
            "text/html": [
              "\n",
              "  <div id=\"df-3bf67c61-de03-4a05-b419-989f056c832f\">\n",
              "    <div class=\"colab-df-container\">\n",
              "      <div>\n",
              "<style scoped>\n",
              "    .dataframe tbody tr th:only-of-type {\n",
              "        vertical-align: middle;\n",
              "    }\n",
              "\n",
              "    .dataframe tbody tr th {\n",
              "        vertical-align: top;\n",
              "    }\n",
              "\n",
              "    .dataframe thead th {\n",
              "        text-align: right;\n",
              "    }\n",
              "</style>\n",
              "<table border=\"1\" class=\"dataframe\">\n",
              "  <thead>\n",
              "    <tr style=\"text-align: right;\">\n",
              "      <th></th>\n",
              "      <th>article</th>\n",
              "      <th>category</th>\n",
              "    </tr>\n",
              "  </thead>\n",
              "  <tbody>\n",
              "    <tr>\n",
              "      <th>0</th>\n",
              "      <td>[worldcom, exboss, launch, defenc, lawyer, defend, former, worldcom, chief, berni, ebber, batteri, fraud, charg, call, compani, whistleblow, first, wit, cynthia, cooper, worldcom, exhead, intern, account, alert, director, irregular, account, practic, u, telecom, giant, 2002, warn, led, collaps, firm, follow, discoveri, 11bn, £57bn, account, fraud, mr, ebber, plead, guilti, charg, fraud, conspiraci, prosecut, lawyer, argu, mr, ebber, orchestr, seri, account, trick, worldcom, order, employe, hide, expens, inflat, revenu, meet, wall, street, earn, estim, m, cooper, run, consult, busi, told, juri, new, york, wednesday, extern, auditor, arthur, andersen, approv, worldcom, account, earli, 2001, 2002, said, andersen, given, green, light, procedur, practic, use, ...]</td>\n",
              "      <td>business</td>\n",
              "    </tr>\n",
              "    <tr>\n",
              "      <th>1</th>\n",
              "      <td>[german, busi, confid, slide, german, busi, confid, fell, februari, knock, hope, speedi, recoveri, europ, largest, economi, munichbas, research, institut, ifo, said, confid, index, fell, 955, februari, 975, januari, first, declin, three, month, studi, found, outlook, manufactur, retail, sector, worsen, observ, hope, confid, busi, sector, would, signal, econom, activ, pick, surpris, ifo, index, taken, knock, said, dz, bank, economist, bernd, weidenstein, main, reason, probabl, domest, economi, still, weak, particularli, retail, trade, economi, labour, minist, wolfgang, clement, call, dip, februari, ifo, confid, figur, mild, declin, said, despit, retreat, index, remain, rel, high, level, expect, modest, econom, upsw, continu, germani, economi, grew, 16, ...]</td>\n",
              "      <td>business</td>\n",
              "    </tr>\n",
              "    <tr>\n",
              "      <th>2</th>\n",
              "      <td>[bbc, poll, indic, econom, gloom, citizen, major, nation, survey, bbc, world, servic, poll, believ, world, economi, worsen, respond, also, said, nation, economi, get, wors, ask, famili, financi, outlook, major, 14, countri, said, posit, futur, almost, 23, 000, peopl, 22, countri, question, poll, mostli, conduct, asian, tsunami, disast, poll, found, major, plural, peopl, 13, countri, believ, economi, go, downhil, compar, respond, nine, countri, believ, improv, survey, three, countri, split, percentag, term, averag, 44, respond, countri, said, world, economi, get, wors, compar, 34, said, improv, similarli, 48, pessimist, nation, economi, 41, optimist, 47, saw, famili, econom, condit, improv, 36, said, get, wors, ...]</td>\n",
              "      <td>business</td>\n",
              "    </tr>\n",
              "    <tr>\n",
              "      <th>3</th>\n",
              "      <td>[lifestyl, govern, mobil, choic, faster, better, funkier, hardwar, alon, go, help, phone, firm, sell, handset, research, suggest, instead, phone, firm, keen, get, custom, push, technolog, sake, consum, far, interest, handset, fit, lifestyl, screen, size, onboard, memori, chip, insid, show, indepth, studi, handset, maker, ericsson, histor, industri, much, focu, use, technolog, said, dr, michael, bjorn, senior, advisor, mobil, medium, ericsson, consum, enterpris, lab, stop, say, technolog, chang, live, said, tri, speak, consum, languag, help, see, fit, told, bbc, news, websit, studi, ericsson, interview, 14, 000, mobil, phone, owner, way, use, phone, peopl, habit, remain, said, dr, bjorn, move, activ, mobil, phone, ...]</td>\n",
              "      <td>tech</td>\n",
              "    </tr>\n",
              "    <tr>\n",
              "      <th>4</th>\n",
              "      <td>[enron, bos, 168m, payout, eighteen, former, enron, director, agre, 168m, £89m, settlement, deal, sharehold, lawsuit, collaps, energi, firm, lead, plaintiff, univers, california, announc, news, ad, 10, former, director, pay, 13m, pocket, settlement, put, court, approv, next, week, enron, went, bankrupt, 2001, emerg, hidden, hundr, million, dollar, debt, collaps, firm, seventh, biggest, public, u, compani, revenu, demis, sent, shockwav, financi, market, dent, investor, confid, corpor, america, settlement, signific, hold, outsid, director, least, partial, person, respons, william, lerach, lawyer, lead, class, action, suit, enron, said, hope, help, send, messag, corpor, boardroom, import, director, perform, legal, duti, ad, term, 168m, settlement, 155m, cover, ...]</td>\n",
              "      <td>business</td>\n",
              "    </tr>\n",
              "  </tbody>\n",
              "</table>\n",
              "</div>\n",
              "      <button class=\"colab-df-convert\" onclick=\"convertToInteractive('df-3bf67c61-de03-4a05-b419-989f056c832f')\"\n",
              "              title=\"Convert this dataframe to an interactive table.\"\n",
              "              style=\"display:none;\">\n",
              "        \n",
              "  <svg xmlns=\"http://www.w3.org/2000/svg\" height=\"24px\"viewBox=\"0 0 24 24\"\n",
              "       width=\"24px\">\n",
              "    <path d=\"M0 0h24v24H0V0z\" fill=\"none\"/>\n",
              "    <path d=\"M18.56 5.44l.94 2.06.94-2.06 2.06-.94-2.06-.94-.94-2.06-.94 2.06-2.06.94zm-11 1L8.5 8.5l.94-2.06 2.06-.94-2.06-.94L8.5 2.5l-.94 2.06-2.06.94zm10 10l.94 2.06.94-2.06 2.06-.94-2.06-.94-.94-2.06-.94 2.06-2.06.94z\"/><path d=\"M17.41 7.96l-1.37-1.37c-.4-.4-.92-.59-1.43-.59-.52 0-1.04.2-1.43.59L10.3 9.45l-7.72 7.72c-.78.78-.78 2.05 0 2.83L4 21.41c.39.39.9.59 1.41.59.51 0 1.02-.2 1.41-.59l7.78-7.78 2.81-2.81c.8-.78.8-2.07 0-2.86zM5.41 20L4 18.59l7.72-7.72 1.47 1.35L5.41 20z\"/>\n",
              "  </svg>\n",
              "      </button>\n",
              "      \n",
              "  <style>\n",
              "    .colab-df-container {\n",
              "      display:flex;\n",
              "      flex-wrap:wrap;\n",
              "      gap: 12px;\n",
              "    }\n",
              "\n",
              "    .colab-df-convert {\n",
              "      background-color: #E8F0FE;\n",
              "      border: none;\n",
              "      border-radius: 50%;\n",
              "      cursor: pointer;\n",
              "      display: none;\n",
              "      fill: #1967D2;\n",
              "      height: 32px;\n",
              "      padding: 0 0 0 0;\n",
              "      width: 32px;\n",
              "    }\n",
              "\n",
              "    .colab-df-convert:hover {\n",
              "      background-color: #E2EBFA;\n",
              "      box-shadow: 0px 1px 2px rgba(60, 64, 67, 0.3), 0px 1px 3px 1px rgba(60, 64, 67, 0.15);\n",
              "      fill: #174EA6;\n",
              "    }\n",
              "\n",
              "    [theme=dark] .colab-df-convert {\n",
              "      background-color: #3B4455;\n",
              "      fill: #D2E3FC;\n",
              "    }\n",
              "\n",
              "    [theme=dark] .colab-df-convert:hover {\n",
              "      background-color: #434B5C;\n",
              "      box-shadow: 0px 1px 3px 1px rgba(0, 0, 0, 0.15);\n",
              "      filter: drop-shadow(0px 1px 2px rgba(0, 0, 0, 0.3));\n",
              "      fill: #FFFFFF;\n",
              "    }\n",
              "  </style>\n",
              "\n",
              "      <script>\n",
              "        const buttonEl =\n",
              "          document.querySelector('#df-3bf67c61-de03-4a05-b419-989f056c832f button.colab-df-convert');\n",
              "        buttonEl.style.display =\n",
              "          google.colab.kernel.accessAllowed ? 'block' : 'none';\n",
              "\n",
              "        async function convertToInteractive(key) {\n",
              "          const element = document.querySelector('#df-3bf67c61-de03-4a05-b419-989f056c832f');\n",
              "          const dataTable =\n",
              "            await google.colab.kernel.invokeFunction('convertToInteractive',\n",
              "                                                     [key], {});\n",
              "          if (!dataTable) return;\n",
              "\n",
              "          const docLinkHtml = 'Like what you see? Visit the ' +\n",
              "            '<a target=\"_blank\" href=https://colab.research.google.com/notebooks/data_table.ipynb>data table notebook</a>'\n",
              "            + ' to learn more about interactive tables.';\n",
              "          element.innerHTML = '';\n",
              "          dataTable['output_type'] = 'display_data';\n",
              "          await google.colab.output.renderOutput(dataTable, element);\n",
              "          const docLink = document.createElement('div');\n",
              "          docLink.innerHTML = docLinkHtml;\n",
              "          element.appendChild(docLink);\n",
              "        }\n",
              "      </script>\n",
              "    </div>\n",
              "  </div>\n",
              "  "
            ]
          },
          "metadata": {},
          "execution_count": 192
        }
      ]
    },
    {
      "cell_type": "code",
      "source": [
        "!pip install wordcloud"
      ],
      "metadata": {
        "colab": {
          "base_uri": "https://localhost:8080/"
        },
        "id": "DdtXosj11lwj",
        "outputId": "b2f79a3e-7102-4cac-863b-e8ba0ac51d83"
      },
      "execution_count": null,
      "outputs": [
        {
          "output_type": "stream",
          "name": "stdout",
          "text": [
            "Looking in indexes: https://pypi.org/simple, https://us-python.pkg.dev/colab-wheels/public/simple/\n",
            "Requirement already satisfied: wordcloud in /usr/local/lib/python3.8/dist-packages (1.8.2.2)\n",
            "Requirement already satisfied: pillow in /usr/local/lib/python3.8/dist-packages (from wordcloud) (7.1.2)\n",
            "Requirement already satisfied: numpy>=1.6.1 in /usr/local/lib/python3.8/dist-packages (from wordcloud) (1.21.6)\n",
            "Requirement already satisfied: matplotlib in /usr/local/lib/python3.8/dist-packages (from wordcloud) (3.2.2)\n",
            "Requirement already satisfied: pyparsing!=2.0.4,!=2.1.2,!=2.1.6,>=2.0.1 in /usr/local/lib/python3.8/dist-packages (from matplotlib->wordcloud) (3.0.9)\n",
            "Requirement already satisfied: kiwisolver>=1.0.1 in /usr/local/lib/python3.8/dist-packages (from matplotlib->wordcloud) (1.4.4)\n",
            "Requirement already satisfied: cycler>=0.10 in /usr/local/lib/python3.8/dist-packages (from matplotlib->wordcloud) (0.11.0)\n",
            "Requirement already satisfied: python-dateutil>=2.1 in /usr/local/lib/python3.8/dist-packages (from matplotlib->wordcloud) (2.8.2)\n",
            "Requirement already satisfied: six>=1.5 in /usr/local/lib/python3.8/dist-packages (from python-dateutil>=2.1->matplotlib->wordcloud) (1.15.0)\n"
          ]
        }
      ]
    },
    {
      "cell_type": "code",
      "source": [
        "from os import path\n",
        "from PIL import Image\n",
        "from wordcloud import WordCloud\n",
        "\n",
        "def google_authenticate():\n",
        "  # Authenticate first so the Google Drive library can detect your credentials.\n",
        "  from google.colab import auth\n",
        "  auth.authenticate_user()\n",
        "\n",
        "  from googleapiclient.discovery import build\n",
        "  drive_service = build('drive', 'v3')\n",
        "  return drive_service"
      ],
      "metadata": {
        "id": "YrI7gkL_2Nws"
      },
      "execution_count": null,
      "outputs": []
    },
    {
      "cell_type": "code",
      "source": [
        "drive_service = google_authenticate()"
      ],
      "metadata": {
        "id": "yzZKNKHi2V5N"
      },
      "execution_count": null,
      "outputs": []
    },
    {
      "cell_type": "code",
      "source": [
        "def read_file(file_id):\n",
        "  \"\"\" \n",
        "  Download file from Google Drive \n",
        "  Argument: file_id\n",
        "  Returns: downloaded file\n",
        "  \"\"\"\n",
        "  \n",
        "  file_id = file_id\n",
        "\n",
        "  import io\n",
        "  from googleapiclient.http import MediaIoBaseDownload\n",
        "\n",
        "  request = drive_service.files().get_media(fileId=file_id)\n",
        "  downloaded = io.BytesIO()\n",
        "  downloader = MediaIoBaseDownload(downloaded, request)\n",
        "  done = False\n",
        "  while done is False:\n",
        "    # _ is a placeholder for a progress object that we ignore.\n",
        "    # (Our file is small, so we skip reporting progress.)\n",
        "    _, done = downloader.next_chunk()\n",
        "\n",
        "  downloaded.seek(0)\n",
        "  return downloaded"
      ],
      "metadata": {
        "id": "QDpuEfEh2YTx"
      },
      "execution_count": null,
      "outputs": []
    },
    {
      "cell_type": "code",
      "source": [
        "text_file = read_file('1NrodQrpaw-9xU2lCYo8H8fiW6A1RGdwt')"
      ],
      "metadata": {
        "id": "Q1ztEwMv2fJC"
      },
      "execution_count": null,
      "outputs": []
    },
    {
      "cell_type": "code",
      "source": [
        "document = text_file.read()\n",
        "print(len(document))\n",
        "print(document[0:100])"
      ],
      "metadata": {
        "colab": {
          "base_uri": "https://localhost:8080/"
        },
        "id": "V5CSfS4Q2vs4",
        "outputId": "05c69f59-e1b5-4d5c-da1b-51c85645789b"
      },
      "execution_count": null,
      "outputs": [
        {
          "output_type": "stream",
          "name": "stdout",
          "text": [
            "148570\n",
            "b\"\\xef\\xbb\\xbfProject Gutenberg's Alice's Adventures in Wonderland, by Lewis Carroll\\r\\n\\r\\nThis eBook is for the u\"\n"
          ]
        }
      ]
    },
    {
      "cell_type": "code",
      "source": [
        "train.to_csv('_finalProcessed.csv')   #Save processed data into a CSV file"
      ],
      "metadata": {
        "id": "2N7AoEf0_WYa"
      },
      "execution_count": null,
      "outputs": []
    },
    {
      "cell_type": "markdown",
      "source": [
        "# Model Training"
      ],
      "metadata": {
        "id": "dtn-XEHh_v6E"
      }
    },
    {
      "cell_type": "code",
      "source": [
        "#Reading preprocessed data\n",
        "data = pd.read_csv(\"_finalProcessed.csv\").drop(columns=['Unnamed: 0'])\n",
        "data.head()"
      ],
      "metadata": {
        "colab": {
          "base_uri": "https://localhost:8080/",
          "height": 1000
        },
        "id": "vc8RLrga_vJH",
        "outputId": "be9c2047-0462-41f7-e91a-12047cbff33a"
      },
      "execution_count": null,
      "outputs": [
        {
          "output_type": "execute_result",
          "data": {
            "text/plain": [
              "                                                                                                                                                                                                                                                                                                                                                                                                                                                                                                                                                                                                                                                                                                                                                                                                                                                                                                                                                                                                                                                                                                                                                                                                                                                                                                                                                                                                                                                                                                                                                                                                                                                                                                                                                                                                                                                                                                                                                                                                                                                                                                                                                                                                                                                                                                                                                                                                                                                                                                                                                                                                                                                                                                                                                                                                                                                                                                                                                                                                                                                                                                                                                                                                                                                                                                                           article  \\\n",
              "0                                                                                                                                                                                                                                                                                                                                                                                                                                                                                                                                                                                                                                                                                                                                                                                                                                                                                                                                                                                                                                                                                                                                                                                                                                                                                                                                                                                                                                                            ['worldcom', 'exboss', 'launch', 'defenc', 'lawyer', 'defend', 'former', 'worldcom', 'chief', 'berni', 'ebber', 'batteri', 'fraud', 'charg', 'call', 'compani', 'whistleblow', 'first', 'wit', 'cynthia', 'cooper', 'worldcom', 'exhead', 'intern', 'account', 'alert', 'director', 'irregular', 'account', 'practic', 'u', 'telecom', 'giant', '2002', 'warn', 'led', 'collaps', 'firm', 'follow', 'discoveri', '11bn', '£57bn', 'account', 'fraud', 'mr', 'ebber', 'plead', 'guilti', 'charg', 'fraud', 'conspiraci', 'prosecut', 'lawyer', 'argu', 'mr', 'ebber', 'orchestr', 'seri', 'account', 'trick', 'worldcom', 'order', 'employe', 'hide', 'expens', 'inflat', 'revenu', 'meet', 'wall', 'street', 'earn', 'estim', 'm', 'cooper', 'run', 'consult', 'busi', 'told', 'juri', 'new', 'york', 'wednesday', 'extern', 'auditor', 'arthur', 'andersen', 'approv', 'worldcom', 'account', 'earli', '2001', '2002', 'said', 'andersen', 'given', 'green', 'light', 'procedur', 'practic', 'use', 'worldcom', 'mr', 'ebber', 'lawyer', 'said', 'unawar', 'fraud', 'argu', 'auditor', 'alert', 'problem', 'm', 'cooper', 'also', 'said', 'sharehold', 'meet', 'mr', 'ebber', 'often', 'pas', 'technic', 'question', 'compani', 'financ', 'chief', 'give', 'brief', 'answer', 'prosecut', 'star', 'wit', 'former', 'worldcom', 'financi', 'chief', 'scott', 'sullivan', 'said', 'mr', 'ebber', 'order', 'account', 'adjust', 'firm', 'tell', 'hit', 'book', 'howev', 'm', 'cooper', 'said', 'mr', 'sullivan', 'mention', 'anyth', 'uncomfort', 'worldcom', 'account', '2001', 'audit', 'committe', 'meet', 'mr', 'ebber', 'could', 'face', 'jail', 'sentenc', '85', 'year', 'convict', 'charg', 'face', 'worldcom', 'emerg', 'bankruptci', 'protect', '2004', 'known', 'mci', 'last', 'week', 'mci', 'agre', 'buyout', 'verizon', 'commun', 'deal', 'valu', '675bn']   \n",
              "1                                                                                                                                                                                                                                                                                                                                                                                                                                                                                                                                                                                                                                                                                                                                                                                                                                                                                                                                                                                                                                                                                                                                                                                                                                                                                                                                 ['german', 'busi', 'confid', 'slide', 'german', 'busi', 'confid', 'fell', 'februari', 'knock', 'hope', 'speedi', 'recoveri', 'europ', 'largest', 'economi', 'munichbas', 'research', 'institut', 'ifo', 'said', 'confid', 'index', 'fell', '955', 'februari', '975', 'januari', 'first', 'declin', 'three', 'month', 'studi', 'found', 'outlook', 'manufactur', 'retail', 'sector', 'worsen', 'observ', 'hope', 'confid', 'busi', 'sector', 'would', 'signal', 'econom', 'activ', 'pick', 'surpris', 'ifo', 'index', 'taken', 'knock', 'said', 'dz', 'bank', 'economist', 'bernd', 'weidenstein', 'main', 'reason', 'probabl', 'domest', 'economi', 'still', 'weak', 'particularli', 'retail', 'trade', 'economi', 'labour', 'minist', 'wolfgang', 'clement', 'call', 'dip', 'februari', 'ifo', 'confid', 'figur', 'mild', 'declin', 'said', 'despit', 'retreat', 'index', 'remain', 'rel', 'high', 'level', 'expect', 'modest', 'econom', 'upsw', 'continu', 'germani', 'economi', 'grew', '16', 'last', 'year', 'shrink', '2003', 'howev', 'economi', 'contract', '02', 'last', 'three', 'month', '2004', 'mainli', 'due', 'reluct', 'consum', 'spend', 'latest', 'indic', 'growth', 'still', 'prove', 'elus', 'ifo', 'presid', 'hanswern', 'sinn', 'said', 'improv', 'german', 'domest', 'demand', 'sluggish', 'export', 'kept', 'thing', 'go', 'first', 'half', '2004', 'demand', 'export', 'hit', 'valu', 'euro', 'hit', 'record', 'level', 'make', 'german', 'product', 'le', 'competit', 'oversea', 'top', 'unemploy', 'rate', 'stuck', 'close', '10', 'manufactur', 'firm', 'includ', 'daimlerchrysl', 'siemen', 'volkswagen', 'negoti', 'union', 'cost', 'cut', 'measur', 'analyst', 'said', 'ifo', 'figur', 'germani', 'continu', 'problem', 'may', 'delay', 'interest', 'rate', 'rise', 'european', 'central', 'bank', 'eurozon', 'interest', 'rate', '2', 'comment', 'senior', 'offici', 'recent', 'focus', 'threat', 'inflat', 'prompt', 'fear', 'interest', 'rate', 'may', 'rise']   \n",
              "2                                                                                                                                                                                                                                                                                                                                                                                                                                                                                                 ['bbc', 'poll', 'indic', 'econom', 'gloom', 'citizen', 'major', 'nation', 'survey', 'bbc', 'world', 'servic', 'poll', 'believ', 'world', 'economi', 'worsen', 'respond', 'also', 'said', 'nation', 'economi', 'get', 'wors', 'ask', 'famili', 'financi', 'outlook', 'major', '14', 'countri', 'said', 'posit', 'futur', 'almost', '23', '000', 'peopl', '22', 'countri', 'question', 'poll', 'mostli', 'conduct', 'asian', 'tsunami', 'disast', 'poll', 'found', 'major', 'plural', 'peopl', '13', 'countri', 'believ', 'economi', 'go', 'downhil', 'compar', 'respond', 'nine', 'countri', 'believ', 'improv', 'survey', 'three', 'countri', 'split', 'percentag', 'term', 'averag', '44', 'respond', 'countri', 'said', 'world', 'economi', 'get', 'wors', 'compar', '34', 'said', 'improv', 'similarli', '48', 'pessimist', 'nation', 'economi', '41', 'optimist', '47', 'saw', 'famili', 'econom', 'condit', 'improv', '36', 'said', 'get', 'wors', 'poll', '22', '953', 'peopl', 'conduct', 'intern', 'poll', 'firm', 'globescan', 'togeth', 'program', 'intern', 'polici', 'attitud', 'pipa', 'univers', 'maryland', 'world', 'economi', 'pick', 'difficult', 'time', 'year', 'ago', 'peopl', 'seem', 'fulli', 'absorb', 'develop', 'though', 'person', 'experienc', 'effect', 'said', 'pipa', 'director', 'steven', 'kull', 'peopl', 'around', 'world', 'say', 'ok', 'world', 'may', 'percept', 'war', 'terror', 'religi', 'polit', 'divis', 'make', 'world', 'wors', 'place', 'even', 'though', 'far', 'reflect', 'global', 'econom', 'perform', 'say', 'bbc', 'elizabeth', 'blunt', 'countri', 'peopl', 'optimist', 'world', 'famili', 'two', 'fastgrow', 'develop', 'economi', 'china', 'india', 'follow', 'indonesia', 'china', 'seen', 'two', 'decad', 'blister', 'econom', 'growth', 'led', 'wealth', 'creation', 'huge', 'scale', 'say', 'bbc', 'louisa', 'lim', 'beij', 'result', 'also', 'may', 'reflect', 'untrammel', 'confid', 'peopl', 'subject', 'endless', 'govern', 'propaganda', 'countri', 'rosi', 'econom', 'futur', 'correspond', 'say', 'south', 'korea', 'pessimist', 'respond', 'itali', 'mexico', 'also', 'quit', 'gloomi', 'bbc', 'david', 'willey', 'rome', 'say', 'one', 'reason', 'result', 'changeov', 'lira', 'euro', '2001', 'wide', 'view', 'biggest', 'reason', 'wage', 'salari', 'worth', 'le', 'use', 'philippin', 'among', 'upbeat', 'countri', 'prospect', 'respond', 'famili', 'one', 'pessimist', 'world', 'economi', 'pipa', 'conduct', 'poll', '15', 'novemb', '2004', '3', 'januari', '2005', 'across', '22', 'countri', 'facetofac', 'telephon', 'interview', 'interview', 'took', 'place', '15', 'novemb', '2004', '5', 'januari', '2005', 'margin', 'error', '25', '4', 'point', 'depend', 'countri', 'eight', 'countri', 'sampl', 'limit', 'major', 'metropolitan', 'area']   \n",
              "3  ['lifestyl', 'govern', 'mobil', 'choic', 'faster', 'better', 'funkier', 'hardwar', 'alon', 'go', 'help', 'phone', 'firm', 'sell', 'handset', 'research', 'suggest', 'instead', 'phone', 'firm', 'keen', 'get', 'custom', 'push', 'technolog', 'sake', 'consum', 'far', 'interest', 'handset', 'fit', 'lifestyl', 'screen', 'size', 'onboard', 'memori', 'chip', 'insid', 'show', 'indepth', 'studi', 'handset', 'maker', 'ericsson', 'histor', 'industri', 'much', 'focu', 'use', 'technolog', 'said', 'dr', 'michael', 'bjorn', 'senior', 'advisor', 'mobil', 'medium', 'ericsson', 'consum', 'enterpris', 'lab', 'stop', 'say', 'technolog', 'chang', 'live', 'said', 'tri', 'speak', 'consum', 'languag', 'help', 'see', 'fit', 'told', 'bbc', 'news', 'websit', 'studi', 'ericsson', 'interview', '14', '000', 'mobil', 'phone', 'owner', 'way', 'use', 'phone', 'peopl', 'habit', 'remain', 'said', 'dr', 'bjorn', 'move', 'activ', 'mobil', 'phone', 'much', 'conveni', 'way', 'one', 'good', 'exampl', 'diarywrit', 'among', 'younger', 'peopl', 'said', 'diari', 'alway', 'popular', 'mobil', 'phone', 'especi', 'one', 'equip', 'camera', 'help', 'keep', 'differ', 'form', 'youngster', 'use', 'text', 'messag', 'also', 'reflect', 'desir', 'chat', 'keep', 'contact', 'friend', 'let', 'slightli', 'chang', 'way', 'dr', 'bjorn', 'said', 'although', 'consum', 'alway', 'use', 'phone', 'sheer', 'varieti', 'new', 'handset', 'technolog', 'make', 'possibl', 'gradual', 'drive', 'new', 'habit', 'lifestyl', 'ericsson', 'research', 'shown', 'consum', 'divid', 'differ', 'tribe', 'use', 'phone', 'differ', 'way', 'dr', 'bjorn', 'said', 'group', 'dub', 'pioneer', 'materialist', 'interest', 'tri', 'new', 'thing', 'behind', 'start', 'mani', 'trend', 'phone', 'use', 'instanc', 'said', 'older', 'peopl', 'use', 'sm', 'much', 'five', 'year', 'ago', 'younger', 'user', 'often', 'child', 'age', 'mobil', 'owner', 'encourag', 'older', 'peopl', 'tri', 'could', 'keep', 'touch', 'anoth', 'factor', 'govern', 'speed', 'chang', 'mobil', 'phone', 'use', 'simpl', 'speed', 'new', 'devic', 'bought', 'pioneer', 'materialist', '25', 'peopl', 'handset', 'new', 'innov', 'camera', 'consum', 'stop', 'worri', 'send', 'pictur', 'messag', 'person', 'end', 'abl', 'see', 'signific', 'number', 'user', 'pas', 'use', 'new', 'innov', 'tend', 'take', 'dr', 'bjorn', 'said', 'earli', 'report', 'camera', 'phone', 'usag', 'japan', 'seem', 'impli', 'innov', 'go', 'flop', 'howev', 'said', '45', 'japanes', 'peopl', 'ericsson', 'question', 'use', 'camera', 'phone', 'least', 'month', '2003', 'figur', '29', 'similarli', 'across', 'europ', 'number', 'peopl', 'take', 'snap', 'camera', 'start', 'rise', '2003', '4', 'peopl', 'uk', 'took', 'phonecam', 'snap', 'least', 'month', 'figur', '14', 'similar', 'rise', 'seen', 'mani', 'european', 'nation', 'dr', 'bjorn', 'said', 'peopl', 'also', 'use', 'camera', 'phone', 'differ', 'way', 'film', 'even', 'digit', 'camera', 'usag', 'pattern', 'digit', 'camera', 'almost', 'exactli', 'replac', 'usag', 'pattern', 'analogu', 'camera', 'said', 'digit', 'camera', 'tend', 'use', 'signific', 'event', 'wed', 'holiday', 'birthday', 'contrast', 'said', 'camera', 'phone', 'use', 'much', 'captur', 'moment', 'woven', 'everyday', 'life']   \n",
              "4                                                                                                                                                                                                                                                                                                                                                                                                                                                                                                                                                                                                                                                                                                                                                                                                                                                                                                                                                                                                                                                                                                                                                                                                                                 ['enron', 'bos', '168m', 'payout', 'eighteen', 'former', 'enron', 'director', 'agre', '168m', '£89m', 'settlement', 'deal', 'sharehold', 'lawsuit', 'collaps', 'energi', 'firm', 'lead', 'plaintiff', 'univers', 'california', 'announc', 'news', 'ad', '10', 'former', 'director', 'pay', '13m', 'pocket', 'settlement', 'put', 'court', 'approv', 'next', 'week', 'enron', 'went', 'bankrupt', '2001', 'emerg', 'hidden', 'hundr', 'million', 'dollar', 'debt', 'collaps', 'firm', 'seventh', 'biggest', 'public', 'u', 'compani', 'revenu', 'demis', 'sent', 'shockwav', 'financi', 'market', 'dent', 'investor', 'confid', 'corpor', 'america', 'settlement', 'signific', 'hold', 'outsid', 'director', 'least', 'partial', 'person', 'respons', 'william', 'lerach', 'lawyer', 'lead', 'class', 'action', 'suit', 'enron', 'said', 'hope', 'help', 'send', 'messag', 'corpor', 'boardroom', 'import', 'director', 'perform', 'legal', 'duti', 'ad', 'term', '168m', 'settlement', '155m', 'cover', 'insur', 'none', '18', 'former', 'director', 'admit', 'wrongdo', 'deal', 'fourth', 'major', 'settlement', 'negoti', 'lawyer', 'file', 'class', 'action', 'behalf', 'enron', 'sharehold', 'almost', 'three', 'year', 'ago', 'far', 'includ', 'latest', 'deal', '500m', '£3788m', 'retriev', 'investor', 'howev', 'latest', 'deal', 'includ', 'former', 'enron', 'chief', 'execut', 'ken', 'lay', 'jeff', 'skill', 'men', 'face', 'crimin', 'charg', 'alleg', 'misconduct', 'run', 'firm', 'collaps', 'neither', 'cover', 'andrew', 'fastow', 'plead', 'guilti', 'take', 'part', 'illeg', 'conspiraci', 'chief', 'financi', 'offic', 'group', 'enron', 'sharehold', 'still', 'seek', 'damag', 'long', 'list', 'big', 'name', 'defend', 'includ', 'financi', 'institut', 'jp', 'morgan', 'chase', 'citigroup', 'merril', 'lynch', 'credit', 'suiss', 'first', 'boston', 'univers', 'california', 'said', 'trial', 'case', 'schedul', 'begin', 'octob', '2006', 'join', 'lawsuit', 'decemb', '2001alleg', 'massiv', 'insid', 'trade', 'fraud', 'claim', 'lost', '145m', 'invest', 'compani']   \n",
              "\n",
              "   category  \n",
              "0  business  \n",
              "1  business  \n",
              "2  business  \n",
              "3      tech  \n",
              "4  business  "
            ],
            "text/html": [
              "\n",
              "  <div id=\"df-9ae51e2f-8f2d-4e47-abaa-d7a3b5296d7f\">\n",
              "    <div class=\"colab-df-container\">\n",
              "      <div>\n",
              "<style scoped>\n",
              "    .dataframe tbody tr th:only-of-type {\n",
              "        vertical-align: middle;\n",
              "    }\n",
              "\n",
              "    .dataframe tbody tr th {\n",
              "        vertical-align: top;\n",
              "    }\n",
              "\n",
              "    .dataframe thead th {\n",
              "        text-align: right;\n",
              "    }\n",
              "</style>\n",
              "<table border=\"1\" class=\"dataframe\">\n",
              "  <thead>\n",
              "    <tr style=\"text-align: right;\">\n",
              "      <th></th>\n",
              "      <th>article</th>\n",
              "      <th>category</th>\n",
              "    </tr>\n",
              "  </thead>\n",
              "  <tbody>\n",
              "    <tr>\n",
              "      <th>0</th>\n",
              "      <td>['worldcom', 'exboss', 'launch', 'defenc', 'lawyer', 'defend', 'former', 'worldcom', 'chief', 'berni', 'ebber', 'batteri', 'fraud', 'charg', 'call', 'compani', 'whistleblow', 'first', 'wit', 'cynthia', 'cooper', 'worldcom', 'exhead', 'intern', 'account', 'alert', 'director', 'irregular', 'account', 'practic', 'u', 'telecom', 'giant', '2002', 'warn', 'led', 'collaps', 'firm', 'follow', 'discoveri', '11bn', '£57bn', 'account', 'fraud', 'mr', 'ebber', 'plead', 'guilti', 'charg', 'fraud', 'conspiraci', 'prosecut', 'lawyer', 'argu', 'mr', 'ebber', 'orchestr', 'seri', 'account', 'trick', 'worldcom', 'order', 'employe', 'hide', 'expens', 'inflat', 'revenu', 'meet', 'wall', 'street', 'earn', 'estim', 'm', 'cooper', 'run', 'consult', 'busi', 'told', 'juri', 'new', 'york', 'wednesday', 'extern', 'auditor', 'arthur', 'andersen', 'approv', 'worldcom', 'account', 'earli', '2001', '2002', 'said', 'andersen', 'given', 'green', 'light', 'procedur', 'practic', 'use', 'worldcom', 'mr', 'ebber', 'lawyer', 'said', 'unawar', 'fraud', 'argu', 'auditor', 'alert', 'problem', 'm', 'cooper', 'also', 'said', 'sharehold', 'meet', 'mr', 'ebber', 'often', 'pas', 'technic', 'question', 'compani', 'financ', 'chief', 'give', 'brief', 'answer', 'prosecut', 'star', 'wit', 'former', 'worldcom', 'financi', 'chief', 'scott', 'sullivan', 'said', 'mr', 'ebber', 'order', 'account', 'adjust', 'firm', 'tell', 'hit', 'book', 'howev', 'm', 'cooper', 'said', 'mr', 'sullivan', 'mention', 'anyth', 'uncomfort', 'worldcom', 'account', '2001', 'audit', 'committe', 'meet', 'mr', 'ebber', 'could', 'face', 'jail', 'sentenc', '85', 'year', 'convict', 'charg', 'face', 'worldcom', 'emerg', 'bankruptci', 'protect', '2004', 'known', 'mci', 'last', 'week', 'mci', 'agre', 'buyout', 'verizon', 'commun', 'deal', 'valu', '675bn']</td>\n",
              "      <td>business</td>\n",
              "    </tr>\n",
              "    <tr>\n",
              "      <th>1</th>\n",
              "      <td>['german', 'busi', 'confid', 'slide', 'german', 'busi', 'confid', 'fell', 'februari', 'knock', 'hope', 'speedi', 'recoveri', 'europ', 'largest', 'economi', 'munichbas', 'research', 'institut', 'ifo', 'said', 'confid', 'index', 'fell', '955', 'februari', '975', 'januari', 'first', 'declin', 'three', 'month', 'studi', 'found', 'outlook', 'manufactur', 'retail', 'sector', 'worsen', 'observ', 'hope', 'confid', 'busi', 'sector', 'would', 'signal', 'econom', 'activ', 'pick', 'surpris', 'ifo', 'index', 'taken', 'knock', 'said', 'dz', 'bank', 'economist', 'bernd', 'weidenstein', 'main', 'reason', 'probabl', 'domest', 'economi', 'still', 'weak', 'particularli', 'retail', 'trade', 'economi', 'labour', 'minist', 'wolfgang', 'clement', 'call', 'dip', 'februari', 'ifo', 'confid', 'figur', 'mild', 'declin', 'said', 'despit', 'retreat', 'index', 'remain', 'rel', 'high', 'level', 'expect', 'modest', 'econom', 'upsw', 'continu', 'germani', 'economi', 'grew', '16', 'last', 'year', 'shrink', '2003', 'howev', 'economi', 'contract', '02', 'last', 'three', 'month', '2004', 'mainli', 'due', 'reluct', 'consum', 'spend', 'latest', 'indic', 'growth', 'still', 'prove', 'elus', 'ifo', 'presid', 'hanswern', 'sinn', 'said', 'improv', 'german', 'domest', 'demand', 'sluggish', 'export', 'kept', 'thing', 'go', 'first', 'half', '2004', 'demand', 'export', 'hit', 'valu', 'euro', 'hit', 'record', 'level', 'make', 'german', 'product', 'le', 'competit', 'oversea', 'top', 'unemploy', 'rate', 'stuck', 'close', '10', 'manufactur', 'firm', 'includ', 'daimlerchrysl', 'siemen', 'volkswagen', 'negoti', 'union', 'cost', 'cut', 'measur', 'analyst', 'said', 'ifo', 'figur', 'germani', 'continu', 'problem', 'may', 'delay', 'interest', 'rate', 'rise', 'european', 'central', 'bank', 'eurozon', 'interest', 'rate', '2', 'comment', 'senior', 'offici', 'recent', 'focus', 'threat', 'inflat', 'prompt', 'fear', 'interest', 'rate', 'may', 'rise']</td>\n",
              "      <td>business</td>\n",
              "    </tr>\n",
              "    <tr>\n",
              "      <th>2</th>\n",
              "      <td>['bbc', 'poll', 'indic', 'econom', 'gloom', 'citizen', 'major', 'nation', 'survey', 'bbc', 'world', 'servic', 'poll', 'believ', 'world', 'economi', 'worsen', 'respond', 'also', 'said', 'nation', 'economi', 'get', 'wors', 'ask', 'famili', 'financi', 'outlook', 'major', '14', 'countri', 'said', 'posit', 'futur', 'almost', '23', '000', 'peopl', '22', 'countri', 'question', 'poll', 'mostli', 'conduct', 'asian', 'tsunami', 'disast', 'poll', 'found', 'major', 'plural', 'peopl', '13', 'countri', 'believ', 'economi', 'go', 'downhil', 'compar', 'respond', 'nine', 'countri', 'believ', 'improv', 'survey', 'three', 'countri', 'split', 'percentag', 'term', 'averag', '44', 'respond', 'countri', 'said', 'world', 'economi', 'get', 'wors', 'compar', '34', 'said', 'improv', 'similarli', '48', 'pessimist', 'nation', 'economi', '41', 'optimist', '47', 'saw', 'famili', 'econom', 'condit', 'improv', '36', 'said', 'get', 'wors', 'poll', '22', '953', 'peopl', 'conduct', 'intern', 'poll', 'firm', 'globescan', 'togeth', 'program', 'intern', 'polici', 'attitud', 'pipa', 'univers', 'maryland', 'world', 'economi', 'pick', 'difficult', 'time', 'year', 'ago', 'peopl', 'seem', 'fulli', 'absorb', 'develop', 'though', 'person', 'experienc', 'effect', 'said', 'pipa', 'director', 'steven', 'kull', 'peopl', 'around', 'world', 'say', 'ok', 'world', 'may', 'percept', 'war', 'terror', 'religi', 'polit', 'divis', 'make', 'world', 'wors', 'place', 'even', 'though', 'far', 'reflect', 'global', 'econom', 'perform', 'say', 'bbc', 'elizabeth', 'blunt', 'countri', 'peopl', 'optimist', 'world', 'famili', 'two', 'fastgrow', 'develop', 'economi', 'china', 'india', 'follow', 'indonesia', 'china', 'seen', 'two', 'decad', 'blister', 'econom', 'growth', 'led', 'wealth', 'creation', 'huge', 'scale', 'say', 'bbc', 'louisa', 'lim', 'beij', 'result', 'also', 'may', 'reflect', 'untrammel', 'confid', 'peopl', 'subject', 'endless', 'govern', 'propaganda', 'countri', 'rosi', 'econom', 'futur', 'correspond', 'say', 'south', 'korea', 'pessimist', 'respond', 'itali', 'mexico', 'also', 'quit', 'gloomi', 'bbc', 'david', 'willey', 'rome', 'say', 'one', 'reason', 'result', 'changeov', 'lira', 'euro', '2001', 'wide', 'view', 'biggest', 'reason', 'wage', 'salari', 'worth', 'le', 'use', 'philippin', 'among', 'upbeat', 'countri', 'prospect', 'respond', 'famili', 'one', 'pessimist', 'world', 'economi', 'pipa', 'conduct', 'poll', '15', 'novemb', '2004', '3', 'januari', '2005', 'across', '22', 'countri', 'facetofac', 'telephon', 'interview', 'interview', 'took', 'place', '15', 'novemb', '2004', '5', 'januari', '2005', 'margin', 'error', '25', '4', 'point', 'depend', 'countri', 'eight', 'countri', 'sampl', 'limit', 'major', 'metropolitan', 'area']</td>\n",
              "      <td>business</td>\n",
              "    </tr>\n",
              "    <tr>\n",
              "      <th>3</th>\n",
              "      <td>['lifestyl', 'govern', 'mobil', 'choic', 'faster', 'better', 'funkier', 'hardwar', 'alon', 'go', 'help', 'phone', 'firm', 'sell', 'handset', 'research', 'suggest', 'instead', 'phone', 'firm', 'keen', 'get', 'custom', 'push', 'technolog', 'sake', 'consum', 'far', 'interest', 'handset', 'fit', 'lifestyl', 'screen', 'size', 'onboard', 'memori', 'chip', 'insid', 'show', 'indepth', 'studi', 'handset', 'maker', 'ericsson', 'histor', 'industri', 'much', 'focu', 'use', 'technolog', 'said', 'dr', 'michael', 'bjorn', 'senior', 'advisor', 'mobil', 'medium', 'ericsson', 'consum', 'enterpris', 'lab', 'stop', 'say', 'technolog', 'chang', 'live', 'said', 'tri', 'speak', 'consum', 'languag', 'help', 'see', 'fit', 'told', 'bbc', 'news', 'websit', 'studi', 'ericsson', 'interview', '14', '000', 'mobil', 'phone', 'owner', 'way', 'use', 'phone', 'peopl', 'habit', 'remain', 'said', 'dr', 'bjorn', 'move', 'activ', 'mobil', 'phone', 'much', 'conveni', 'way', 'one', 'good', 'exampl', 'diarywrit', 'among', 'younger', 'peopl', 'said', 'diari', 'alway', 'popular', 'mobil', 'phone', 'especi', 'one', 'equip', 'camera', 'help', 'keep', 'differ', 'form', 'youngster', 'use', 'text', 'messag', 'also', 'reflect', 'desir', 'chat', 'keep', 'contact', 'friend', 'let', 'slightli', 'chang', 'way', 'dr', 'bjorn', 'said', 'although', 'consum', 'alway', 'use', 'phone', 'sheer', 'varieti', 'new', 'handset', 'technolog', 'make', 'possibl', 'gradual', 'drive', 'new', 'habit', 'lifestyl', 'ericsson', 'research', 'shown', 'consum', 'divid', 'differ', 'tribe', 'use', 'phone', 'differ', 'way', 'dr', 'bjorn', 'said', 'group', 'dub', 'pioneer', 'materialist', 'interest', 'tri', 'new', 'thing', 'behind', 'start', 'mani', 'trend', 'phone', 'use', 'instanc', 'said', 'older', 'peopl', 'use', 'sm', 'much', 'five', 'year', 'ago', 'younger', 'user', 'often', 'child', 'age', 'mobil', 'owner', 'encourag', 'older', 'peopl', 'tri', 'could', 'keep', 'touch', 'anoth', 'factor', 'govern', 'speed', 'chang', 'mobil', 'phone', 'use', 'simpl', 'speed', 'new', 'devic', 'bought', 'pioneer', 'materialist', '25', 'peopl', 'handset', 'new', 'innov', 'camera', 'consum', 'stop', 'worri', 'send', 'pictur', 'messag', 'person', 'end', 'abl', 'see', 'signific', 'number', 'user', 'pas', 'use', 'new', 'innov', 'tend', 'take', 'dr', 'bjorn', 'said', 'earli', 'report', 'camera', 'phone', 'usag', 'japan', 'seem', 'impli', 'innov', 'go', 'flop', 'howev', 'said', '45', 'japanes', 'peopl', 'ericsson', 'question', 'use', 'camera', 'phone', 'least', 'month', '2003', 'figur', '29', 'similarli', 'across', 'europ', 'number', 'peopl', 'take', 'snap', 'camera', 'start', 'rise', '2003', '4', 'peopl', 'uk', 'took', 'phonecam', 'snap', 'least', 'month', 'figur', '14', 'similar', 'rise', 'seen', 'mani', 'european', 'nation', 'dr', 'bjorn', 'said', 'peopl', 'also', 'use', 'camera', 'phone', 'differ', 'way', 'film', 'even', 'digit', 'camera', 'usag', 'pattern', 'digit', 'camera', 'almost', 'exactli', 'replac', 'usag', 'pattern', 'analogu', 'camera', 'said', 'digit', 'camera', 'tend', 'use', 'signific', 'event', 'wed', 'holiday', 'birthday', 'contrast', 'said', 'camera', 'phone', 'use', 'much', 'captur', 'moment', 'woven', 'everyday', 'life']</td>\n",
              "      <td>tech</td>\n",
              "    </tr>\n",
              "    <tr>\n",
              "      <th>4</th>\n",
              "      <td>['enron', 'bos', '168m', 'payout', 'eighteen', 'former', 'enron', 'director', 'agre', '168m', '£89m', 'settlement', 'deal', 'sharehold', 'lawsuit', 'collaps', 'energi', 'firm', 'lead', 'plaintiff', 'univers', 'california', 'announc', 'news', 'ad', '10', 'former', 'director', 'pay', '13m', 'pocket', 'settlement', 'put', 'court', 'approv', 'next', 'week', 'enron', 'went', 'bankrupt', '2001', 'emerg', 'hidden', 'hundr', 'million', 'dollar', 'debt', 'collaps', 'firm', 'seventh', 'biggest', 'public', 'u', 'compani', 'revenu', 'demis', 'sent', 'shockwav', 'financi', 'market', 'dent', 'investor', 'confid', 'corpor', 'america', 'settlement', 'signific', 'hold', 'outsid', 'director', 'least', 'partial', 'person', 'respons', 'william', 'lerach', 'lawyer', 'lead', 'class', 'action', 'suit', 'enron', 'said', 'hope', 'help', 'send', 'messag', 'corpor', 'boardroom', 'import', 'director', 'perform', 'legal', 'duti', 'ad', 'term', '168m', 'settlement', '155m', 'cover', 'insur', 'none', '18', 'former', 'director', 'admit', 'wrongdo', 'deal', 'fourth', 'major', 'settlement', 'negoti', 'lawyer', 'file', 'class', 'action', 'behalf', 'enron', 'sharehold', 'almost', 'three', 'year', 'ago', 'far', 'includ', 'latest', 'deal', '500m', '£3788m', 'retriev', 'investor', 'howev', 'latest', 'deal', 'includ', 'former', 'enron', 'chief', 'execut', 'ken', 'lay', 'jeff', 'skill', 'men', 'face', 'crimin', 'charg', 'alleg', 'misconduct', 'run', 'firm', 'collaps', 'neither', 'cover', 'andrew', 'fastow', 'plead', 'guilti', 'take', 'part', 'illeg', 'conspiraci', 'chief', 'financi', 'offic', 'group', 'enron', 'sharehold', 'still', 'seek', 'damag', 'long', 'list', 'big', 'name', 'defend', 'includ', 'financi', 'institut', 'jp', 'morgan', 'chase', 'citigroup', 'merril', 'lynch', 'credit', 'suiss', 'first', 'boston', 'univers', 'california', 'said', 'trial', 'case', 'schedul', 'begin', 'octob', '2006', 'join', 'lawsuit', 'decemb', '2001alleg', 'massiv', 'insid', 'trade', 'fraud', 'claim', 'lost', '145m', 'invest', 'compani']</td>\n",
              "      <td>business</td>\n",
              "    </tr>\n",
              "  </tbody>\n",
              "</table>\n",
              "</div>\n",
              "      <button class=\"colab-df-convert\" onclick=\"convertToInteractive('df-9ae51e2f-8f2d-4e47-abaa-d7a3b5296d7f')\"\n",
              "              title=\"Convert this dataframe to an interactive table.\"\n",
              "              style=\"display:none;\">\n",
              "        \n",
              "  <svg xmlns=\"http://www.w3.org/2000/svg\" height=\"24px\"viewBox=\"0 0 24 24\"\n",
              "       width=\"24px\">\n",
              "    <path d=\"M0 0h24v24H0V0z\" fill=\"none\"/>\n",
              "    <path d=\"M18.56 5.44l.94 2.06.94-2.06 2.06-.94-2.06-.94-.94-2.06-.94 2.06-2.06.94zm-11 1L8.5 8.5l.94-2.06 2.06-.94-2.06-.94L8.5 2.5l-.94 2.06-2.06.94zm10 10l.94 2.06.94-2.06 2.06-.94-2.06-.94-.94-2.06-.94 2.06-2.06.94z\"/><path d=\"M17.41 7.96l-1.37-1.37c-.4-.4-.92-.59-1.43-.59-.52 0-1.04.2-1.43.59L10.3 9.45l-7.72 7.72c-.78.78-.78 2.05 0 2.83L4 21.41c.39.39.9.59 1.41.59.51 0 1.02-.2 1.41-.59l7.78-7.78 2.81-2.81c.8-.78.8-2.07 0-2.86zM5.41 20L4 18.59l7.72-7.72 1.47 1.35L5.41 20z\"/>\n",
              "  </svg>\n",
              "      </button>\n",
              "      \n",
              "  <style>\n",
              "    .colab-df-container {\n",
              "      display:flex;\n",
              "      flex-wrap:wrap;\n",
              "      gap: 12px;\n",
              "    }\n",
              "\n",
              "    .colab-df-convert {\n",
              "      background-color: #E8F0FE;\n",
              "      border: none;\n",
              "      border-radius: 50%;\n",
              "      cursor: pointer;\n",
              "      display: none;\n",
              "      fill: #1967D2;\n",
              "      height: 32px;\n",
              "      padding: 0 0 0 0;\n",
              "      width: 32px;\n",
              "    }\n",
              "\n",
              "    .colab-df-convert:hover {\n",
              "      background-color: #E2EBFA;\n",
              "      box-shadow: 0px 1px 2px rgba(60, 64, 67, 0.3), 0px 1px 3px 1px rgba(60, 64, 67, 0.15);\n",
              "      fill: #174EA6;\n",
              "    }\n",
              "\n",
              "    [theme=dark] .colab-df-convert {\n",
              "      background-color: #3B4455;\n",
              "      fill: #D2E3FC;\n",
              "    }\n",
              "\n",
              "    [theme=dark] .colab-df-convert:hover {\n",
              "      background-color: #434B5C;\n",
              "      box-shadow: 0px 1px 3px 1px rgba(0, 0, 0, 0.15);\n",
              "      filter: drop-shadow(0px 1px 2px rgba(0, 0, 0, 0.3));\n",
              "      fill: #FFFFFF;\n",
              "    }\n",
              "  </style>\n",
              "\n",
              "      <script>\n",
              "        const buttonEl =\n",
              "          document.querySelector('#df-9ae51e2f-8f2d-4e47-abaa-d7a3b5296d7f button.colab-df-convert');\n",
              "        buttonEl.style.display =\n",
              "          google.colab.kernel.accessAllowed ? 'block' : 'none';\n",
              "\n",
              "        async function convertToInteractive(key) {\n",
              "          const element = document.querySelector('#df-9ae51e2f-8f2d-4e47-abaa-d7a3b5296d7f');\n",
              "          const dataTable =\n",
              "            await google.colab.kernel.invokeFunction('convertToInteractive',\n",
              "                                                     [key], {});\n",
              "          if (!dataTable) return;\n",
              "\n",
              "          const docLinkHtml = 'Like what you see? Visit the ' +\n",
              "            '<a target=\"_blank\" href=https://colab.research.google.com/notebooks/data_table.ipynb>data table notebook</a>'\n",
              "            + ' to learn more about interactive tables.';\n",
              "          element.innerHTML = '';\n",
              "          dataTable['output_type'] = 'display_data';\n",
              "          await google.colab.output.renderOutput(dataTable, element);\n",
              "          const docLink = document.createElement('div');\n",
              "          docLink.innerHTML = docLinkHtml;\n",
              "          element.appendChild(docLink);\n",
              "        }\n",
              "      </script>\n",
              "    </div>\n",
              "  </div>\n",
              "  "
            ]
          },
          "metadata": {},
          "execution_count": 131
        }
      ]
    },
    {
      "cell_type": "code",
      "source": [
        "epochs = 10\n",
        "emb_dim = 100\n",
        "batch_size = 50\n",
        "n_most_common_words = 80000\n",
        "max_len = 250"
      ],
      "metadata": {
        "id": "sO7XKqoNCq96"
      },
      "execution_count": null,
      "outputs": []
    },
    {
      "cell_type": "code",
      "source": [
        "tokenizer = Tokenizer(num_words=n_most_common_words,filters='!\"#$%&()*+,-./:;<=>?@[\\]^_`{|}~' ,lower=True)\n",
        "tokenizer.fit_on_texts(data['article'].values)\n",
        "wordIndex = tokenizer.word_index\n",
        "print(f'Number of Unique tokens is {len(wordIndex)}')"
      ],
      "metadata": {
        "colab": {
          "base_uri": "https://localhost:8080/"
        },
        "id": "B5RFmYMFCnkT",
        "outputId": "5b46812a-767c-4835-cf51-d9be59633bfc"
      },
      "execution_count": null,
      "outputs": [
        {
          "output_type": "stream",
          "name": "stdout",
          "text": [
            "Number of Unique tokens is 19929\n"
          ]
        }
      ]
    },
    {
      "cell_type": "code",
      "source": [
        "X = tokenizer.texts_to_sequences(data['article'].values)\n",
        "X = pad_sequences(X,maxlen=max_len)\n",
        "print(f'The shape of data tensor is {X.shape}')"
      ],
      "metadata": {
        "colab": {
          "base_uri": "https://localhost:8080/"
        },
        "id": "0ESHjPxACcao",
        "outputId": "a5a59a84-a59c-4400-f240-4cb5819a1d6f"
      },
      "execution_count": null,
      "outputs": [
        {
          "output_type": "stream",
          "name": "stdout",
          "text": [
            "The shape of data tensor is (1490, 250)\n"
          ]
        }
      ]
    },
    {
      "cell_type": "code",
      "source": [
        "Y = pd.get_dummies(data['category']).values\n",
        "print(f'The shape of label tensor is {Y.shape}')"
      ],
      "metadata": {
        "colab": {
          "base_uri": "https://localhost:8080/"
        },
        "id": "DZxeUPP9ChsN",
        "outputId": "1d1f0364-e6dd-44e1-9510-11876eca4abd"
      },
      "execution_count": null,
      "outputs": [
        {
          "output_type": "stream",
          "name": "stdout",
          "text": [
            "The shape of label tensor is (1490, 5)\n"
          ]
        }
      ]
    },
    {
      "cell_type": "code",
      "source": [
        "X_train , X_test , y_train ,y_test = train_test_split(X,Y,test_size=0.1, random_state=42)\n",
        "X_train.shape, X_test.shape, y_train.shape, y_test.shape"
      ],
      "metadata": {
        "colab": {
          "base_uri": "https://localhost:8080/"
        },
        "id": "wIBIpO5QBk9R",
        "outputId": "27865617-73b8-4010-f1e5-589bd5b48bfd"
      },
      "execution_count": null,
      "outputs": [
        {
          "output_type": "execute_result",
          "data": {
            "text/plain": [
              "((1341, 250), (149, 250), (1341, 5), (149, 5))"
            ]
          },
          "metadata": {},
          "execution_count": 137
        }
      ]
    },
    {
      "cell_type": "markdown",
      "source": [
        "## LSTM Model\n"
      ],
      "metadata": {
        "id": "EDtogU42EnwA"
      }
    },
    {
      "cell_type": "code",
      "source": [
        "pip install transformers"
      ],
      "metadata": {
        "colab": {
          "base_uri": "https://localhost:8080/"
        },
        "id": "LE1Y8k_KE6Hz",
        "outputId": "256ce375-fa00-4f0d-eebc-3453876145a0"
      },
      "execution_count": null,
      "outputs": [
        {
          "output_type": "stream",
          "name": "stdout",
          "text": [
            "Looking in indexes: https://pypi.org/simple, https://us-python.pkg.dev/colab-wheels/public/simple/\n",
            "Collecting transformers\n",
            "  Downloading transformers-4.25.1-py3-none-any.whl (5.8 MB)\n",
            "\u001b[K     |████████████████████████████████| 5.8 MB 5.1 MB/s \n",
            "\u001b[?25hRequirement already satisfied: numpy>=1.17 in /usr/local/lib/python3.8/dist-packages (from transformers) (1.21.6)\n",
            "Collecting huggingface-hub<1.0,>=0.10.0\n",
            "  Downloading huggingface_hub-0.11.1-py3-none-any.whl (182 kB)\n",
            "\u001b[K     |████████████████████████████████| 182 kB 66.3 MB/s \n",
            "\u001b[?25hRequirement already satisfied: filelock in /usr/local/lib/python3.8/dist-packages (from transformers) (3.8.2)\n",
            "Requirement already satisfied: regex!=2019.12.17 in /usr/local/lib/python3.8/dist-packages (from transformers) (2022.6.2)\n",
            "Requirement already satisfied: pyyaml>=5.1 in /usr/local/lib/python3.8/dist-packages (from transformers) (6.0)\n",
            "Collecting tokenizers!=0.11.3,<0.14,>=0.11.1\n",
            "  Downloading tokenizers-0.13.2-cp38-cp38-manylinux_2_17_x86_64.manylinux2014_x86_64.whl (7.6 MB)\n",
            "\u001b[K     |████████████████████████████████| 7.6 MB 44.4 MB/s \n",
            "\u001b[?25hRequirement already satisfied: packaging>=20.0 in /usr/local/lib/python3.8/dist-packages (from transformers) (21.3)\n",
            "Requirement already satisfied: requests in /usr/local/lib/python3.8/dist-packages (from transformers) (2.23.0)\n",
            "Requirement already satisfied: tqdm>=4.27 in /usr/local/lib/python3.8/dist-packages (from transformers) (4.64.1)\n",
            "Requirement already satisfied: typing-extensions>=3.7.4.3 in /usr/local/lib/python3.8/dist-packages (from huggingface-hub<1.0,>=0.10.0->transformers) (4.4.0)\n",
            "Requirement already satisfied: pyparsing!=3.0.5,>=2.0.2 in /usr/local/lib/python3.8/dist-packages (from packaging>=20.0->transformers) (3.0.9)\n",
            "Requirement already satisfied: chardet<4,>=3.0.2 in /usr/local/lib/python3.8/dist-packages (from requests->transformers) (3.0.4)\n",
            "Requirement already satisfied: certifi>=2017.4.17 in /usr/local/lib/python3.8/dist-packages (from requests->transformers) (2022.12.7)\n",
            "Requirement already satisfied: urllib3!=1.25.0,!=1.25.1,<1.26,>=1.21.1 in /usr/local/lib/python3.8/dist-packages (from requests->transformers) (1.24.3)\n",
            "Requirement already satisfied: idna<3,>=2.5 in /usr/local/lib/python3.8/dist-packages (from requests->transformers) (2.10)\n",
            "Installing collected packages: tokenizers, huggingface-hub, transformers\n",
            "Successfully installed huggingface-hub-0.11.1 tokenizers-0.13.2 transformers-4.25.1\n"
          ]
        }
      ]
    },
    {
      "cell_type": "code",
      "source": [
        "print((X_train.shape, y_train.shape, X_test.shape, y_test.shape))\n",
        "\n",
        "model = Sequential()\n",
        "model.add(Embedding(n_most_common_words, emb_dim, input_length=X.shape[1]))\n",
        "model.add(SpatialDropout1D(0.7))\n",
        "model.add(LSTM(64, dropout=0.7, recurrent_dropout=0.7))\n",
        "model.add(Dense(5, activation='softmax'))"
      ],
      "metadata": {
        "colab": {
          "base_uri": "https://localhost:8080/"
        },
        "id": "-VhHnSjXC20P",
        "outputId": "cf3abb86-5f46-4a11-8a12-79755dbcdd10"
      },
      "execution_count": null,
      "outputs": [
        {
          "output_type": "stream",
          "name": "stdout",
          "text": [
            "((1341, 250), (1341, 5), (149, 250), (149, 5))\n"
          ]
        }
      ]
    },
    {
      "cell_type": "code",
      "source": [
        "model.compile(optimizer='adam', loss='categorical_crossentropy', metrics=['acc'])"
      ],
      "metadata": {
        "id": "6OnCdFNFEuex"
      },
      "execution_count": null,
      "outputs": []
    },
    {
      "cell_type": "code",
      "source": [
        "model.summary()"
      ],
      "metadata": {
        "colab": {
          "base_uri": "https://localhost:8080/"
        },
        "id": "3gLFVZPGmxQy",
        "outputId": "e20b9823-a132-4809-d0ed-ba42ef7bc6ae"
      },
      "execution_count": null,
      "outputs": [
        {
          "output_type": "stream",
          "name": "stdout",
          "text": [
            "Model: \"sequential\"\n",
            "_________________________________________________________________\n",
            " Layer (type)                Output Shape              Param #   \n",
            "=================================================================\n",
            " embedding (Embedding)       (None, 250, 100)          8000000   \n",
            "                                                                 \n",
            " spatial_dropout1d (SpatialD  (None, 250, 100)         0         \n",
            " ropout1D)                                                       \n",
            "                                                                 \n",
            " lstm (LSTM)                 (None, 64)                42240     \n",
            "                                                                 \n",
            " dense (Dense)               (None, 5)                 325       \n",
            "                                                                 \n",
            "=================================================================\n",
            "Total params: 8,042,565\n",
            "Trainable params: 8,042,565\n",
            "Non-trainable params: 0\n",
            "_________________________________________________________________\n"
          ]
        }
      ]
    },
    {
      "cell_type": "code",
      "source": [
        "from keras.callbacks import ModelCheckpoint, EarlyStopping\n",
        "\n",
        "history = model.fit(X_train, y_train, epochs=epochs, batch_size=batch_size,validation_split=0.2,callbacks=[EarlyStopping(monitor='val_loss',patience=7, min_delta=0.01)])"
      ],
      "metadata": {
        "colab": {
          "base_uri": "https://localhost:8080/"
        },
        "id": "pi2z5agAmzxx",
        "outputId": "1c9a0ba6-a493-4b9f-ef8b-7ddddae93416"
      },
      "execution_count": null,
      "outputs": [
        {
          "output_type": "stream",
          "name": "stdout",
          "text": [
            "Epoch 1/10\n",
            "22/22 [==============================] - 19s 625ms/step - loss: 1.6074 - acc: 0.2146 - val_loss: 1.5986 - val_acc: 0.2342\n",
            "Epoch 2/10\n",
            "22/22 [==============================] - 16s 733ms/step - loss: 1.5943 - acc: 0.2603 - val_loss: 1.5853 - val_acc: 0.2416\n",
            "Epoch 3/10\n",
            "22/22 [==============================] - 21s 937ms/step - loss: 1.5593 - acc: 0.2752 - val_loss: 1.8090 - val_acc: 0.2714\n",
            "Epoch 4/10\n",
            "22/22 [==============================] - 12s 531ms/step - loss: 1.3848 - acc: 0.4086 - val_loss: 1.3394 - val_acc: 0.4052\n",
            "Epoch 5/10\n",
            "22/22 [==============================] - 12s 532ms/step - loss: 1.1456 - acc: 0.5009 - val_loss: 0.9096 - val_acc: 0.7138\n",
            "Epoch 6/10\n",
            "22/22 [==============================] - 12s 525ms/step - loss: 0.9334 - acc: 0.6091 - val_loss: 1.4202 - val_acc: 0.4424\n",
            "Epoch 7/10\n",
            "22/22 [==============================] - 12s 530ms/step - loss: 0.8145 - acc: 0.6716 - val_loss: 1.3532 - val_acc: 0.4647\n",
            "Epoch 8/10\n",
            "22/22 [==============================] - 12s 527ms/step - loss: 0.6701 - acc: 0.7472 - val_loss: 1.0600 - val_acc: 0.5651\n",
            "Epoch 9/10\n",
            "22/22 [==============================] - 12s 526ms/step - loss: 0.6245 - acc: 0.7584 - val_loss: 0.7459 - val_acc: 0.6803\n",
            "Epoch 10/10\n",
            "22/22 [==============================] - 15s 701ms/step - loss: 0.5072 - acc: 0.8153 - val_loss: 0.5363 - val_acc: 0.7584\n"
          ]
        }
      ]
    },
    {
      "cell_type": "code",
      "source": [
        "accr = model.evaluate(X_test,y_test)\n",
        "print('Test set\\n  Loss: {:0.3f}\\n  Accuracy: {:0.3f}'.format(accr[0],accr[1]))"
      ],
      "metadata": {
        "colab": {
          "base_uri": "https://localhost:8080/"
        },
        "id": "CLhdC3dhm1xt",
        "outputId": "35c01f49-d9ab-47bc-9455-2d2d5abffb08"
      },
      "execution_count": null,
      "outputs": [
        {
          "output_type": "stream",
          "name": "stdout",
          "text": [
            "5/5 [==============================] - 0s 49ms/step - loss: 0.4778 - acc: 0.7584\n",
            "Test set\n",
            "  Loss: 0.478\n",
            "  Accuracy: 0.758\n"
          ]
        }
      ]
    },
    {
      "cell_type": "code",
      "source": [
        "import matplotlib.pyplot as plt\n",
        "\n",
        "acc = history.history['acc']\n",
        "val_acc = history.history['val_acc']\n",
        "loss = history.history['loss']\n",
        "val_loss = history.history['val_loss']\n",
        "\n",
        "epochs = range(1, len(acc) + 1)\n",
        "\n",
        "plt.plot(epochs, acc, 'bo', label='Training acc')\n",
        "plt.plot(epochs, val_acc, 'b', label='Validation acc')\n",
        "plt.title('Training and validation accuracy')\n",
        "plt.legend()\n",
        "\n",
        "plt.figure()\n",
        "\n",
        "plt.plot(epochs, loss, 'bo', label='Training loss')\n",
        "plt.plot(epochs, val_loss, 'b', label='Validation loss')\n",
        "plt.title('Training and validation loss')\n",
        "plt.legend()\n",
        "\n",
        "plt.show()"
      ],
      "metadata": {
        "colab": {
          "base_uri": "https://localhost:8080/",
          "height": 545
        },
        "id": "pxp-V5GinBmH",
        "outputId": "ca254180-31e9-402e-c3e0-85854b58937a"
      },
      "execution_count": null,
      "outputs": [
        {
          "output_type": "display_data",
          "data": {
            "text/plain": [
              "<Figure size 432x288 with 1 Axes>"
            ],
            "image/png": "[encoded data removed]"
          },
          "metadata": {
            "needs_background": "light"
          }
        },
        {
          "output_type": "display_data",
          "data": {
            "text/plain": [
              "<Figure size 432x288 with 1 Axes>"
            ],
            "image/png": "[encoded data removed]"
          },
          "metadata": {
            "needs_background": "light"
          }
        }
      ]
    },
    {
      "cell_type": "markdown",
      "source": [
        "## Prediction"
      ],
      "metadata": {
        "id": "EOivlAgKnHFu"
      }
    },
    {
      "cell_type": "code",
      "source": [
        "testSample=[\"A Night to Remember, On Sunday 18 December, Argentina take on France at Lusail Stadium in the FIFA World Cup Qatar 2022™ Final (6 PM Doha time, 4 PM CET). Now, on the biggest stage of all, only one nation can take home football’s greatest prize. Now is the moment we have all been waiting for. Now is All™.\"]\n",
        "seq = tokenizer.texts_to_sequences(testSample)\n",
        "pad = pad_sequences(seq,maxlen=max_len)\n",
        "predict = model.predict(pad)\n",
        "labels = data.Category.unique()\n",
        "print(predict, labels[np.argmax(predict)])"
      ],
      "metadata": {
        "colab": {
          "base_uri": "https://localhost:8080/"
        },
        "id": "o5JRxSPTr7fS",
        "outputId": "5064b7a4-ce3c-4f84-b5c8-f9081b048c46"
      },
      "execution_count": null,
      "outputs": [
        {
          "output_type": "stream",
          "name": "stdout",
          "text": [
            "1/1 [==============================] - 0s 157ms/step\n",
            "[[0.05024257 0.00471845 0.00872042 0.93223596 0.00408266]] sport\n"
          ]
        }
      ]
    },
    {
      "cell_type": "code",
      "source": [
        "model.save(\"LSTM Model\")"
      ],
      "metadata": {
        "id": "Y4VcbdV-umsZ"
      },
      "execution_count": null,
      "outputs": []
    },
    {
      "cell_type": "markdown",
      "source": [
        "## MultinomialNB Model"
      ],
      "metadata": {
        "id": "Fp2HLm1vvNR_"
      }
    },
    {
      "cell_type": "code",
      "source": [
        "#Reading preprocessed data\n",
        "data = pd.read_csv(\"_finalProcessed.csv\").drop(columns=['Unnamed: 0'])\n",
        "data.head()"
      ],
      "metadata": {
        "colab": {
          "base_uri": "https://localhost:8080/",
          "height": 1000
        },
        "id": "wSkQX0A2wv7B",
        "outputId": "ef7b0e62-7457-4509-80a3-b3dd5355fc84"
      },
      "execution_count": null,
      "outputs": [
        {
          "output_type": "execute_result",
          "data": {
            "text/plain": [
              "                                                                                                                                                                                                                                                                                                                                                                                                                                                                                                                                                                                                                                                                                                                                                                                                                                                                                                                                                                                                                                                                                                                                                                                                                                                                                                                                                                                                                                                                                                                                                                                                                                                                                                                                                                                                                                                                                                                                                                                                                                                                                                                                                                                                                                                                                                                                                                                                                                                                                                                                                                                                                                                                                                                                                                                                                                                                                                                                                                                                                                                                                                                                                                                                                                                                                                                           article  \\\n",
              "0                                                                                                                                                                                                                                                                                                                                                                                                                                                                                                                                                                                                                                                                                                                                                                                                                                                                                                                                                                                                                                                                                                                                                                                                                                                                                                                                                                                                                                                            ['worldcom', 'exboss', 'launch', 'defenc', 'lawyer', 'defend', 'former', 'worldcom', 'chief', 'berni', 'ebber', 'batteri', 'fraud', 'charg', 'call', 'compani', 'whistleblow', 'first', 'wit', 'cynthia', 'cooper', 'worldcom', 'exhead', 'intern', 'account', 'alert', 'director', 'irregular', 'account', 'practic', 'u', 'telecom', 'giant', '2002', 'warn', 'led', 'collaps', 'firm', 'follow', 'discoveri', '11bn', '£57bn', 'account', 'fraud', 'mr', 'ebber', 'plead', 'guilti', 'charg', 'fraud', 'conspiraci', 'prosecut', 'lawyer', 'argu', 'mr', 'ebber', 'orchestr', 'seri', 'account', 'trick', 'worldcom', 'order', 'employe', 'hide', 'expens', 'inflat', 'revenu', 'meet', 'wall', 'street', 'earn', 'estim', 'm', 'cooper', 'run', 'consult', 'busi', 'told', 'juri', 'new', 'york', 'wednesday', 'extern', 'auditor', 'arthur', 'andersen', 'approv', 'worldcom', 'account', 'earli', '2001', '2002', 'said', 'andersen', 'given', 'green', 'light', 'procedur', 'practic', 'use', 'worldcom', 'mr', 'ebber', 'lawyer', 'said', 'unawar', 'fraud', 'argu', 'auditor', 'alert', 'problem', 'm', 'cooper', 'also', 'said', 'sharehold', 'meet', 'mr', 'ebber', 'often', 'pas', 'technic', 'question', 'compani', 'financ', 'chief', 'give', 'brief', 'answer', 'prosecut', 'star', 'wit', 'former', 'worldcom', 'financi', 'chief', 'scott', 'sullivan', 'said', 'mr', 'ebber', 'order', 'account', 'adjust', 'firm', 'tell', 'hit', 'book', 'howev', 'm', 'cooper', 'said', 'mr', 'sullivan', 'mention', 'anyth', 'uncomfort', 'worldcom', 'account', '2001', 'audit', 'committe', 'meet', 'mr', 'ebber', 'could', 'face', 'jail', 'sentenc', '85', 'year', 'convict', 'charg', 'face', 'worldcom', 'emerg', 'bankruptci', 'protect', '2004', 'known', 'mci', 'last', 'week', 'mci', 'agre', 'buyout', 'verizon', 'commun', 'deal', 'valu', '675bn']   \n",
              "1                                                                                                                                                                                                                                                                                                                                                                                                                                                                                                                                                                                                                                                                                                                                                                                                                                                                                                                                                                                                                                                                                                                                                                                                                                                                                                                                 ['german', 'busi', 'confid', 'slide', 'german', 'busi', 'confid', 'fell', 'februari', 'knock', 'hope', 'speedi', 'recoveri', 'europ', 'largest', 'economi', 'munichbas', 'research', 'institut', 'ifo', 'said', 'confid', 'index', 'fell', '955', 'februari', '975', 'januari', 'first', 'declin', 'three', 'month', 'studi', 'found', 'outlook', 'manufactur', 'retail', 'sector', 'worsen', 'observ', 'hope', 'confid', 'busi', 'sector', 'would', 'signal', 'econom', 'activ', 'pick', 'surpris', 'ifo', 'index', 'taken', 'knock', 'said', 'dz', 'bank', 'economist', 'bernd', 'weidenstein', 'main', 'reason', 'probabl', 'domest', 'economi', 'still', 'weak', 'particularli', 'retail', 'trade', 'economi', 'labour', 'minist', 'wolfgang', 'clement', 'call', 'dip', 'februari', 'ifo', 'confid', 'figur', 'mild', 'declin', 'said', 'despit', 'retreat', 'index', 'remain', 'rel', 'high', 'level', 'expect', 'modest', 'econom', 'upsw', 'continu', 'germani', 'economi', 'grew', '16', 'last', 'year', 'shrink', '2003', 'howev', 'economi', 'contract', '02', 'last', 'three', 'month', '2004', 'mainli', 'due', 'reluct', 'consum', 'spend', 'latest', 'indic', 'growth', 'still', 'prove', 'elus', 'ifo', 'presid', 'hanswern', 'sinn', 'said', 'improv', 'german', 'domest', 'demand', 'sluggish', 'export', 'kept', 'thing', 'go', 'first', 'half', '2004', 'demand', 'export', 'hit', 'valu', 'euro', 'hit', 'record', 'level', 'make', 'german', 'product', 'le', 'competit', 'oversea', 'top', 'unemploy', 'rate', 'stuck', 'close', '10', 'manufactur', 'firm', 'includ', 'daimlerchrysl', 'siemen', 'volkswagen', 'negoti', 'union', 'cost', 'cut', 'measur', 'analyst', 'said', 'ifo', 'figur', 'germani', 'continu', 'problem', 'may', 'delay', 'interest', 'rate', 'rise', 'european', 'central', 'bank', 'eurozon', 'interest', 'rate', '2', 'comment', 'senior', 'offici', 'recent', 'focus', 'threat', 'inflat', 'prompt', 'fear', 'interest', 'rate', 'may', 'rise']   \n",
              "2                                                                                                                                                                                                                                                                                                                                                                                                                                                                                                 ['bbc', 'poll', 'indic', 'econom', 'gloom', 'citizen', 'major', 'nation', 'survey', 'bbc', 'world', 'servic', 'poll', 'believ', 'world', 'economi', 'worsen', 'respond', 'also', 'said', 'nation', 'economi', 'get', 'wors', 'ask', 'famili', 'financi', 'outlook', 'major', '14', 'countri', 'said', 'posit', 'futur', 'almost', '23', '000', 'peopl', '22', 'countri', 'question', 'poll', 'mostli', 'conduct', 'asian', 'tsunami', 'disast', 'poll', 'found', 'major', 'plural', 'peopl', '13', 'countri', 'believ', 'economi', 'go', 'downhil', 'compar', 'respond', 'nine', 'countri', 'believ', 'improv', 'survey', 'three', 'countri', 'split', 'percentag', 'term', 'averag', '44', 'respond', 'countri', 'said', 'world', 'economi', 'get', 'wors', 'compar', '34', 'said', 'improv', 'similarli', '48', 'pessimist', 'nation', 'economi', '41', 'optimist', '47', 'saw', 'famili', 'econom', 'condit', 'improv', '36', 'said', 'get', 'wors', 'poll', '22', '953', 'peopl', 'conduct', 'intern', 'poll', 'firm', 'globescan', 'togeth', 'program', 'intern', 'polici', 'attitud', 'pipa', 'univers', 'maryland', 'world', 'economi', 'pick', 'difficult', 'time', 'year', 'ago', 'peopl', 'seem', 'fulli', 'absorb', 'develop', 'though', 'person', 'experienc', 'effect', 'said', 'pipa', 'director', 'steven', 'kull', 'peopl', 'around', 'world', 'say', 'ok', 'world', 'may', 'percept', 'war', 'terror', 'religi', 'polit', 'divis', 'make', 'world', 'wors', 'place', 'even', 'though', 'far', 'reflect', 'global', 'econom', 'perform', 'say', 'bbc', 'elizabeth', 'blunt', 'countri', 'peopl', 'optimist', 'world', 'famili', 'two', 'fastgrow', 'develop', 'economi', 'china', 'india', 'follow', 'indonesia', 'china', 'seen', 'two', 'decad', 'blister', 'econom', 'growth', 'led', 'wealth', 'creation', 'huge', 'scale', 'say', 'bbc', 'louisa', 'lim', 'beij', 'result', 'also', 'may', 'reflect', 'untrammel', 'confid', 'peopl', 'subject', 'endless', 'govern', 'propaganda', 'countri', 'rosi', 'econom', 'futur', 'correspond', 'say', 'south', 'korea', 'pessimist', 'respond', 'itali', 'mexico', 'also', 'quit', 'gloomi', 'bbc', 'david', 'willey', 'rome', 'say', 'one', 'reason', 'result', 'changeov', 'lira', 'euro', '2001', 'wide', 'view', 'biggest', 'reason', 'wage', 'salari', 'worth', 'le', 'use', 'philippin', 'among', 'upbeat', 'countri', 'prospect', 'respond', 'famili', 'one', 'pessimist', 'world', 'economi', 'pipa', 'conduct', 'poll', '15', 'novemb', '2004', '3', 'januari', '2005', 'across', '22', 'countri', 'facetofac', 'telephon', 'interview', 'interview', 'took', 'place', '15', 'novemb', '2004', '5', 'januari', '2005', 'margin', 'error', '25', '4', 'point', 'depend', 'countri', 'eight', 'countri', 'sampl', 'limit', 'major', 'metropolitan', 'area']   \n",
              "3  ['lifestyl', 'govern', 'mobil', 'choic', 'faster', 'better', 'funkier', 'hardwar', 'alon', 'go', 'help', 'phone', 'firm', 'sell', 'handset', 'research', 'suggest', 'instead', 'phone', 'firm', 'keen', 'get', 'custom', 'push', 'technolog', 'sake', 'consum', 'far', 'interest', 'handset', 'fit', 'lifestyl', 'screen', 'size', 'onboard', 'memori', 'chip', 'insid', 'show', 'indepth', 'studi', 'handset', 'maker', 'ericsson', 'histor', 'industri', 'much', 'focu', 'use', 'technolog', 'said', 'dr', 'michael', 'bjorn', 'senior', 'advisor', 'mobil', 'medium', 'ericsson', 'consum', 'enterpris', 'lab', 'stop', 'say', 'technolog', 'chang', 'live', 'said', 'tri', 'speak', 'consum', 'languag', 'help', 'see', 'fit', 'told', 'bbc', 'news', 'websit', 'studi', 'ericsson', 'interview', '14', '000', 'mobil', 'phone', 'owner', 'way', 'use', 'phone', 'peopl', 'habit', 'remain', 'said', 'dr', 'bjorn', 'move', 'activ', 'mobil', 'phone', 'much', 'conveni', 'way', 'one', 'good', 'exampl', 'diarywrit', 'among', 'younger', 'peopl', 'said', 'diari', 'alway', 'popular', 'mobil', 'phone', 'especi', 'one', 'equip', 'camera', 'help', 'keep', 'differ', 'form', 'youngster', 'use', 'text', 'messag', 'also', 'reflect', 'desir', 'chat', 'keep', 'contact', 'friend', 'let', 'slightli', 'chang', 'way', 'dr', 'bjorn', 'said', 'although', 'consum', 'alway', 'use', 'phone', 'sheer', 'varieti', 'new', 'handset', 'technolog', 'make', 'possibl', 'gradual', 'drive', 'new', 'habit', 'lifestyl', 'ericsson', 'research', 'shown', 'consum', 'divid', 'differ', 'tribe', 'use', 'phone', 'differ', 'way', 'dr', 'bjorn', 'said', 'group', 'dub', 'pioneer', 'materialist', 'interest', 'tri', 'new', 'thing', 'behind', 'start', 'mani', 'trend', 'phone', 'use', 'instanc', 'said', 'older', 'peopl', 'use', 'sm', 'much', 'five', 'year', 'ago', 'younger', 'user', 'often', 'child', 'age', 'mobil', 'owner', 'encourag', 'older', 'peopl', 'tri', 'could', 'keep', 'touch', 'anoth', 'factor', 'govern', 'speed', 'chang', 'mobil', 'phone', 'use', 'simpl', 'speed', 'new', 'devic', 'bought', 'pioneer', 'materialist', '25', 'peopl', 'handset', 'new', 'innov', 'camera', 'consum', 'stop', 'worri', 'send', 'pictur', 'messag', 'person', 'end', 'abl', 'see', 'signific', 'number', 'user', 'pas', 'use', 'new', 'innov', 'tend', 'take', 'dr', 'bjorn', 'said', 'earli', 'report', 'camera', 'phone', 'usag', 'japan', 'seem', 'impli', 'innov', 'go', 'flop', 'howev', 'said', '45', 'japanes', 'peopl', 'ericsson', 'question', 'use', 'camera', 'phone', 'least', 'month', '2003', 'figur', '29', 'similarli', 'across', 'europ', 'number', 'peopl', 'take', 'snap', 'camera', 'start', 'rise', '2003', '4', 'peopl', 'uk', 'took', 'phonecam', 'snap', 'least', 'month', 'figur', '14', 'similar', 'rise', 'seen', 'mani', 'european', 'nation', 'dr', 'bjorn', 'said', 'peopl', 'also', 'use', 'camera', 'phone', 'differ', 'way', 'film', 'even', 'digit', 'camera', 'usag', 'pattern', 'digit', 'camera', 'almost', 'exactli', 'replac', 'usag', 'pattern', 'analogu', 'camera', 'said', 'digit', 'camera', 'tend', 'use', 'signific', 'event', 'wed', 'holiday', 'birthday', 'contrast', 'said', 'camera', 'phone', 'use', 'much', 'captur', 'moment', 'woven', 'everyday', 'life']   \n",
              "4                                                                                                                                                                                                                                                                                                                                                                                                                                                                                                                                                                                                                                                                                                                                                                                                                                                                                                                                                                                                                                                                                                                                                                                                                                 ['enron', 'bos', '168m', 'payout', 'eighteen', 'former', 'enron', 'director', 'agre', '168m', '£89m', 'settlement', 'deal', 'sharehold', 'lawsuit', 'collaps', 'energi', 'firm', 'lead', 'plaintiff', 'univers', 'california', 'announc', 'news', 'ad', '10', 'former', 'director', 'pay', '13m', 'pocket', 'settlement', 'put', 'court', 'approv', 'next', 'week', 'enron', 'went', 'bankrupt', '2001', 'emerg', 'hidden', 'hundr', 'million', 'dollar', 'debt', 'collaps', 'firm', 'seventh', 'biggest', 'public', 'u', 'compani', 'revenu', 'demis', 'sent', 'shockwav', 'financi', 'market', 'dent', 'investor', 'confid', 'corpor', 'america', 'settlement', 'signific', 'hold', 'outsid', 'director', 'least', 'partial', 'person', 'respons', 'william', 'lerach', 'lawyer', 'lead', 'class', 'action', 'suit', 'enron', 'said', 'hope', 'help', 'send', 'messag', 'corpor', 'boardroom', 'import', 'director', 'perform', 'legal', 'duti', 'ad', 'term', '168m', 'settlement', '155m', 'cover', 'insur', 'none', '18', 'former', 'director', 'admit', 'wrongdo', 'deal', 'fourth', 'major', 'settlement', 'negoti', 'lawyer', 'file', 'class', 'action', 'behalf', 'enron', 'sharehold', 'almost', 'three', 'year', 'ago', 'far', 'includ', 'latest', 'deal', '500m', '£3788m', 'retriev', 'investor', 'howev', 'latest', 'deal', 'includ', 'former', 'enron', 'chief', 'execut', 'ken', 'lay', 'jeff', 'skill', 'men', 'face', 'crimin', 'charg', 'alleg', 'misconduct', 'run', 'firm', 'collaps', 'neither', 'cover', 'andrew', 'fastow', 'plead', 'guilti', 'take', 'part', 'illeg', 'conspiraci', 'chief', 'financi', 'offic', 'group', 'enron', 'sharehold', 'still', 'seek', 'damag', 'long', 'list', 'big', 'name', 'defend', 'includ', 'financi', 'institut', 'jp', 'morgan', 'chase', 'citigroup', 'merril', 'lynch', 'credit', 'suiss', 'first', 'boston', 'univers', 'california', 'said', 'trial', 'case', 'schedul', 'begin', 'octob', '2006', 'join', 'lawsuit', 'decemb', '2001alleg', 'massiv', 'insid', 'trade', 'fraud', 'claim', 'lost', '145m', 'invest', 'compani']   \n",
              "\n",
              "   category  \n",
              "0  business  \n",
              "1  business  \n",
              "2  business  \n",
              "3      tech  \n",
              "4  business  "
            ],
            "text/html": [
              "\n",
              "  <div id=\"df-5b40fb8e-f9a2-4a22-b15a-a9fee9fe9dce\">\n",
              "    <div class=\"colab-df-container\">\n",
              "      <div>\n",
              "<style scoped>\n",
              "    .dataframe tbody tr th:only-of-type {\n",
              "        vertical-align: middle;\n",
              "    }\n",
              "\n",
              "    .dataframe tbody tr th {\n",
              "        vertical-align: top;\n",
              "    }\n",
              "\n",
              "    .dataframe thead th {\n",
              "        text-align: right;\n",
              "    }\n",
              "</style>\n",
              "<table border=\"1\" class=\"dataframe\">\n",
              "  <thead>\n",
              "    <tr style=\"text-align: right;\">\n",
              "      <th></th>\n",
              "      <th>article</th>\n",
              "      <th>category</th>\n",
              "    </tr>\n",
              "  </thead>\n",
              "  <tbody>\n",
              "    <tr>\n",
              "      <th>0</th>\n",
              "      <td>['worldcom', 'exboss', 'launch', 'defenc', 'lawyer', 'defend', 'former', 'worldcom', 'chief', 'berni', 'ebber', 'batteri', 'fraud', 'charg', 'call', 'compani', 'whistleblow', 'first', 'wit', 'cynthia', 'cooper', 'worldcom', 'exhead', 'intern', 'account', 'alert', 'director', 'irregular', 'account', 'practic', 'u', 'telecom', 'giant', '2002', 'warn', 'led', 'collaps', 'firm', 'follow', 'discoveri', '11bn', '£57bn', 'account', 'fraud', 'mr', 'ebber', 'plead', 'guilti', 'charg', 'fraud', 'conspiraci', 'prosecut', 'lawyer', 'argu', 'mr', 'ebber', 'orchestr', 'seri', 'account', 'trick', 'worldcom', 'order', 'employe', 'hide', 'expens', 'inflat', 'revenu', 'meet', 'wall', 'street', 'earn', 'estim', 'm', 'cooper', 'run', 'consult', 'busi', 'told', 'juri', 'new', 'york', 'wednesday', 'extern', 'auditor', 'arthur', 'andersen', 'approv', 'worldcom', 'account', 'earli', '2001', '2002', 'said', 'andersen', 'given', 'green', 'light', 'procedur', 'practic', 'use', 'worldcom', 'mr', 'ebber', 'lawyer', 'said', 'unawar', 'fraud', 'argu', 'auditor', 'alert', 'problem', 'm', 'cooper', 'also', 'said', 'sharehold', 'meet', 'mr', 'ebber', 'often', 'pas', 'technic', 'question', 'compani', 'financ', 'chief', 'give', 'brief', 'answer', 'prosecut', 'star', 'wit', 'former', 'worldcom', 'financi', 'chief', 'scott', 'sullivan', 'said', 'mr', 'ebber', 'order', 'account', 'adjust', 'firm', 'tell', 'hit', 'book', 'howev', 'm', 'cooper', 'said', 'mr', 'sullivan', 'mention', 'anyth', 'uncomfort', 'worldcom', 'account', '2001', 'audit', 'committe', 'meet', 'mr', 'ebber', 'could', 'face', 'jail', 'sentenc', '85', 'year', 'convict', 'charg', 'face', 'worldcom', 'emerg', 'bankruptci', 'protect', '2004', 'known', 'mci', 'last', 'week', 'mci', 'agre', 'buyout', 'verizon', 'commun', 'deal', 'valu', '675bn']</td>\n",
              "      <td>business</td>\n",
              "    </tr>\n",
              "    <tr>\n",
              "      <th>1</th>\n",
              "      <td>['german', 'busi', 'confid', 'slide', 'german', 'busi', 'confid', 'fell', 'februari', 'knock', 'hope', 'speedi', 'recoveri', 'europ', 'largest', 'economi', 'munichbas', 'research', 'institut', 'ifo', 'said', 'confid', 'index', 'fell', '955', 'februari', '975', 'januari', 'first', 'declin', 'three', 'month', 'studi', 'found', 'outlook', 'manufactur', 'retail', 'sector', 'worsen', 'observ', 'hope', 'confid', 'busi', 'sector', 'would', 'signal', 'econom', 'activ', 'pick', 'surpris', 'ifo', 'index', 'taken', 'knock', 'said', 'dz', 'bank', 'economist', 'bernd', 'weidenstein', 'main', 'reason', 'probabl', 'domest', 'economi', 'still', 'weak', 'particularli', 'retail', 'trade', 'economi', 'labour', 'minist', 'wolfgang', 'clement', 'call', 'dip', 'februari', 'ifo', 'confid', 'figur', 'mild', 'declin', 'said', 'despit', 'retreat', 'index', 'remain', 'rel', 'high', 'level', 'expect', 'modest', 'econom', 'upsw', 'continu', 'germani', 'economi', 'grew', '16', 'last', 'year', 'shrink', '2003', 'howev', 'economi', 'contract', '02', 'last', 'three', 'month', '2004', 'mainli', 'due', 'reluct', 'consum', 'spend', 'latest', 'indic', 'growth', 'still', 'prove', 'elus', 'ifo', 'presid', 'hanswern', 'sinn', 'said', 'improv', 'german', 'domest', 'demand', 'sluggish', 'export', 'kept', 'thing', 'go', 'first', 'half', '2004', 'demand', 'export', 'hit', 'valu', 'euro', 'hit', 'record', 'level', 'make', 'german', 'product', 'le', 'competit', 'oversea', 'top', 'unemploy', 'rate', 'stuck', 'close', '10', 'manufactur', 'firm', 'includ', 'daimlerchrysl', 'siemen', 'volkswagen', 'negoti', 'union', 'cost', 'cut', 'measur', 'analyst', 'said', 'ifo', 'figur', 'germani', 'continu', 'problem', 'may', 'delay', 'interest', 'rate', 'rise', 'european', 'central', 'bank', 'eurozon', 'interest', 'rate', '2', 'comment', 'senior', 'offici', 'recent', 'focus', 'threat', 'inflat', 'prompt', 'fear', 'interest', 'rate', 'may', 'rise']</td>\n",
              "      <td>business</td>\n",
              "    </tr>\n",
              "    <tr>\n",
              "      <th>2</th>\n",
              "      <td>['bbc', 'poll', 'indic', 'econom', 'gloom', 'citizen', 'major', 'nation', 'survey', 'bbc', 'world', 'servic', 'poll', 'believ', 'world', 'economi', 'worsen', 'respond', 'also', 'said', 'nation', 'economi', 'get', 'wors', 'ask', 'famili', 'financi', 'outlook', 'major', '14', 'countri', 'said', 'posit', 'futur', 'almost', '23', '000', 'peopl', '22', 'countri', 'question', 'poll', 'mostli', 'conduct', 'asian', 'tsunami', 'disast', 'poll', 'found', 'major', 'plural', 'peopl', '13', 'countri', 'believ', 'economi', 'go', 'downhil', 'compar', 'respond', 'nine', 'countri', 'believ', 'improv', 'survey', 'three', 'countri', 'split', 'percentag', 'term', 'averag', '44', 'respond', 'countri', 'said', 'world', 'economi', 'get', 'wors', 'compar', '34', 'said', 'improv', 'similarli', '48', 'pessimist', 'nation', 'economi', '41', 'optimist', '47', 'saw', 'famili', 'econom', 'condit', 'improv', '36', 'said', 'get', 'wors', 'poll', '22', '953', 'peopl', 'conduct', 'intern', 'poll', 'firm', 'globescan', 'togeth', 'program', 'intern', 'polici', 'attitud', 'pipa', 'univers', 'maryland', 'world', 'economi', 'pick', 'difficult', 'time', 'year', 'ago', 'peopl', 'seem', 'fulli', 'absorb', 'develop', 'though', 'person', 'experienc', 'effect', 'said', 'pipa', 'director', 'steven', 'kull', 'peopl', 'around', 'world', 'say', 'ok', 'world', 'may', 'percept', 'war', 'terror', 'religi', 'polit', 'divis', 'make', 'world', 'wors', 'place', 'even', 'though', 'far', 'reflect', 'global', 'econom', 'perform', 'say', 'bbc', 'elizabeth', 'blunt', 'countri', 'peopl', 'optimist', 'world', 'famili', 'two', 'fastgrow', 'develop', 'economi', 'china', 'india', 'follow', 'indonesia', 'china', 'seen', 'two', 'decad', 'blister', 'econom', 'growth', 'led', 'wealth', 'creation', 'huge', 'scale', 'say', 'bbc', 'louisa', 'lim', 'beij', 'result', 'also', 'may', 'reflect', 'untrammel', 'confid', 'peopl', 'subject', 'endless', 'govern', 'propaganda', 'countri', 'rosi', 'econom', 'futur', 'correspond', 'say', 'south', 'korea', 'pessimist', 'respond', 'itali', 'mexico', 'also', 'quit', 'gloomi', 'bbc', 'david', 'willey', 'rome', 'say', 'one', 'reason', 'result', 'changeov', 'lira', 'euro', '2001', 'wide', 'view', 'biggest', 'reason', 'wage', 'salari', 'worth', 'le', 'use', 'philippin', 'among', 'upbeat', 'countri', 'prospect', 'respond', 'famili', 'one', 'pessimist', 'world', 'economi', 'pipa', 'conduct', 'poll', '15', 'novemb', '2004', '3', 'januari', '2005', 'across', '22', 'countri', 'facetofac', 'telephon', 'interview', 'interview', 'took', 'place', '15', 'novemb', '2004', '5', 'januari', '2005', 'margin', 'error', '25', '4', 'point', 'depend', 'countri', 'eight', 'countri', 'sampl', 'limit', 'major', 'metropolitan', 'area']</td>\n",
              "      <td>business</td>\n",
              "    </tr>\n",
              "    <tr>\n",
              "      <th>3</th>\n",
              "      <td>['lifestyl', 'govern', 'mobil', 'choic', 'faster', 'better', 'funkier', 'hardwar', 'alon', 'go', 'help', 'phone', 'firm', 'sell', 'handset', 'research', 'suggest', 'instead', 'phone', 'firm', 'keen', 'get', 'custom', 'push', 'technolog', 'sake', 'consum', 'far', 'interest', 'handset', 'fit', 'lifestyl', 'screen', 'size', 'onboard', 'memori', 'chip', 'insid', 'show', 'indepth', 'studi', 'handset', 'maker', 'ericsson', 'histor', 'industri', 'much', 'focu', 'use', 'technolog', 'said', 'dr', 'michael', 'bjorn', 'senior', 'advisor', 'mobil', 'medium', 'ericsson', 'consum', 'enterpris', 'lab', 'stop', 'say', 'technolog', 'chang', 'live', 'said', 'tri', 'speak', 'consum', 'languag', 'help', 'see', 'fit', 'told', 'bbc', 'news', 'websit', 'studi', 'ericsson', 'interview', '14', '000', 'mobil', 'phone', 'owner', 'way', 'use', 'phone', 'peopl', 'habit', 'remain', 'said', 'dr', 'bjorn', 'move', 'activ', 'mobil', 'phone', 'much', 'conveni', 'way', 'one', 'good', 'exampl', 'diarywrit', 'among', 'younger', 'peopl', 'said', 'diari', 'alway', 'popular', 'mobil', 'phone', 'especi', 'one', 'equip', 'camera', 'help', 'keep', 'differ', 'form', 'youngster', 'use', 'text', 'messag', 'also', 'reflect', 'desir', 'chat', 'keep', 'contact', 'friend', 'let', 'slightli', 'chang', 'way', 'dr', 'bjorn', 'said', 'although', 'consum', 'alway', 'use', 'phone', 'sheer', 'varieti', 'new', 'handset', 'technolog', 'make', 'possibl', 'gradual', 'drive', 'new', 'habit', 'lifestyl', 'ericsson', 'research', 'shown', 'consum', 'divid', 'differ', 'tribe', 'use', 'phone', 'differ', 'way', 'dr', 'bjorn', 'said', 'group', 'dub', 'pioneer', 'materialist', 'interest', 'tri', 'new', 'thing', 'behind', 'start', 'mani', 'trend', 'phone', 'use', 'instanc', 'said', 'older', 'peopl', 'use', 'sm', 'much', 'five', 'year', 'ago', 'younger', 'user', 'often', 'child', 'age', 'mobil', 'owner', 'encourag', 'older', 'peopl', 'tri', 'could', 'keep', 'touch', 'anoth', 'factor', 'govern', 'speed', 'chang', 'mobil', 'phone', 'use', 'simpl', 'speed', 'new', 'devic', 'bought', 'pioneer', 'materialist', '25', 'peopl', 'handset', 'new', 'innov', 'camera', 'consum', 'stop', 'worri', 'send', 'pictur', 'messag', 'person', 'end', 'abl', 'see', 'signific', 'number', 'user', 'pas', 'use', 'new', 'innov', 'tend', 'take', 'dr', 'bjorn', 'said', 'earli', 'report', 'camera', 'phone', 'usag', 'japan', 'seem', 'impli', 'innov', 'go', 'flop', 'howev', 'said', '45', 'japanes', 'peopl', 'ericsson', 'question', 'use', 'camera', 'phone', 'least', 'month', '2003', 'figur', '29', 'similarli', 'across', 'europ', 'number', 'peopl', 'take', 'snap', 'camera', 'start', 'rise', '2003', '4', 'peopl', 'uk', 'took', 'phonecam', 'snap', 'least', 'month', 'figur', '14', 'similar', 'rise', 'seen', 'mani', 'european', 'nation', 'dr', 'bjorn', 'said', 'peopl', 'also', 'use', 'camera', 'phone', 'differ', 'way', 'film', 'even', 'digit', 'camera', 'usag', 'pattern', 'digit', 'camera', 'almost', 'exactli', 'replac', 'usag', 'pattern', 'analogu', 'camera', 'said', 'digit', 'camera', 'tend', 'use', 'signific', 'event', 'wed', 'holiday', 'birthday', 'contrast', 'said', 'camera', 'phone', 'use', 'much', 'captur', 'moment', 'woven', 'everyday', 'life']</td>\n",
              "      <td>tech</td>\n",
              "    </tr>\n",
              "    <tr>\n",
              "      <th>4</th>\n",
              "      <td>['enron', 'bos', '168m', 'payout', 'eighteen', 'former', 'enron', 'director', 'agre', '168m', '£89m', 'settlement', 'deal', 'sharehold', 'lawsuit', 'collaps', 'energi', 'firm', 'lead', 'plaintiff', 'univers', 'california', 'announc', 'news', 'ad', '10', 'former', 'director', 'pay', '13m', 'pocket', 'settlement', 'put', 'court', 'approv', 'next', 'week', 'enron', 'went', 'bankrupt', '2001', 'emerg', 'hidden', 'hundr', 'million', 'dollar', 'debt', 'collaps', 'firm', 'seventh', 'biggest', 'public', 'u', 'compani', 'revenu', 'demis', 'sent', 'shockwav', 'financi', 'market', 'dent', 'investor', 'confid', 'corpor', 'america', 'settlement', 'signific', 'hold', 'outsid', 'director', 'least', 'partial', 'person', 'respons', 'william', 'lerach', 'lawyer', 'lead', 'class', 'action', 'suit', 'enron', 'said', 'hope', 'help', 'send', 'messag', 'corpor', 'boardroom', 'import', 'director', 'perform', 'legal', 'duti', 'ad', 'term', '168m', 'settlement', '155m', 'cover', 'insur', 'none', '18', 'former', 'director', 'admit', 'wrongdo', 'deal', 'fourth', 'major', 'settlement', 'negoti', 'lawyer', 'file', 'class', 'action', 'behalf', 'enron', 'sharehold', 'almost', 'three', 'year', 'ago', 'far', 'includ', 'latest', 'deal', '500m', '£3788m', 'retriev', 'investor', 'howev', 'latest', 'deal', 'includ', 'former', 'enron', 'chief', 'execut', 'ken', 'lay', 'jeff', 'skill', 'men', 'face', 'crimin', 'charg', 'alleg', 'misconduct', 'run', 'firm', 'collaps', 'neither', 'cover', 'andrew', 'fastow', 'plead', 'guilti', 'take', 'part', 'illeg', 'conspiraci', 'chief', 'financi', 'offic', 'group', 'enron', 'sharehold', 'still', 'seek', 'damag', 'long', 'list', 'big', 'name', 'defend', 'includ', 'financi', 'institut', 'jp', 'morgan', 'chase', 'citigroup', 'merril', 'lynch', 'credit', 'suiss', 'first', 'boston', 'univers', 'california', 'said', 'trial', 'case', 'schedul', 'begin', 'octob', '2006', 'join', 'lawsuit', 'decemb', '2001alleg', 'massiv', 'insid', 'trade', 'fraud', 'claim', 'lost', '145m', 'invest', 'compani']</td>\n",
              "      <td>business</td>\n",
              "    </tr>\n",
              "  </tbody>\n",
              "</table>\n",
              "</div>\n",
              "      <button class=\"colab-df-convert\" onclick=\"convertToInteractive('df-5b40fb8e-f9a2-4a22-b15a-a9fee9fe9dce')\"\n",
              "              title=\"Convert this dataframe to an interactive table.\"\n",
              "              style=\"display:none;\">\n",
              "        \n",
              "  <svg xmlns=\"http://www.w3.org/2000/svg\" height=\"24px\"viewBox=\"0 0 24 24\"\n",
              "       width=\"24px\">\n",
              "    <path d=\"M0 0h24v24H0V0z\" fill=\"none\"/>\n",
              "    <path d=\"M18.56 5.44l.94 2.06.94-2.06 2.06-.94-2.06-.94-.94-2.06-.94 2.06-2.06.94zm-11 1L8.5 8.5l.94-2.06 2.06-.94-2.06-.94L8.5 2.5l-.94 2.06-2.06.94zm10 10l.94 2.06.94-2.06 2.06-.94-2.06-.94-.94-2.06-.94 2.06-2.06.94z\"/><path d=\"M17.41 7.96l-1.37-1.37c-.4-.4-.92-.59-1.43-.59-.52 0-1.04.2-1.43.59L10.3 9.45l-7.72 7.72c-.78.78-.78 2.05 0 2.83L4 21.41c.39.39.9.59 1.41.59.51 0 1.02-.2 1.41-.59l7.78-7.78 2.81-2.81c.8-.78.8-2.07 0-2.86zM5.41 20L4 18.59l7.72-7.72 1.47 1.35L5.41 20z\"/>\n",
              "  </svg>\n",
              "      </button>\n",
              "      \n",
              "  <style>\n",
              "    .colab-df-container {\n",
              "      display:flex;\n",
              "      flex-wrap:wrap;\n",
              "      gap: 12px;\n",
              "    }\n",
              "\n",
              "    .colab-df-convert {\n",
              "      background-color: #E8F0FE;\n",
              "      border: none;\n",
              "      border-radius: 50%;\n",
              "      cursor: pointer;\n",
              "      display: none;\n",
              "      fill: #1967D2;\n",
              "      height: 32px;\n",
              "      padding: 0 0 0 0;\n",
              "      width: 32px;\n",
              "    }\n",
              "\n",
              "    .colab-df-convert:hover {\n",
              "      background-color: #E2EBFA;\n",
              "      box-shadow: 0px 1px 2px rgba(60, 64, 67, 0.3), 0px 1px 3px 1px rgba(60, 64, 67, 0.15);\n",
              "      fill: #174EA6;\n",
              "    }\n",
              "\n",
              "    [theme=dark] .colab-df-convert {\n",
              "      background-color: #3B4455;\n",
              "      fill: #D2E3FC;\n",
              "    }\n",
              "\n",
              "    [theme=dark] .colab-df-convert:hover {\n",
              "      background-color: #434B5C;\n",
              "      box-shadow: 0px 1px 3px 1px rgba(0, 0, 0, 0.15);\n",
              "      filter: drop-shadow(0px 1px 2px rgba(0, 0, 0, 0.3));\n",
              "      fill: #FFFFFF;\n",
              "    }\n",
              "  </style>\n",
              "\n",
              "      <script>\n",
              "        const buttonEl =\n",
              "          document.querySelector('#df-5b40fb8e-f9a2-4a22-b15a-a9fee9fe9dce button.colab-df-convert');\n",
              "        buttonEl.style.display =\n",
              "          google.colab.kernel.accessAllowed ? 'block' : 'none';\n",
              "\n",
              "        async function convertToInteractive(key) {\n",
              "          const element = document.querySelector('#df-5b40fb8e-f9a2-4a22-b15a-a9fee9fe9dce');\n",
              "          const dataTable =\n",
              "            await google.colab.kernel.invokeFunction('convertToInteractive',\n",
              "                                                     [key], {});\n",
              "          if (!dataTable) return;\n",
              "\n",
              "          const docLinkHtml = 'Like what you see? Visit the ' +\n",
              "            '<a target=\"_blank\" href=https://colab.research.google.com/notebooks/data_table.ipynb>data table notebook</a>'\n",
              "            + ' to learn more about interactive tables.';\n",
              "          element.innerHTML = '';\n",
              "          dataTable['output_type'] = 'display_data';\n",
              "          await google.colab.output.renderOutput(dataTable, element);\n",
              "          const docLink = document.createElement('div');\n",
              "          docLink.innerHTML = docLinkHtml;\n",
              "          element.appendChild(docLink);\n",
              "        }\n",
              "      </script>\n",
              "    </div>\n",
              "  </div>\n",
              "  "
            ]
          },
          "metadata": {},
          "execution_count": 153
        }
      ]
    },
    {
      "cell_type": "code",
      "source": [
        "X = data['article']\n",
        "Y = data['category']\n",
        "category = data[\"category\"]"
      ],
      "metadata": {
        "id": "hvlYGSlvxiob"
      },
      "execution_count": null,
      "outputs": []
    },
    {
      "cell_type": "code",
      "source": [
        "def MultinomialNB_model (test_size):\n",
        "    x_train, x_test, y_train, y_test = train_test_split(X,Y, test_size = test_size, random_state = 60,shuffle=True,\n",
        "                                                        stratify=cat)\n",
        "    nb = Pipeline([('tfidf', TfidfVectorizer()),\n",
        "               ('clf', MultinomialNB()),\n",
        "              ])\n",
        "    nb.fit(x_train,y_train)\n",
        "    y_predict = nb.predict(x_test)\n",
        "    train_accuracy = round(nb.score(x_train,y_train)*100)\n",
        "    test_accuracy =round(accuracy_score(y_predict,y_test)*100)\n",
        "    return y_predict,train_accuracy,test_accuracy,x_train, x_test, y_train, y_test,nb"
      ],
      "metadata": {
        "id": "KNRLjCwgvLKe"
      },
      "execution_count": null,
      "outputs": []
    },
    {
      "cell_type": "code",
      "source": [
        "from sklearn.metrics import accuracy_score\n",
        "\n",
        "y_predict,train_accuracy,test_accuracy,x_train, x_test, y_train, y_test,nb = MultinomialNB_model (0.3)\n",
        "\n",
        "train_accuracy,test_accuracy"
      ],
      "metadata": {
        "colab": {
          "base_uri": "https://localhost:8080/"
        },
        "id": "T9dtYpvYvXtx",
        "outputId": "af075d94-522d-4277-8106-8f023a165b2b"
      },
      "execution_count": null,
      "outputs": [
        {
          "output_type": "execute_result",
          "data": {
            "text/plain": [
              "(99, 96)"
            ]
          },
          "metadata": {},
          "execution_count": 159
        }
      ]
    },
    {
      "cell_type": "code",
      "source": [
        "from sklearn.metrics import classification_report\n",
        "\n",
        "target_category = data['category'].unique()\n",
        "print(\"Naive Bayes Train Accuracy Score : {}% \".format(train_accuracy ))\n",
        "print(\"Naive Bayes Test Accuracy Score  : {}% \".format(test_accuracy ))\n",
        "print()\n",
        "print(classification_report(y_predict, y_test, target_names=target_category))"
      ],
      "metadata": {
        "colab": {
          "base_uri": "https://localhost:8080/"
        },
        "id": "FebY4E2bvdbc",
        "outputId": "8b174704-3997-4544-f471-dacdc7e224d5"
      },
      "execution_count": null,
      "outputs": [
        {
          "output_type": "stream",
          "name": "stdout",
          "text": [
            "Naive Bayes Train Accuracy Score : 99% \n",
            "Naive Bayes Test Accuracy Score  : 96% \n",
            "\n",
            "               precision    recall  f1-score   support\n",
            "\n",
            "     business       0.98      0.95      0.97       104\n",
            "         tech       0.93      1.00      0.96        76\n",
            "     politics       0.94      0.92      0.93        84\n",
            "        sport       1.00      0.99      1.00       105\n",
            "entertainment       0.95      0.95      0.95        78\n",
            "\n",
            "     accuracy                           0.96       447\n",
            "    macro avg       0.96      0.96      0.96       447\n",
            " weighted avg       0.96      0.96      0.96       447\n",
            "\n"
          ]
        }
      ]
    },
    {
      "cell_type": "code",
      "source": [
        "NB_df = pd.DataFrame(columns = ['Test Size','Predictions','Accuracy', 'Test'])\n",
        "for i in np.arange(0.1,1.,0.1):\n",
        "    acc, pred, test2, x_train2, x_test2, y_train2, y_test2, nb = MultinomialNB_model(i)\n",
        "    NB_df.loc[len(NB_df.index)] = [i*100, acc, pred, test2]\n",
        "NB_df"
      ],
      "metadata": {
        "colab": {
          "base_uri": "https://localhost:8080/",
          "height": 1000
        },
        "id": "SxABj-8Jx34n",
        "outputId": "65ff48c2-7168-4bc5-f2c7-d5b0e2fcb86f"
      },
      "execution_count": null,
      "outputs": [
        {
          "output_type": "execute_result",
          "data": {
            "text/plain": [
              "   Test Size  \\\n",
              "0       10.0   \n",
              "1       20.0   \n",
              "2       30.0   \n",
              "3       40.0   \n",
              "4       50.0   \n",
              "5       60.0   \n",
              "6       70.0   \n",
              "7       80.0   \n",
              "8       90.0   \n",
              "\n",
              "                                                                                                                                                                                                                                                                                                                                                                                                                                                                                                                                                                                                                                                                                                                                                                                                                                                                                                                                                                                                                        Predictions  \\\n",
              "0                                     [entertainment, politics, sport, politics, sport, tech, politics, business, politics, business, tech, business, entertainment, sport, politics, sport, business, entertainment, entertainment, entertainment, entertainment, politics, sport, business, tech, business, business, business, business, sport, business, tech, business, sport, tech, sport, entertainment, sport, sport, politics, politics, entertainment, entertainment, entertainment, entertainment, sport, politics, entertainment, politics, tech, sport, tech, politics, entertainment, business, tech, sport, tech, tech, business, sport, politics, entertainment, tech, sport, sport, sport, tech, sport, sport, entertainment, tech, business, entertainment, sport, sport, tech, politics, business, entertainment, sport, politics, sport, business, tech, business, business, politics, politics, tech, politics, business, entertainment, politics, business, entertainment, politics, sport, tech, sport, ...]   \n",
              "1                                                                     [sport, politics, sport, politics, sport, sport, entertainment, business, sport, tech, business, tech, entertainment, politics, entertainment, business, tech, sport, entertainment, tech, tech, business, entertainment, entertainment, sport, entertainment, business, politics, business, sport, sport, business, tech, sport, tech, entertainment, sport, business, business, sport, tech, business, tech, politics, entertainment, politics, sport, politics, tech, politics, sport, sport, politics, tech, politics, sport, sport, business, politics, politics, sport, tech, politics, tech, tech, tech, politics, tech, entertainment, business, entertainment, business, business, business, entertainment, sport, politics, tech, business, politics, business, politics, business, sport, sport, entertainment, sport, politics, tech, politics, entertainment, politics, sport, business, sport, business, politics, sport, sport, politics, ...]   \n",
              "2                                                       [entertainment, politics, tech, sport, tech, business, sport, business, politics, politics, business, business, politics, entertainment, tech, business, tech, business, business, tech, politics, business, sport, politics, politics, tech, tech, business, business, tech, politics, sport, politics, tech, sport, sport, business, politics, tech, business, business, sport, business, business, sport, business, business, business, sport, entertainment, tech, entertainment, sport, entertainment, politics, business, business, tech, sport, sport, tech, sport, politics, business, tech, business, sport, tech, entertainment, politics, entertainment, sport, entertainment, business, politics, tech, business, politics, tech, tech, business, tech, sport, sport, politics, tech, sport, entertainment, entertainment, entertainment, business, tech, business, politics, entertainment, entertainment, entertainment, entertainment, politics, sport, ...]   \n",
              "3                                                                        [business, business, sport, sport, politics, tech, politics, tech, politics, business, politics, entertainment, sport, politics, entertainment, politics, tech, tech, business, politics, politics, sport, tech, business, entertainment, sport, tech, business, entertainment, entertainment, business, business, business, tech, entertainment, business, entertainment, sport, tech, business, business, sport, business, sport, tech, entertainment, business, sport, sport, sport, business, sport, sport, tech, sport, politics, politics, politics, entertainment, business, politics, business, entertainment, sport, politics, politics, sport, entertainment, entertainment, politics, politics, entertainment, tech, business, business, business, tech, entertainment, tech, business, tech, business, tech, business, business, sport, sport, tech, business, sport, tech, tech, sport, sport, tech, tech, business, sport, tech, sport, ...]   \n",
              "4                                        [tech, business, politics, business, entertainment, business, tech, sport, entertainment, sport, entertainment, politics, entertainment, entertainment, entertainment, sport, business, sport, tech, business, business, business, business, entertainment, sport, business, tech, politics, business, politics, business, politics, business, tech, tech, sport, tech, tech, sport, entertainment, politics, tech, sport, politics, tech, entertainment, politics, tech, tech, tech, politics, politics, entertainment, sport, sport, tech, entertainment, politics, tech, business, sport, sport, business, business, tech, business, politics, business, sport, sport, tech, entertainment, sport, sport, tech, entertainment, entertainment, politics, politics, tech, politics, entertainment, politics, tech, entertainment, sport, business, entertainment, sport, sport, entertainment, sport, politics, business, sport, business, sport, politics, business, entertainment, ...]   \n",
              "5     [sport, sport, sport, tech, sport, politics, entertainment, tech, business, tech, business, tech, tech, business, politics, entertainment, entertainment, sport, entertainment, business, sport, politics, tech, business, business, entertainment, tech, sport, entertainment, entertainment, tech, business, business, politics, tech, sport, tech, tech, entertainment, business, business, politics, sport, business, sport, politics, sport, politics, sport, politics, tech, entertainment, business, entertainment, business, politics, entertainment, entertainment, business, politics, sport, tech, business, business, entertainment, entertainment, business, entertainment, politics, sport, business, business, entertainment, entertainment, politics, business, entertainment, sport, business, business, tech, tech, business, business, business, entertainment, politics, tech, entertainment, entertainment, entertainment, tech, politics, tech, business, sport, business, politics, sport, sport, ...]   \n",
              "6                                                                                   [entertainment, business, tech, sport, politics, business, tech, sport, entertainment, entertainment, business, sport, tech, tech, sport, politics, politics, tech, sport, sport, business, tech, business, business, tech, tech, politics, entertainment, business, business, business, politics, business, business, politics, tech, politics, sport, sport, business, tech, sport, entertainment, sport, business, tech, business, tech, politics, entertainment, sport, business, sport, sport, politics, sport, politics, entertainment, politics, sport, sport, politics, business, business, sport, politics, sport, business, tech, business, tech, business, tech, entertainment, politics, tech, entertainment, politics, entertainment, politics, sport, tech, sport, entertainment, politics, sport, tech, politics, business, tech, tech, politics, sport, tech, business, business, entertainment, tech, business, business, ...]   \n",
              "7  [business, entertainment, sport, entertainment, politics, sport, tech, entertainment, tech, politics, politics, tech, sport, politics, business, entertainment, entertainment, politics, politics, politics, business, entertainment, sport, business, entertainment, tech, business, business, sport, tech, sport, entertainment, business, tech, politics, entertainment, tech, sport, politics, politics, business, business, politics, tech, politics, politics, business, business, tech, sport, business, entertainment, business, politics, entertainment, politics, business, entertainment, sport, sport, entertainment, business, entertainment, sport, sport, sport, politics, business, business, business, entertainment, politics, sport, sport, tech, entertainment, sport, business, politics, entertainment, politics, business, tech, sport, tech, entertainment, sport, sport, politics, business, business, business, politics, entertainment, tech, politics, tech, business, entertainment, business, ...]   \n",
              "8                                                                         [business, tech, business, tech, entertainment, politics, politics, tech, politics, entertainment, entertainment, politics, sport, sport, business, politics, tech, sport, sport, tech, business, sport, sport, sport, politics, tech, politics, tech, sport, politics, business, business, sport, tech, business, tech, tech, tech, sport, business, business, tech, business, politics, business, sport, tech, tech, entertainment, entertainment, tech, business, business, business, tech, business, politics, business, business, business, business, politics, entertainment, sport, tech, business, tech, business, business, sport, sport, sport, business, entertainment, entertainment, tech, tech, business, entertainment, entertainment, politics, entertainment, business, business, politics, politics, politics, business, politics, sport, politics, tech, sport, tech, sport, tech, business, sport, entertainment, entertainment, ...]   \n",
              "\n",
              "  Accuracy Test  \n",
              "0       99   97  \n",
              "1       99   97  \n",
              "2       99   96  \n",
              "3       99   97  \n",
              "4       99   97  \n",
              "5       99   96  \n",
              "6       99   96  \n",
              "7      100   95  \n",
              "8      100   91  "
            ],
            "text/html": [
              "\n",
              "  <div id=\"df-2871a09d-5997-422d-9505-7d80464ca8f8\">\n",
              "    <div class=\"colab-df-container\">\n",
              "      <div>\n",
              "<style scoped>\n",
              "    .dataframe tbody tr th:only-of-type {\n",
              "        vertical-align: middle;\n",
              "    }\n",
              "\n",
              "    .dataframe tbody tr th {\n",
              "        vertical-align: top;\n",
              "    }\n",
              "\n",
              "    .dataframe thead th {\n",
              "        text-align: right;\n",
              "    }\n",
              "</style>\n",
              "<table border=\"1\" class=\"dataframe\">\n",
              "  <thead>\n",
              "    <tr style=\"text-align: right;\">\n",
              "      <th></th>\n",
              "      <th>Test Size</th>\n",
              "      <th>Predictions</th>\n",
              "      <th>Accuracy</th>\n",
              "      <th>Test</th>\n",
              "    </tr>\n",
              "  </thead>\n",
              "  <tbody>\n",
              "    <tr>\n",
              "      <th>0</th>\n",
              "      <td>10.0</td>\n",
              "      <td>[entertainment, politics, sport, politics, sport, tech, politics, business, politics, business, tech, business, entertainment, sport, politics, sport, business, entertainment, entertainment, entertainment, entertainment, politics, sport, business, tech, business, business, business, business, sport, business, tech, business, sport, tech, sport, entertainment, sport, sport, politics, politics, entertainment, entertainment, entertainment, entertainment, sport, politics, entertainment, politics, tech, sport, tech, politics, entertainment, business, tech, sport, tech, tech, business, sport, politics, entertainment, tech, sport, sport, sport, tech, sport, sport, entertainment, tech, business, entertainment, sport, sport, tech, politics, business, entertainment, sport, politics, sport, business, tech, business, business, politics, politics, tech, politics, business, entertainment, politics, business, entertainment, politics, sport, tech, sport, ...]</td>\n",
              "      <td>99</td>\n",
              "      <td>97</td>\n",
              "    </tr>\n",
              "    <tr>\n",
              "      <th>1</th>\n",
              "      <td>20.0</td>\n",
              "      <td>[sport, politics, sport, politics, sport, sport, entertainment, business, sport, tech, business, tech, entertainment, politics, entertainment, business, tech, sport, entertainment, tech, tech, business, entertainment, entertainment, sport, entertainment, business, politics, business, sport, sport, business, tech, sport, tech, entertainment, sport, business, business, sport, tech, business, tech, politics, entertainment, politics, sport, politics, tech, politics, sport, sport, politics, tech, politics, sport, sport, business, politics, politics, sport, tech, politics, tech, tech, tech, politics, tech, entertainment, business, entertainment, business, business, business, entertainment, sport, politics, tech, business, politics, business, politics, business, sport, sport, entertainment, sport, politics, tech, politics, entertainment, politics, sport, business, sport, business, politics, sport, sport, politics, ...]</td>\n",
              "      <td>99</td>\n",
              "      <td>97</td>\n",
              "    </tr>\n",
              "    <tr>\n",
              "      <th>2</th>\n",
              "      <td>30.0</td>\n",
              "      <td>[entertainment, politics, tech, sport, tech, business, sport, business, politics, politics, business, business, politics, entertainment, tech, business, tech, business, business, tech, politics, business, sport, politics, politics, tech, tech, business, business, tech, politics, sport, politics, tech, sport, sport, business, politics, tech, business, business, sport, business, business, sport, business, business, business, sport, entertainment, tech, entertainment, sport, entertainment, politics, business, business, tech, sport, sport, tech, sport, politics, business, tech, business, sport, tech, entertainment, politics, entertainment, sport, entertainment, business, politics, tech, business, politics, tech, tech, business, tech, sport, sport, politics, tech, sport, entertainment, entertainment, entertainment, business, tech, business, politics, entertainment, entertainment, entertainment, entertainment, politics, sport, ...]</td>\n",
              "      <td>99</td>\n",
              "      <td>96</td>\n",
              "    </tr>\n",
              "    <tr>\n",
              "      <th>3</th>\n",
              "      <td>40.0</td>\n",
              "      <td>[business, business, sport, sport, politics, tech, politics, tech, politics, business, politics, entertainment, sport, politics, entertainment, politics, tech, tech, business, politics, politics, sport, tech, business, entertainment, sport, tech, business, entertainment, entertainment, business, business, business, tech, entertainment, business, entertainment, sport, tech, business, business, sport, business, sport, tech, entertainment, business, sport, sport, sport, business, sport, sport, tech, sport, politics, politics, politics, entertainment, business, politics, business, entertainment, sport, politics, politics, sport, entertainment, entertainment, politics, politics, entertainment, tech, business, business, business, tech, entertainment, tech, business, tech, business, tech, business, business, sport, sport, tech, business, sport, tech, tech, sport, sport, tech, tech, business, sport, tech, sport, ...]</td>\n",
              "      <td>99</td>\n",
              "      <td>97</td>\n",
              "    </tr>\n",
              "    <tr>\n",
              "      <th>4</th>\n",
              "      <td>50.0</td>\n",
              "      <td>[tech, business, politics, business, entertainment, business, tech, sport, entertainment, sport, entertainment, politics, entertainment, entertainment, entertainment, sport, business, sport, tech, business, business, business, business, entertainment, sport, business, tech, politics, business, politics, business, politics, business, tech, tech, sport, tech, tech, sport, entertainment, politics, tech, sport, politics, tech, entertainment, politics, tech, tech, tech, politics, politics, entertainment, sport, sport, tech, entertainment, politics, tech, business, sport, sport, business, business, tech, business, politics, business, sport, sport, tech, entertainment, sport, sport, tech, entertainment, entertainment, politics, politics, tech, politics, entertainment, politics, tech, entertainment, sport, business, entertainment, sport, sport, entertainment, sport, politics, business, sport, business, sport, politics, business, entertainment, ...]</td>\n",
              "      <td>99</td>\n",
              "      <td>97</td>\n",
              "    </tr>\n",
              "    <tr>\n",
              "      <th>5</th>\n",
              "      <td>60.0</td>\n",
              "      <td>[sport, sport, sport, tech, sport, politics, entertainment, tech, business, tech, business, tech, tech, business, politics, entertainment, entertainment, sport, entertainment, business, sport, politics, tech, business, business, entertainment, tech, sport, entertainment, entertainment, tech, business, business, politics, tech, sport, tech, tech, entertainment, business, business, politics, sport, business, sport, politics, sport, politics, sport, politics, tech, entertainment, business, entertainment, business, politics, entertainment, entertainment, business, politics, sport, tech, business, business, entertainment, entertainment, business, entertainment, politics, sport, business, business, entertainment, entertainment, politics, business, entertainment, sport, business, business, tech, tech, business, business, business, entertainment, politics, tech, entertainment, entertainment, entertainment, tech, politics, tech, business, sport, business, politics, sport, sport, ...]</td>\n",
              "      <td>99</td>\n",
              "      <td>96</td>\n",
              "    </tr>\n",
              "    <tr>\n",
              "      <th>6</th>\n",
              "      <td>70.0</td>\n",
              "      <td>[entertainment, business, tech, sport, politics, business, tech, sport, entertainment, entertainment, business, sport, tech, tech, sport, politics, politics, tech, sport, sport, business, tech, business, business, tech, tech, politics, entertainment, business, business, business, politics, business, business, politics, tech, politics, sport, sport, business, tech, sport, entertainment, sport, business, tech, business, tech, politics, entertainment, sport, business, sport, sport, politics, sport, politics, entertainment, politics, sport, sport, politics, business, business, sport, politics, sport, business, tech, business, tech, business, tech, entertainment, politics, tech, entertainment, politics, entertainment, politics, sport, tech, sport, entertainment, politics, sport, tech, politics, business, tech, tech, politics, sport, tech, business, business, entertainment, tech, business, business, ...]</td>\n",
              "      <td>99</td>\n",
              "      <td>96</td>\n",
              "    </tr>\n",
              "    <tr>\n",
              "      <th>7</th>\n",
              "      <td>80.0</td>\n",
              "      <td>[business, entertainment, sport, entertainment, politics, sport, tech, entertainment, tech, politics, politics, tech, sport, politics, business, entertainment, entertainment, politics, politics, politics, business, entertainment, sport, business, entertainment, tech, business, business, sport, tech, sport, entertainment, business, tech, politics, entertainment, tech, sport, politics, politics, business, business, politics, tech, politics, politics, business, business, tech, sport, business, entertainment, business, politics, entertainment, politics, business, entertainment, sport, sport, entertainment, business, entertainment, sport, sport, sport, politics, business, business, business, entertainment, politics, sport, sport, tech, entertainment, sport, business, politics, entertainment, politics, business, tech, sport, tech, entertainment, sport, sport, politics, business, business, business, politics, entertainment, tech, politics, tech, business, entertainment, business, ...]</td>\n",
              "      <td>100</td>\n",
              "      <td>95</td>\n",
              "    </tr>\n",
              "    <tr>\n",
              "      <th>8</th>\n",
              "      <td>90.0</td>\n",
              "      <td>[business, tech, business, tech, entertainment, politics, politics, tech, politics, entertainment, entertainment, politics, sport, sport, business, politics, tech, sport, sport, tech, business, sport, sport, sport, politics, tech, politics, tech, sport, politics, business, business, sport, tech, business, tech, tech, tech, sport, business, business, tech, business, politics, business, sport, tech, tech, entertainment, entertainment, tech, business, business, business, tech, business, politics, business, business, business, business, politics, entertainment, sport, tech, business, tech, business, business, sport, sport, sport, business, entertainment, entertainment, tech, tech, business, entertainment, entertainment, politics, entertainment, business, business, politics, politics, politics, business, politics, sport, politics, tech, sport, tech, sport, tech, business, sport, entertainment, entertainment, ...]</td>\n",
              "      <td>100</td>\n",
              "      <td>91</td>\n",
              "    </tr>\n",
              "  </tbody>\n",
              "</table>\n",
              "</div>\n",
              "      <button class=\"colab-df-convert\" onclick=\"convertToInteractive('df-2871a09d-5997-422d-9505-7d80464ca8f8')\"\n",
              "              title=\"Convert this dataframe to an interactive table.\"\n",
              "              style=\"display:none;\">\n",
              "        \n",
              "  <svg xmlns=\"http://www.w3.org/2000/svg\" height=\"24px\"viewBox=\"0 0 24 24\"\n",
              "       width=\"24px\">\n",
              "    <path d=\"M0 0h24v24H0V0z\" fill=\"none\"/>\n",
              "    <path d=\"M18.56 5.44l.94 2.06.94-2.06 2.06-.94-2.06-.94-.94-2.06-.94 2.06-2.06.94zm-11 1L8.5 8.5l.94-2.06 2.06-.94-2.06-.94L8.5 2.5l-.94 2.06-2.06.94zm10 10l.94 2.06.94-2.06 2.06-.94-2.06-.94-.94-2.06-.94 2.06-2.06.94z\"/><path d=\"M17.41 7.96l-1.37-1.37c-.4-.4-.92-.59-1.43-.59-.52 0-1.04.2-1.43.59L10.3 9.45l-7.72 7.72c-.78.78-.78 2.05 0 2.83L4 21.41c.39.39.9.59 1.41.59.51 0 1.02-.2 1.41-.59l7.78-7.78 2.81-2.81c.8-.78.8-2.07 0-2.86zM5.41 20L4 18.59l7.72-7.72 1.47 1.35L5.41 20z\"/>\n",
              "  </svg>\n",
              "      </button>\n",
              "      \n",
              "  <style>\n",
              "    .colab-df-container {\n",
              "      display:flex;\n",
              "      flex-wrap:wrap;\n",
              "      gap: 12px;\n",
              "    }\n",
              "\n",
              "    .colab-df-convert {\n",
              "      background-color: #E8F0FE;\n",
              "      border: none;\n",
              "      border-radius: 50%;\n",
              "      cursor: pointer;\n",
              "      display: none;\n",
              "      fill: #1967D2;\n",
              "      height: 32px;\n",
              "      padding: 0 0 0 0;\n",
              "      width: 32px;\n",
              "    }\n",
              "\n",
              "    .colab-df-convert:hover {\n",
              "      background-color: #E2EBFA;\n",
              "      box-shadow: 0px 1px 2px rgba(60, 64, 67, 0.3), 0px 1px 3px 1px rgba(60, 64, 67, 0.15);\n",
              "      fill: #174EA6;\n",
              "    }\n",
              "\n",
              "    [theme=dark] .colab-df-convert {\n",
              "      background-color: #3B4455;\n",
              "      fill: #D2E3FC;\n",
              "    }\n",
              "\n",
              "    [theme=dark] .colab-df-convert:hover {\n",
              "      background-color: #434B5C;\n",
              "      box-shadow: 0px 1px 3px 1px rgba(0, 0, 0, 0.15);\n",
              "      filter: drop-shadow(0px 1px 2px rgba(0, 0, 0, 0.3));\n",
              "      fill: #FFFFFF;\n",
              "    }\n",
              "  </style>\n",
              "\n",
              "      <script>\n",
              "        const buttonEl =\n",
              "          document.querySelector('#df-2871a09d-5997-422d-9505-7d80464ca8f8 button.colab-df-convert');\n",
              "        buttonEl.style.display =\n",
              "          google.colab.kernel.accessAllowed ? 'block' : 'none';\n",
              "\n",
              "        async function convertToInteractive(key) {\n",
              "          const element = document.querySelector('#df-2871a09d-5997-422d-9505-7d80464ca8f8');\n",
              "          const dataTable =\n",
              "            await google.colab.kernel.invokeFunction('convertToInteractive',\n",
              "                                                     [key], {});\n",
              "          if (!dataTable) return;\n",
              "\n",
              "          const docLinkHtml = 'Like what you see? Visit the ' +\n",
              "            '<a target=\"_blank\" href=https://colab.research.google.com/notebooks/data_table.ipynb>data table notebook</a>'\n",
              "            + ' to learn more about interactive tables.';\n",
              "          element.innerHTML = '';\n",
              "          dataTable['output_type'] = 'display_data';\n",
              "          await google.colab.output.renderOutput(dataTable, element);\n",
              "          const docLink = document.createElement('div');\n",
              "          docLink.innerHTML = docLinkHtml;\n",
              "          element.appendChild(docLink);\n",
              "        }\n",
              "      </script>\n",
              "    </div>\n",
              "  </div>\n",
              "  "
            ]
          },
          "metadata": {},
          "execution_count": 164
        }
      ]
    },
    {
      "cell_type": "code",
      "source": [
        "plt.plot(NB_df['Test Size'], NB_df['Accuracy'])\n",
        "plt.grid()\n",
        "plt.show()"
      ],
      "metadata": {
        "colab": {
          "base_uri": "https://localhost:8080/",
          "height": 265
        },
        "id": "W5yH6TdyyH9K",
        "outputId": "18ad8a96-303c-4879-861d-dafe357e76a4"
      },
      "execution_count": null,
      "outputs": [
        {
          "output_type": "display_data",
          "data": {
            "text/plain": [
              "<Figure size 432x288 with 1 Axes>"
            ],
            "image/png": "[encoded data removed]"
          },
          "metadata": {}
        }
      ]
    },
    {
      "cell_type": "code",
      "source": [
        "from sklearn.metrics import confusion_matrix, ConfusionMatrixDisplay\n",
        "cm = confusion_matrix(y_test, y_predict)\n",
        "\n",
        "disp = ConfusionMatrixDisplay(confusion_matrix=cm,display_labels=nb.classes_)\n",
        "disp.plot()\n",
        "plt.show()"
      ],
      "metadata": {
        "colab": {
          "base_uri": "https://localhost:8080/",
          "height": 282
        },
        "id": "VdsKG-dFyUnG",
        "outputId": "d5f9cfdb-82b7-49f7-8ad0-0da92b111fbd"
      },
      "execution_count": null,
      "outputs": [
        {
          "output_type": "display_data",
          "data": {
            "text/plain": [
              "<Figure size 432x288 with 2 Axes>"
            ],
            "image/png": "[encoded data removed]"
          },
          "metadata": {}
        }
      ]
    },
    {
      "cell_type": "markdown",
      "source": [
        "## Prediction"
      ],
      "metadata": {
        "id": "DqgFrsGPycQ-"
      }
    },
    {
      "cell_type": "code",
      "source": [
        "test_text =[\"A Night to Remember, On Sunday 18 December, Argentina take on France at Lusail Stadium in the FIFA World Cup Qatar 2022™ Final (6 PM Doha time, 4 PM CET). Now, on the biggest stage of all, only one nation can take home football’s greatest prize. Now is the moment we have all been waiting for. Now is All™.\"]\n",
        "seq = tokenizer.texts_to_sequences(test_text)\n",
        "pad = pad_sequences(seq,maxlen=max_len)\n",
        "predict = model.predict(pad)\n",
        "labels = data.category.unique()\n",
        "print(predict, labels[np.argmax(predict)])"
      ],
      "metadata": {
        "colab": {
          "base_uri": "https://localhost:8080/"
        },
        "id": "X1giqQWMyWXi",
        "outputId": "276864ea-fbb8-4a86-92ce-a0ee4023655c"
      },
      "execution_count": null,
      "outputs": [
        {
          "output_type": "stream",
          "name": "stdout",
          "text": [
            "1/1 [==============================] - 0s 202ms/step\n",
            "[[0.05024257 0.00471845 0.00872042 0.93223596 0.00408266]] sport\n"
          ]
        }
      ]
    },
    {
      "cell_type": "code",
      "source": [
        "model.save(\"NB_model\")"
      ],
      "metadata": {
        "id": "-jekhFbryjod"
      },
      "execution_count": null,
      "outputs": []
    },
    {
      "cell_type": "code",
      "source": [],
      "metadata": {
        "id": "mHV6-K6ZytPw"
      },
      "execution_count": null,
      "outputs": []
    }
  ]
}